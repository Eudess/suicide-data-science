{
 "cells": [
  {
   "cell_type": "code",
   "execution_count": 2,
   "metadata": {},
   "outputs": [],
   "source": [
    "arq = open(\"../csvs/employmenttoPopulationRatio(%ages15andOlder).csv\",\"r\")\n",
    "texto = arq.readlines()\n",
    "arq.close()\n",
    "for indice in range(1,len(texto)):\n",
    "    if \" \" in texto[indice][0]:\n",
    "        texto[indice] = texto[indice][1:]\n",
    "arq = open(\"new_employmenttoPopulationRatio(%ages15andOlder).csv\",\"w\")\n",
    "arq.writelines(texto)\n",
    "arq.close()"
   ]
  }
 ],
 "metadata": {
  "kernelspec": {
   "display_name": "Python 3",
   "language": "python",
   "name": "python3"
  },
  "language_info": {
   "codemirror_mode": {
    "name": "ipython",
    "version": 3
   },
   "file_extension": ".py",
   "mimetype": "text/x-python",
   "name": "python",
   "nbconvert_exporter": "python",
   "pygments_lexer": "ipython3",
   "version": "3.6.5"
  }
 },
 "nbformat": 4,
 "nbformat_minor": 2
}
