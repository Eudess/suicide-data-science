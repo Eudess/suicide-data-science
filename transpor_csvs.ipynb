{
 "cells": [
  {
   "cell_type": "code",
   "execution_count": 10,
   "metadata": {},
   "outputs": [],
   "source": [
    "# Para entendimento leia: tratamento_colunas_csvs - Tutorial"
   ]
  },
  {
   "cell_type": "code",
   "execution_count": 15,
   "metadata": {},
   "outputs": [],
   "source": [
    "import pandas as pd"
   ]
  },
  {
   "cell_type": "code",
   "execution_count": 16,
   "metadata": {},
   "outputs": [],
   "source": [
    "# Ler o csv que não esteja codificado em utf-8\n",
    "def read_base(csv, skiprows = None):\n",
    "    df = pd.read_csv(csv, encoding = 'iso-8859-1', skiprows = skiprows )\n",
    "    return df"
   ]
  },
  {
   "cell_type": "code",
   "execution_count": 17,
   "metadata": {},
   "outputs": [],
   "source": [
    "# Ler o css e dropa colunas\n",
    "def prepare_df(csv = '', skip_rows = None, drop_colunms = [], axis = 1 ):    \n",
    "    data_frame = pd.read_csv(csv, skiprows = skip_rows)\n",
    "    data_frame = data_frame.drop(labels = drop_colunms, axis = axis)   \n",
    "    return data_frame"
   ]
  },
  {
   "cell_type": "code",
   "execution_count": 18,
   "metadata": {},
   "outputs": [],
   "source": [
    "# transpoe as colunas em linhas e recupera o valor desejado\n",
    "def colunms_transp (frame,  colunm_base='', convert_colunms =[], var_name=None, value_name='value'):\n",
    "    data_frame = pd.melt(frame, id_vars=[colunm_base], value_vars=convert_colunms, var_name= var_name, value_name=value_name)\n",
    "    return data_frame\n",
    "    "
   ]
  },
  {
   "cell_type": "code",
   "execution_count": 19,
   "metadata": {},
   "outputs": [],
   "source": [
    "# Exporta o csv sem criar colula pra o index:\n",
    "def export_csv(data_frame, csv_address = None, sep=\";\"):\n",
    "    data_frame.to_csv(csv_address, index = False, sep=sep)"
   ]
  },
  {
   "cell_type": "code",
   "execution_count": 46,
   "metadata": {},
   "outputs": [
    {
     "name": "stdout",
     "output_type": "stream",
     "text": [
      "['2000', '2001', '2002', '2003', '2004', '2005', '2006', '2007', '2008', '2009']\n"
     ]
    }
   ],
   "source": [
    "numbers = list(range(2000,2010))\n",
    "numbers_strings = list(map(str,numbers))\n",
    "print(l2)\n"
   ]
  },
  {
   "cell_type": "code",
   "execution_count": 48,
   "metadata": {},
   "outputs": [],
   "source": [
    "numbers = list(range(1960,2018))\n",
    "numbers_strings = list(map(str,numbers))\n",
    "df = prepare_df(\"../converted/TotalPopulationCountries.csv\", 4, [\"Country Code\", \"Indicator Name\", \"Indicator Code\"], )\n",
    "df_converted = colunms_transp(df,\"country\",numbers_strings,\"year\",\"totalPopulation\")\n",
    "export_csv(df_converted,\"../csvs/TotalPopulationCountries.csv\")"
   ]
  },
  {
   "cell_type": "code",
   "execution_count": 43,
   "metadata": {},
   "outputs": [],
   "source": [
    "df = prepare_df(\"../converted/Gender Inequality Index.csv\", 1, [\"Unnamed: 3\",\"Unnamed: 5\", \"Unnamed: 7\", \"Unnamed: 9\", \"Unnamed: 11\", \"Unnamed: 13\",\n",
    "                                                                \"Unnamed: 15\", \"Unnamed: 17\",\"Unnamed: 19\", \"Unnamed: 21\"], )\n",
    "\n",
    "df_converted = colunms_transp(df,\"country\",[\"1995\", \"2000\", \"2005\", \"2010\", \"2011\", \"2012\", \"2013\", \"2014\", \"2015\", \"2016\", \"2017\"],\"year\",\"GenderInequality\")\n",
    "export_csv(df_converted,\"../csvs/GenderInequality.csv\")"
   ]
  },
  {
   "cell_type": "code",
   "execution_count": 51,
   "metadata": {},
   "outputs": [],
   "source": [
    "df = prepare_df(\"../converted/Employment to population ratio (% ages 15 and older).csv\", 1, [\"Unnamed: 3\",\"Unnamed: 5\", \"Unnamed: 7\", \"Unnamed: 9\", \"Unnamed: 11\", \"Unnamed: 13\",\n",
    "                                                                                             \"Unnamed: 15\", \"Unnamed: 17\",\"Unnamed: 19\",\"Unnamed: 21\", \"Unnamed: 23\",\"Unnamed: 25\"], )\n",
    "\n",
    "df_converted = colunms_transp(df,\"country\",[\"1991\", \"1995\", \"2000\", \"2005\", \"2010\", \"2011\", \"2012\", \"2013\", \"2014\", \"2015\", \"2016\", \"2017\"],\"year\",\"RateEmployment15andOlder\")\n",
    "export_csv(df_converted,\"../csvs/EmploymenttoPopulationRatio(%ages15andOlder).csv\")"
   ]
  },
  {
   "cell_type": "code",
   "execution_count": 9,
   "metadata": {},
   "outputs": [],
   "source": [
    "df = prepare_df(\"../converted/Internet users, total (% of population).csv\", 1, [\"Unnamed: 3\",\"Unnamed: 5\", \"Unnamed: 7\", \"Unnamed: 9\", \"Unnamed: 11\", \"Unnamed: 13\",\n",
    "                                                                                \"Unnamed: 15\", \"Unnamed: 17\"], )\n",
    "\n",
    "df_converted = colunms_transp(df,\"country\",[\"2000\", \"2005\", \"2010\", \"2011\", \"2012\", \"2013\", \"2014\", \"2015\", \"2016\"],\"year\",\"totalUsersInternet\")\n",
    "export_csv(df_converted,\"../csvs/totalUsersInternet.csv\")"
   ]
  },
  {
   "cell_type": "code",
   "execution_count": 12,
   "metadata": {},
   "outputs": [],
   "source": [
    "df = pd.read_excel(\"../2019 - Chapter2OnlineData.xls\")\n",
    "export_csv(df,\"../csvs/positiveNegativeData.csv\")"
   ]
  }
 ],
 "metadata": {
  "kernelspec": {
   "display_name": "Python 3",
   "language": "python",
   "name": "python3"
  },
  "language_info": {
   "codemirror_mode": {
    "name": "ipython",
    "version": 3
   },
   "file_extension": ".py",
   "mimetype": "text/x-python",
   "name": "python",
   "nbconvert_exporter": "python",
   "pygments_lexer": "ipython3",
   "version": "3.6.5"
  }
 },
 "nbformat": 4,
 "nbformat_minor": 2
}
