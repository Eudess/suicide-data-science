{
 "cells": [
  {
   "cell_type": "code",
   "execution_count": 1,
   "metadata": {},
   "outputs": [],
   "source": [
    "# Para entendimento leia: tratamento_colunas_csvs - Tutorial"
   ]
  },
  {
   "cell_type": "code",
   "execution_count": 2,
   "metadata": {},
   "outputs": [],
   "source": [
    "import pandas as pd"
   ]
  },
  {
   "cell_type": "code",
   "execution_count": 3,
   "metadata": {},
   "outputs": [],
   "source": [
    "# Ler o csv que não esteja codificado em utf-8\n",
    "def read_base(csv, skiprows = None):\n",
    "    df = pd.read_csv(csv, encoding = 'iso-8859-1', skiprows = skiprows )\n",
    "    return df"
   ]
  },
  {
   "cell_type": "code",
   "execution_count": 4,
   "metadata": {},
   "outputs": [],
   "source": [
    "# Ler o css e dropa colunas\n",
    "def prepare_df(csv = '', skip_rows = None, drop_colunms = [], axis = 1 ):    \n",
    "    data_frame = pd.read_csv(csv, skiprows = skip_rows)\n",
    "    data_frame = data_frame.drop(labels = drop_colunms, axis = axis)   \n",
    "    return data_frame"
   ]
  },
  {
   "cell_type": "code",
   "execution_count": 5,
   "metadata": {},
   "outputs": [],
   "source": [
    "# transpoe as colunas em linhas e recupera o valor desejado\n",
    "def colunms_transp (frame,  colunm_base='', convert_colunms =[], var_name=None, value_name='value'):\n",
    "    data_frame = pd.melt(frame, id_vars=[colunm_base], value_vars=convert_colunms, var_name= var_name, value_name=value_name)\n",
    "    return data_frame\n",
    "    "
   ]
  },
  {
   "cell_type": "code",
   "execution_count": 6,
   "metadata": {},
   "outputs": [],
   "source": [
    "# Exporta o csv sem criar colula pra o index:\n",
    "def export_csv(data_frame, csv_address = None):\n",
    "    data_frame.to_csv(csv_address, index = False)"
   ]
  }
 ],
 "metadata": {
  "kernelspec": {
   "display_name": "Python 3",
   "language": "python",
   "name": "python3"
  },
  "language_info": {
   "codemirror_mode": {
    "name": "ipython",
    "version": 3
   },
   "file_extension": ".py",
   "mimetype": "text/x-python",
   "name": "python",
   "nbconvert_exporter": "python",
   "pygments_lexer": "ipython3",
   "version": "3.7.1"
  }
 },
 "nbformat": 4,
 "nbformat_minor": 2
}
