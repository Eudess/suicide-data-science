{
 "cells": [
  {
   "cell_type": "code",
   "execution_count": 1,
   "metadata": {},
   "outputs": [],
   "source": [
    "import os\n",
    "import pandas as pd "
   ]
  },
  {
   "cell_type": "code",
   "execution_count": 2,
   "metadata": {},
   "outputs": [],
   "source": [
    "suicide_csv = \"../csvs/suicide.csv\"\n",
    "hdi_csv = \"../csvs/hdi.csv\"\n",
    "country_continent_csv = \"../csvs/countryContinent.csv\""
   ]
  },
  {
   "cell_type": "code",
   "execution_count": 3,
   "metadata": {},
   "outputs": [],
   "source": [
    "#Lendo csv.\n",
    "suicide_df = pd.read_csv(suicide_csv)\n",
    "hdi_df = pd.read_csv(hdi_csv, sep=\";\")\n",
    "country_continent_df = pd.read_csv(country_continent_csv)"
   ]
  },
  {
   "cell_type": "code",
   "execution_count": 4,
   "metadata": {},
   "outputs": [],
   "source": [
    "#Fazendo cópias do Dataframe para trabalhar com as cópias.\n",
    "suicide = suicide_df.copy()\n",
    "hdi = hdi_df.copy()\n",
    "country_continent = country_continent_df.copy()"
   ]
  },
  {
   "cell_type": "code",
   "execution_count": 5,
   "metadata": {},
   "outputs": [],
   "source": [
    "#Fazendo drop em colunas que não serão ultilizadas.\n",
    "suicide.drop(\"HDI for year\", axis=1, inplace=True)\n",
    "suicide.drop(\"country-year\", axis=1, inplace=True)\n",
    "suicide.drop(\"generation\", axis=1, inplace=True)\n",
    "country_continent.drop(\"code_2\", axis=1, inplace=True)\n",
    "country_continent.drop(\"code_3\", axis=1, inplace=True)\n",
    "country_continent.drop(\"country_code\", axis=1, inplace=True)\n",
    "country_continent.drop(\"iso_3166_2\", axis=1, inplace=True)\n",
    "country_continent.drop(\"region_code\", axis=1, inplace=True)\n",
    "country_continent.drop(\"sub_region_code\", axis=1, inplace=True)"
   ]
  },
  {
   "cell_type": "code",
   "execution_count": 6,
   "metadata": {},
   "outputs": [],
   "source": [
    "#Junatando suicidio com continentes, para obter os nomes dos continentes e sub-regiões.\n",
    "countries = pd.merge(suicide,country_continent,on=[\"country\"], how=\"inner\")"
   ]
  },
  {
   "cell_type": "code",
   "execution_count": 7,
   "metadata": {},
   "outputs": [],
   "source": [
    "#Juntando continentes(gerado no merge anterior) com o idh, para obter a coluna de idh.\n",
    "result = pd.merge(countries,hdi, on=[\"country\",\"year\"], how=\"inner\")"
   ]
  },
  {
   "cell_type": "code",
   "execution_count": 8,
   "metadata": {},
   "outputs": [],
   "source": [
    "#Pegando os países por suas sub-regiões.\n",
    "australia_newzeland = result[(result[\"sub_region\"] == \"Australia and New Zealand\")]\n",
    "caribbean = result[(result[\"sub_region\"] == \"Caribbean\")]\n",
    "central_america = result[(result[\"sub_region\"] == \"Central America\")]\n",
    "central_asia = result[(result[\"sub_region\"] == \"Central Asia\")]\n",
    "eastern_africa = result[(result[\"sub_region\"] == \"Eastern Africa\")]\n",
    "eastern_asia = result[(result[\"sub_region\"] == \"Eastern Asia\")]\n",
    "eastern_europe = result[(result[\"sub_region\"] == \"Eastern Europa\")]\n",
    "melanesia = result[(result[\"sub_region\"] == \"Melanesia\")]\n",
    "micronesia = result[(result[\"sub_region\"] == \"Micronesia\")]\n",
    "northern_america = result[(result[\"sub_region\"] == \"Northern America\")]\n",
    "northern_europe = result[(result[\"sub_region\"] == \"Northern Europe\")]\n",
    "south_america = result[(result[\"sub_region\"] == \"South America\")]\n",
    "south_eastern_america = result[(result[\"sub_region\"] == \"South-Eastern America\")]\n",
    "south_america = result[(result[\"sub_region\"] == \"South America\")]\n",
    "south_eastern_asia = result[(result[\"sub_region\"] == \"South-Eastern Asia\")]\n",
    "southern_africa = result[(result[\"sub_region\"] == \"Southern Africa\")]\n",
    "southern_asia = result[(result[\"sub_region\"] == \"Southern Asia\")]\n",
    "southern_europe = result[(result[\"sub_region\"] == \"Southern Europe\")]\n",
    "western_africa = result[(result[\"sub_region\"] == \"Western Africa\")]\n",
    "western_asia = result[(result[\"sub_region\"] == \"Western Asia\")]\n",
    "western_europe = result[(result[\"sub_region\"] == \"Western Europe\")]"
   ]
  },
  {
   "cell_type": "code",
   "execution_count": 9,
   "metadata": {},
   "outputs": [],
   "source": [
    "#Pegando os países por continentes\n",
    "africa = result[(result[\"continent\"] == \"Africa\")]\n",
    "americas = result[(result[\"continent\"] == \"Americas\")]\n",
    "asia = result[(result[\"continent\"] == \"Asia\")]\n",
    "europe = result[(result[\"continent\"] == \"Europe\")]\n",
    "Oceania = result[(result[\"continent\"] == \"Oceania\")]"
   ]
  }
 ],
 "metadata": {
  "kernelspec": {
   "display_name": "Python 3",
   "language": "python",
   "name": "python3"
  },
  "language_info": {
   "codemirror_mode": {
    "name": "ipython",
    "version": 3
   },
   "file_extension": ".py",
   "mimetype": "text/x-python",
   "name": "python",
   "nbconvert_exporter": "python",
   "pygments_lexer": "ipython3",
   "version": "3.6.5"
  }
 },
 "nbformat": 4,
 "nbformat_minor": 2
}
