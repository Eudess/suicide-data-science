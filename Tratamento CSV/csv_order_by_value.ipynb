{
 "cells": [
  {
   "cell_type": "code",
   "execution_count": 1,
   "metadata": {},
   "outputs": [],
   "source": [
    "import pandas as pd"
   ]
  },
  {
   "cell_type": "code",
   "execution_count": 2,
   "metadata": {},
   "outputs": [],
   "source": [
    "def replaceValue(df, colunm, old_value, new_value):\n",
    "# Substitui um valor qualquer de determinada coluna num dataframe\n",
    "    df[colunm] = list(df[colunm].replace([old_value], new_value))\n",
    "    return df\n",
    "def ordenarDataFrame(address_csv, orderList=[], colunm='', old_value='', new_value='', replace = False):\n",
    "# Ordenando o csv por por uma lista de colunas:\n",
    "    try:\n",
    "        df = pd.read_csv(address_csv, sep=';')\n",
    "        if replace:\n",
    "            replaceValue(df,colunm, old_value, new_value)\n",
    "        df  = df.sort_values(by=orderList)\n",
    "        df.to_csv(address_csv, index = False, sep=';')\n",
    "    except:\n",
    "        print('Erro inesperado!\\nVerifique se todos os parâmetros estão sendo preechidos corretamente.')"
   ]
  },
  {
   "cell_type": "code",
   "execution_count": 3,
   "metadata": {},
   "outputs": [],
   "source": [
    "#Exemplo:\n",
    "ordenarDataFrame(\"../csvs/suicide.csv\",['country','year','sex', 'age'],'age','5-14 years','05-14 years', True)\n",
    "# Verifique seu diretório e verá que o csv ordenado estará lá."
   ]
  },
  {
   "cell_type": "code",
   "execution_count": 4,
   "metadata": {},
   "outputs": [
    {
     "name": "stdout",
     "output_type": "stream",
     "text": [
      "Erro inesperado!\n",
      "Verifique se todos os parâmetros estão sendo preechidos corretamente.\n"
     ]
    }
   ],
   "source": [
    "#Exemplo: Cenário de erro: Não passou o endereço do dataframe\n",
    "ordenarDataFrame(['country','year','sex', 'age'],'age','5-14 years','05-14 years', True)\n",
    "# Verifique seu diretório e verá que o csv ordenado estará lá."
   ]
  }
 ],
 "metadata": {
  "kernelspec": {
   "display_name": "Python 3",
   "language": "python",
   "name": "python3"
  },
  "language_info": {
   "codemirror_mode": {
    "name": "ipython",
    "version": 3
   },
   "file_extension": ".py",
   "mimetype": "text/x-python",
   "name": "python",
   "nbconvert_exporter": "python",
   "pygments_lexer": "ipython3",
   "version": "3.7.1"
  }
 },
 "nbformat": 4,
 "nbformat_minor": 2
}
