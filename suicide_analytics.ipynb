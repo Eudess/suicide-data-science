{
 "cells": [
  {
   "cell_type": "code",
   "execution_count": 1,
   "metadata": {},
   "outputs": [],
   "source": [
    "import os\n",
    "import pandas as pd \n",
    "import matplotlib.pyplot as plt\n",
    "import numpy as np"
   ]
  },
  {
   "cell_type": "code",
   "execution_count": 2,
   "metadata": {},
   "outputs": [],
   "source": [
    "plt.rcParams[\"figure.figsize\"] = (10,10)\n",
    "plt.style.use(\"ggplot\")\n",
    "list_colors = [\"#1f77b4\", \"#ff7f0e\", \"#2ca02c\", \"#d62728\", \"#9467bd\", \"#8c564b\", \"#e377c2\", \"#7f7f7f\", \"#bcbd22\", \"#17becf\"]"
   ]
  },
  {
   "cell_type": "code",
   "execution_count": 3,
   "metadata": {},
   "outputs": [],
   "source": [
    "suicide_csv = \"../csvs/suicide.csv\"\n",
    "hdi_csv = \"../csvs/hdi.csv\"\n",
    "country_continent_csv = \"../csvs/countryContinent.csv\"\n",
    "total_population_csv = \"../csvs/totalPopulationCountries.csv\"\n",
    "users_internet_csv = \"../csvs/totalUsersInternet.csv\"\n",
    "gender_inequality_csv = \"../csvs/genderInequality.csv\"\n",
    "employmentto_population_csv = \"../csvs/employmenttoPopulationRatio(%ages15andOlder).csv\"\n",
    "positive_negative_csv = \"../csvs/positiveNegativeData.csv\"\n",
    "climate_russia_csv = \"../csvs/climateRussia.csv\"\n",
    "climate_sweden_csv = \"../csvs/climateSweden.csv\""
   ]
  },
  {
   "cell_type": "code",
   "execution_count": 4,
   "metadata": {},
   "outputs": [],
   "source": [
    "#Lendo csv.\n",
    "suicide_df = pd.read_csv(suicide_csv)\n",
    "hdi_df = pd.read_csv(hdi_csv, sep=\";\")\n",
    "country_continent_df = pd.read_csv(country_continent_csv)\n",
    "total_population_df = pd.read_csv(total_population_csv)\n",
    "users_internet_df = pd.read_csv(users_internet_csv, sep=\";\")\n",
    "gender_inequality_df = pd.read_csv(gender_inequality_csv)\n",
    "employmentto_population_df = pd.read_csv(employmentto_population_csv)\n",
    "positive_negative_df = pd.read_csv(positive_negative_csv, sep=\";\")\n",
    "climate_russia_df = pd.read_csv(climate_russia_csv)\n",
    "climate_sweden_df = pd.read_csv(climate_sweden_csv)"
   ]
  },
  {
   "cell_type": "code",
   "execution_count": 5,
   "metadata": {},
   "outputs": [],
   "source": [
    "#Fazendo cópias do Dataframe para trabalhar com as cópias.\n",
    "suicide = suicide_df.copy()\n",
    "hdi = hdi_df.copy()\n",
    "country_continent = country_continent_df.copy()\n",
    "total_population = total_population_df.copy()\n",
    "users_internet = users_internet_df.copy()\n",
    "gender_inequality = gender_inequality_df.copy()\n",
    "employmentto_population = employmentto_population_df.copy()\n",
    "positive_negative = positive_negative_df.copy()\n",
    "climate_russia = climate_russia_df.copy()\n",
    "climate_sweden = climate_sweden_df.copy()"
   ]
  },
  {
   "cell_type": "code",
   "execution_count": 6,
   "metadata": {},
   "outputs": [],
   "source": [
    "#Fazendo drop em colunas que não serão ultilizadas.\n",
    "suicide.drop(\"HDI for year\", axis=1, inplace=True)\n",
    "suicide.drop(\"country-year\", axis=1, inplace=True)\n",
    "suicide.drop(\"generation\", axis=1, inplace=True)\n",
    "country_continent.drop(\"code_2\", axis=1, inplace=True)\n",
    "country_continent.drop(\"code_3\", axis=1, inplace=True)\n",
    "country_continent.drop(\"country_code\", axis=1, inplace=True)\n",
    "country_continent.drop(\"iso_3166_2\", axis=1, inplace=True)\n",
    "country_continent.drop(\"region_code\", axis=1, inplace=True)\n",
    "country_continent.drop(\"sub_region_code\", axis=1, inplace=True)\n",
    "positive_negative.drop(\"Life Ladder\", axis=1, inplace=True)\n",
    "positive_negative.drop(\"Log GDP per capita\", axis=1, inplace=True)\n",
    "positive_negative.drop(\"Social support\", axis=1, inplace=True)\n",
    "positive_negative.drop(\"Healthy life expectancy at birth\", axis=1, inplace=True)\n",
    "positive_negative.drop(\"Freedom to make life choices\", axis=1, inplace=True)\n",
    "positive_negative.drop(\"Generosity\", axis=1, inplace=True)\n",
    "positive_negative.drop(\"Perceptions of corruption\", axis=1, inplace=True)\n",
    "positive_negative.drop(\"Confidence in national government\", axis=1, inplace=True)\n",
    "positive_negative.drop(\"Democratic Quality\", axis=1, inplace=True)\n",
    "positive_negative.drop(\"Delivery Quality\", axis=1, inplace=True)\n",
    "positive_negative.drop(\"Standard deviation of ladder by country-year\", axis=1, inplace=True)\n",
    "positive_negative.drop(\"Standard deviation/Mean of ladder by country-year\", axis=1, inplace=True)\n",
    "positive_negative.drop(\"GINI index (World Bank estimate)\", axis=1, inplace=True)\n",
    "positive_negative.drop(\"GINI index (World Bank estimate), average 2000-16\", axis=1, inplace=True)\n",
    "positive_negative.drop(\"gini of household income reported in Gallup, by wp5-year\", axis=1, inplace=True)\n",
    "positive_negative.drop(\"Most people can be trusted, Gallup\", axis=1, inplace=True)\n",
    "positive_negative.drop(\"Most people can be trusted, WVS round 1981-1984\", axis=1, inplace=True)\n",
    "positive_negative.drop(\"Most people can be trusted, WVS round 1989-1993\", axis=1, inplace=True)\n",
    "positive_negative.drop(\"Most people can be trusted, WVS round 1994-1998\", axis=1, inplace=True)\n",
    "positive_negative.drop(\"Most people can be trusted, WVS round 1999-2004\", axis=1, inplace=True)\n",
    "positive_negative.drop(\"Most people can be trusted, WVS round 2005-2009\", axis=1, inplace=True)\n",
    "positive_negative.drop(\"Most people can be trusted, WVS round 2010-2014\", axis=1, inplace=True)\n",
    "climate_russia.drop(\"ISO3\", axis=1, inplace=True)\n",
    "climate_sweden.drop(\"ISO3\", axis=1, inplace=True)"
   ]
  },
  {
   "cell_type": "code",
   "execution_count": 7,
   "metadata": {},
   "outputs": [],
   "source": [
    "#Junatando suicidio com continentes, para obter os nomes dos continentes e sub-regiões.\n",
    "add_continent = pd.merge(suicide,country_continent,on=[\"country\"], how=\"inner\")\n",
    "\n",
    "#Juntando continentes(gerado no merge anterior) com o idh, para obter a coluna de idh.\n",
    "add_hdi = pd.merge(add_continent,hdi, on=[\"country\",\"year\"], how=\"inner\")\n",
    "\n",
    "#Adicionando a coluna de população total.\n",
    "add_total_population = pd.merge(add_hdi,total_population, on=[\"country\",\"year\"], how=\"inner\")\n",
    "\n",
    "#Adicionando a coluna de total de usuários de internet.\n",
    "add_users_internet = pd.merge(add_total_population, users_internet,on=[\"country\",\"year\"], how=\"inner\")\n",
    "\n",
    "#Adicionando a coluna de desigualdade de gênero.\n",
    "add_gender_inequality = pd.merge(add_users_internet, gender_inequality,on=[\"country\",\"year\"], how=\"inner\")\n",
    "\n",
    "#Adicionando a coluna de taxa de empregados a partir de 15 anos.\n",
    "add_employmentto_population = pd.merge(add_gender_inequality,employmentto_population,on=[\"country\",\"year\"], how=\"inner\")\n",
    "\n",
    "#Adicionando a coluna de afeto positivo e afeto negativo.\n",
    "result = pd.merge(add_employmentto_population, positive_negative,on=[\"country\",\"year\"], how=\"inner\")"
   ]
  },
  {
   "cell_type": "code",
   "execution_count": 8,
   "metadata": {},
   "outputs": [],
   "source": [
    "russia_df= result[(result[\"country\"] == \"Russian Federation\")]\n",
    "sweden_df= result[(result[\"country\"] == \"Sweden\") & (result[\"year\"] > 2005)]"
   ]
  },
  {
   "cell_type": "code",
   "execution_count": 9,
   "metadata": {},
   "outputs": [],
   "source": [
    "cr = climate_russia.groupby([\"year\",\"country\"], as_index=False).median()\n",
    "cs = climate_sweden.groupby([\"year\",\"country\"], as_index=False).median()"
   ]
  },
  {
   "cell_type": "code",
   "execution_count": 10,
   "metadata": {},
   "outputs": [],
   "source": [
    "russia = pd.merge(russia_df,cr,on=[\"country\",\"year\"], how=\"inner\")\n",
    "sweden = pd.merge(sweden_df,cs,on=[\"country\",\"year\"], how=\"inner\")"
   ]
  },
  {
   "cell_type": "code",
   "execution_count": 11,
   "metadata": {},
   "outputs": [],
   "source": [
    "gr = russia.groupby([\"year\",\"country\",\"sex\"], as_index=False).sum()\n",
    "gs = sweden.groupby([\"year\",\"country\",\"sex\"], as_index=False).sum()"
   ]
  },
  {
   "cell_type": "code",
   "execution_count": 12,
   "metadata": {},
   "outputs": [],
   "source": [
    "myGroup = pd.merge(russia,sweden, how=\"outer\")\n",
    "myGroup = myGroup.groupby([\"year\",\"country\",\"totalPopulation\"], as_index=False).sum()"
   ]
  },
  {
   "cell_type": "code",
   "execution_count": 13,
   "metadata": {},
   "outputs": [],
   "source": [
    "#Pegando os países por suas sub-regiões.\n",
    "australia_newzeland = result[(result[\"sub_region\"] == \"Australia and New Zealand\")]\n",
    "caribbean = result[(result[\"sub_region\"] == \"Caribbean\")]\n",
    "central_america = result[(result[\"sub_region\"] == \"Central America\")]\n",
    "central_asia = result[(result[\"sub_region\"] == \"Central Asia\")]\n",
    "eastern_africa = result[(result[\"sub_region\"] == \"Eastern Africa\")]\n",
    "eastern_asia = result[(result[\"sub_region\"] == \"Eastern Asia\")]\n",
    "eastern_europe = result[(result[\"sub_region\"] == \"Eastern Europe\")]\n",
    "melanesia = result[(result[\"sub_region\"] == \"Melanesia\")]\n",
    "micronesia = result[(result[\"sub_region\"] == \"Micronesia\")]\n",
    "northern_america = result[(result[\"sub_region\"] == \"Northern America\")]\n",
    "northern_europe = result[(result[\"sub_region\"] == \"Northern Europe\")]\n",
    "south_america = result[(result[\"sub_region\"] == \"South America\")]\n",
    "south_eastern_asia = result[(result[\"sub_region\"] == \"South-Eastern Asia\")]\n",
    "southern_africa = result[(result[\"sub_region\"] == \"Southern Africa\")]\n",
    "southern_asia = result[(result[\"sub_region\"] == \"Southern Asia\")]\n",
    "southern_europe = result[(result[\"sub_region\"] == \"Southern Europe\")]\n",
    "western_africa = result[(result[\"sub_region\"] == \"Western Africa\")]\n",
    "western_asia = result[(result[\"sub_region\"] == \"Western Asia\")]\n",
    "western_europe = result[(result[\"sub_region\"] == \"Western Europe\")]"
   ]
  },
  {
   "cell_type": "code",
   "execution_count": 14,
   "metadata": {},
   "outputs": [],
   "source": [
    "#Pegando os países por continentes\n",
    "africa = result[(result[\"continent\"] == \"Africa\")]\n",
    "americas = result[(result[\"continent\"] == \"Americas\")]\n",
    "asia = result[(result[\"continent\"] == \"Asia\")]\n",
    "europe = result[(result[\"continent\"] == \"Europe\")]\n",
    "Oceania = result[(result[\"continent\"] == \"Oceania\")]"
   ]
  },
  {
   "cell_type": "code",
   "execution_count": 15,
   "metadata": {},
   "outputs": [],
   "source": [
    "group_sa = south_america.groupby([\"year\",\"country\",\"hdi\"], as_index=False).sum()\n",
    "group_ee = eastern_europe.groupby([\"year\",\"country\",\"hdi\"], as_index=False).sum()"
   ]
  },
  {
   "cell_type": "code",
   "execution_count": 16,
   "metadata": {},
   "outputs": [],
   "source": [
    "#Função para colocar valores nulos.\n",
    "#Substitui valores nulos por 0\n",
    "#Primeira apresentação\n",
    "def insert_zero(df,start = 2000, end = 2016):\n",
    "    country_list = list(df[\"country\"].unique())\n",
    "    for year in range(start,end):\n",
    "        for country in country_list:\n",
    "            if len(df[(df[\"country\"] == country) & (df[\"year\"] == year)]) == 0:\n",
    "                df2 = pd.DataFrame({\"country\": [country], \"year\": [year], \"hdi\" : [0]})\n",
    "                df = df.append(df2, ignore_index=True)\n",
    "    return df\n"
   ]
  },
  {
   "cell_type": "code",
   "execution_count": 17,
   "metadata": {},
   "outputs": [],
   "source": [
    "#Atribuindo os valores nulos ao dataframe.\n",
    "#group_sa = insert_zero(group_sa)\n",
    "#group_ee = insert_zero(group_ee)"
   ]
  },
  {
   "cell_type": "code",
   "execution_count": 18,
   "metadata": {},
   "outputs": [],
   "source": [
    "def axis_x_center(length=1):\n",
    "    start = -(length//2) if length%2 == 0 else -((length//2))\n",
    "    end = (length//2) if length%2 == 0 else ((length//2)+1)\n",
    "    \n",
    "    return [x for x in range(start, end)]"
   ]
  },
  {
   "cell_type": "code",
   "execution_count": 19,
   "metadata": {},
   "outputs": [],
   "source": [
    "#TESTE\n",
    "#country_list = list(group_sa[\"country\"].unique())\n",
    "#country_hdi = list(group_sa[\"hdi\"][group_sa[\"country\"] == \"Argentina\"])\n",
    "#country_year = list(group_sa[\"year\"].unique())"
   ]
  },
  {
   "cell_type": "code",
   "execution_count": 20,
   "metadata": {},
   "outputs": [
    {
     "data": {
      "text/plain": [
       "' def gerar_grafico_idh(df, axis_y, axis_x, title,wd = 0.15, start = 2000, end = 2016):\\n    global list_colors\\n    \\n    plt.ylabel(axis_y)\\n    plt.xlabel(axis_x)\\n    plt.title(title)\\n    ax = plt.subplot()\\n    df = df[(df[\"year\"]>= start) & (df[\"year\"] < end)]\\n    \\n    country_name = list(df[\"country\"].unique())\\n    country_year = np.asarray([x for x in range(start,end)])\\n    \\n    list_num = axis_x_center(len(country_name))\\n    plt.xlim(country_year[0]+(wd*(list_num[0]-11)), country_year[-1]+(wd*(list_num[-1]+2)))\\n    plt.xticks(country_year)\\n    \\n    for index in range(len(country_name)):\\n        country_hdi = list(df[\"hdi\"][df[\"country\"] == country_name[index]])\\n        print(country_hdi)\\n        country_hdi = np.asarray(country_hdi)\\n        ax.bar(country_year+(wd*list_num[index]), country_hdi, width=wd, align=\"center\", label=country_name[index], color=list_colors[index])\\n        ax.legend(loc=\"upper left\")\\n\\n\\n    plt.show() '"
      ]
     },
     "execution_count": 20,
     "metadata": {},
     "output_type": "execute_result"
    }
   ],
   "source": [
    "#Função para gerar gráfico de idh.\n",
    "#Primeira apresentação\n",
    "''' def gerar_grafico_idh(df, axis_y, axis_x, title,wd = 0.15, start = 2000, end = 2016):\n",
    "    global list_colors\n",
    "    \n",
    "    plt.ylabel(axis_y)\n",
    "    plt.xlabel(axis_x)\n",
    "    plt.title(title)\n",
    "    ax = plt.subplot()\n",
    "    df = df[(df[\"year\"]>= start) & (df[\"year\"] < end)]\n",
    "    \n",
    "    country_name = list(df[\"country\"].unique())\n",
    "    country_year = np.asarray([x for x in range(start,end)])\n",
    "    \n",
    "    list_num = axis_x_center(len(country_name))\n",
    "    plt.xlim(country_year[0]+(wd*(list_num[0]-11)), country_year[-1]+(wd*(list_num[-1]+2)))\n",
    "    plt.xticks(country_year)\n",
    "    \n",
    "    for index in range(len(country_name)):\n",
    "        country_hdi = list(df[\"hdi\"][df[\"country\"] == country_name[index]])\n",
    "        print(country_hdi)\n",
    "        country_hdi = np.asarray(country_hdi)\n",
    "        ax.bar(country_year+(wd*list_num[index]), country_hdi, width=wd, align=\"center\", label=country_name[index], color=list_colors[index])\n",
    "        ax.legend(loc=\"upper left\")\n",
    "\n",
    "\n",
    "    plt.show() '''"
   ]
  },
  {
   "cell_type": "code",
   "execution_count": 21,
   "metadata": {},
   "outputs": [
    {
     "data": {
      "text/plain": [
       "'\\ndef gerar_grafico_suicide(df, axis_y, axis_x, title,wd = 0.15, start = 2000, end = 2016):\\n    global list_colors\\n    \\n    plt.ylabel(axis_y)\\n    plt.xlabel(axis_x)\\n    plt.title(title)\\n    ax = plt.subplot()\\n    df = df[(df[\"year\"]>= start) & (df[\"year\"] < end)]\\n    \\n    country_name = list(df[\"country\"].unique())\\n    country_year = np.asarray([x for x in range(start,end)])\\n    \\n    list_num = axis_x_center(len(country_name)) \\n    plt.xlim(country_year[0]+(wd*(list_num[0]-11)), country_year[-1]+(wd*(list_num[-1]+2)))\\n    plt.xticks(country_year)\\n    \\n    for index in range(len(country_name)):\\n        country_list = list((df[\"suicides_no\"][df[\"country\"] == country_name[index]]/ df[\"population\"][df[\"country\"] == country_name[index]])*100000)\\n        country_list = np.asarray(country_list)\\n        ax.bar(country_year+(wd*list_num[index]), country_list, width=wd, align=\"center\", label=country_name[index], color=list_colors[index])\\n        ax.legend(loc=\"upper left\")\\n\\n\\n    plt.show()'"
      ]
     },
     "execution_count": 21,
     "metadata": {},
     "output_type": "execute_result"
    }
   ],
   "source": [
    "#Função para gerar gráfico de taxa de suicídio.\n",
    "#Primeira apresentação\n",
    "'''\n",
    "def gerar_grafico_suicide(df, axis_y, axis_x, title,wd = 0.15, start = 2000, end = 2016):\n",
    "    global list_colors\n",
    "    \n",
    "    plt.ylabel(axis_y)\n",
    "    plt.xlabel(axis_x)\n",
    "    plt.title(title)\n",
    "    ax = plt.subplot()\n",
    "    df = df[(df[\"year\"]>= start) & (df[\"year\"] < end)]\n",
    "    \n",
    "    country_name = list(df[\"country\"].unique())\n",
    "    country_year = np.asarray([x for x in range(start,end)])\n",
    "    \n",
    "    list_num = axis_x_center(len(country_name)) \n",
    "    plt.xlim(country_year[0]+(wd*(list_num[0]-11)), country_year[-1]+(wd*(list_num[-1]+2)))\n",
    "    plt.xticks(country_year)\n",
    "    \n",
    "    for index in range(len(country_name)):\n",
    "        country_list = list((df[\"suicides_no\"][df[\"country\"] == country_name[index]]/ df[\"population\"][df[\"country\"] == country_name[index]])*100000)\n",
    "        country_list = np.asarray(country_list)\n",
    "        ax.bar(country_year+(wd*list_num[index]), country_list, width=wd, align=\"center\", label=country_name[index], color=list_colors[index])\n",
    "        ax.legend(loc=\"upper left\")\n",
    "\n",
    "\n",
    "    plt.show()'''"
   ]
  },
  {
   "cell_type": "code",
   "execution_count": 22,
   "metadata": {},
   "outputs": [],
   "source": [
    "def gerar_grafico_suicide_gen(df, axis_y, axis_x, title,wd = 0.15):\n",
    "    global list_colors\n",
    "    \n",
    "    plt.ylabel(axis_y)\n",
    "    plt.xlabel(axis_x)\n",
    "    plt.title(title)\n",
    "    ax = plt.subplot()\n",
    "    \n",
    "    country_sex = list(df[\"sex\"].unique())\n",
    "    year_df = list(df[\"year\"].unique())\n",
    "    country_year = np.asarray(year_df)\n",
    "    \n",
    "    list_num = axis_x_center(len(country_sex)) \n",
    "    plt.xlim(country_year[0]+(wd*(list_num[0]-3)), country_year[-1]+(wd*(list_num[-1]+3)))\n",
    "    plt.xticks(country_year)\n",
    "    \n",
    "    for index in range(len(country_sex)):\n",
    "        country_list = list((df[\"suicides_no\"][df[\"sex\"] == country_sex[index]]/df[\"population\"][df[\"sex\"] == country_sex[index]])*100000)\n",
    "        country_list = np.asarray(country_list)\n",
    "        ax.bar(country_year+(wd*list_num[index]), country_list, width=wd, align=\"center\", label=country_sex[index], color=list_colors[index])\n",
    "        ax.legend(loc=\"upper left\")\n",
    "\n",
    "\n",
    "    plt.show()\n",
    "    "
   ]
  },
  {
   "cell_type": "code",
   "execution_count": 23,
   "metadata": {
    "scrolled": true
   },
   "outputs": [
    {
     "name": "stderr",
     "output_type": "stream",
     "text": [
      "C:\\Users\\evele\\Anaconda3\\lib\\site-packages\\matplotlib\\figure.py:98: MatplotlibDeprecationWarning: \n",
      "Adding an axes using the same arguments as a previous axes currently reuses the earlier instance.  In a future version, a new instance will always be created and returned.  Meanwhile, this warning can be suppressed, and the future behavior ensured, by passing a unique label to each axes instance.\n",
      "  \"Adding an axes using the same arguments as a previous axes \"\n"
     ]
    },
    {
     "data": {
      "image/png": "[encoded data removed]",
      "text/plain": [
       "<Figure size 720x720 with 1 Axes>"
      ]
     },
     "metadata": {},
     "output_type": "display_data"
    }
   ],
   "source": [
    "gerar_grafico_suicide_gen(gr, \"Taxa de suicídio\", \"Anos\", \"Taxa de suicídio por gênero na Rússia por 100k/hab\", 0.25)"
   ]
  },
  {
   "cell_type": "code",
   "execution_count": 24,
   "metadata": {},
   "outputs": [],
   "source": [
    "def gerar_grafico_suicide_total(df, axis_y, axis_x, title,wd = 0.15):\n",
    "    global list_colors\n",
    "    \n",
    "    plt.ylabel(axis_y)\n",
    "    plt.xlabel(axis_x)\n",
    "    plt.title(title)\n",
    "    ax = plt.subplot()\n",
    "    \n",
    "    country_name = list(df[\"country\"].unique())\n",
    "    year_df = list(df[\"year\"].unique())\n",
    "    country_year = np.asarray(year_df)\n",
    "    \n",
    "    list_num = axis_x_center(len(country_name)) \n",
    "    plt.xlim(country_year[0]+(wd*(list_num[0]-3)), country_year[-1]+(wd*(list_num[-1]+3)))\n",
    "    plt.xticks(country_year)\n",
    "    \n",
    "    for index in range(len(country_name)):\n",
    "        #retorna uma lista com a taxa de suicidio, passa pro \n",
    "        country_list = list((df[\"suicides_no\"][df[\"country\"] == country_name[index]]/df[\"totalPopulation\"][df[\"country\"] == country_name[index]])*100000)\n",
    "        country_list = np.asarray(country_list)\n",
    "        ax.bar(country_year+(wd*list_num[index]), country_list, width=wd, align=\"center\", label=country_name[index], color=list_colors[index])\n",
    "        ax.legend(loc=\"upper right\")\n",
    "\n",
    "\n",
    "    plt.show()"
   ]
  },
  {
   "cell_type": "code",
   "execution_count": 25,
   "metadata": {},
   "outputs": [
    {
     "data": {
      "image/png": "[encoded data removed]",
      "text/plain": [
       "<Figure size 720x720 with 1 Axes>"
      ]
     },
     "metadata": {},
     "output_type": "display_data"
    }
   ],
   "source": [
    "gerar_grafico_suicide_total(myGroup, 'Taxa de suicídio', 'Anos', 'Taxa de suicídios total Rússia x Suécia por 100k/hab\"')"
   ]
  }
 ],
 "metadata": {
  "kernelspec": {
   "display_name": "Python 3",
   "language": "python",
   "name": "python3"
  },
  "language_info": {
   "codemirror_mode": {
    "name": "ipython",
    "version": 3
   },
   "file_extension": ".py",
   "mimetype": "text/x-python",
   "name": "python",
   "nbconvert_exporter": "python",
   "pygments_lexer": "ipython3",
   "version": "3.7.3"
  }
 },
 "nbformat": 4,
 "nbformat_minor": 2
}
