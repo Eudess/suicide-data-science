{
 "cells": [
  {
   "cell_type": "code",
   "execution_count": 1,
   "metadata": {},
   "outputs": [],
   "source": [
    "import os\n",
    "import pandas as pd \n",
    "import matplotlib.pyplot as plt\n",
    "import numpy as np\n",
    "import seaborn as sns"
   ]
  },
  {
   "cell_type": "code",
   "execution_count": 2,
   "metadata": {},
   "outputs": [],
   "source": [
    "plt.rcParams[\"figure.figsize\"] = (12,8)\n",
    "sns.set()\n",
    "#plt.style.use(\"ggplot\")\n",
    "list_colors = [\"#1f77b4\", \"#ff7f0e\", \"#2ca02c\", \"#d62728\", \"#9467bd\", \"#8c564b\", \"#e377c2\", \"#7f7f7f\", \"#bcbd22\", \"#17becf\"]"
   ]
  },
  {
   "cell_type": "code",
   "execution_count": 3,
   "metadata": {},
   "outputs": [],
   "source": [
    "suicide_csv = \"../csvs/suicide.csv\"\n",
    "hdi_csv = \"../csvs/hdi.csv\"\n",
    "country_continent_csv = \"../csvs/countryContinent.csv\"\n",
    "total_population_csv = \"../csvs/totalPopulationCountries.csv\"\n",
    "total_populationF_csv = \"../csvs/totalPopulationF.csv\"\n",
    "total_populationM_csv = \"../csvs/totalPopulationM.csv\"\n",
    "users_internet_csv = \"../csvs/totalUsersInternet.csv\"\n",
    "gender_inequality_csv = \"../csvs/genderInequality.csv\"\n",
    "employmentto_population_csv = \"../csvs/employmenttoPopulationRatio(%ages15andOlder).csv\"\n",
    "positive_negative_csv = \"../csvs/positiveNegativeData.csv\"\n",
    "climate_russia_csv = \"../csvs/climateRussia.csv\"\n",
    "climate_sweden_csv = \"../csvs/climateSweden.csv\""
   ]
  },
  {
   "cell_type": "code",
   "execution_count": 4,
   "metadata": {},
   "outputs": [],
   "source": [
    "#Lendo csv.\n",
    "suicide_df = pd.read_csv(suicide_csv, sep=\";\")\n",
    "hdi_df = pd.read_csv(hdi_csv, sep=\";\")\n",
    "country_continent_df = pd.read_csv(country_continent_csv)\n",
    "total_population_df = pd.read_csv(total_population_csv)\n",
    "total_populationF_df = pd.read_csv(total_populationF_csv, sep=\";\")\n",
    "total_populationM_df = pd.read_csv(total_populationM_csv, sep=\";\")\n",
    "users_internet_df = pd.read_csv(users_internet_csv, sep=\";\")\n",
    "gender_inequality_df = pd.read_csv(gender_inequality_csv)\n",
    "employmentto_population_df = pd.read_csv(employmentto_population_csv)\n",
    "positive_negative_df = pd.read_csv(positive_negative_csv, sep=\";\")\n",
    "climate_russia_df = pd.read_csv(climate_russia_csv)\n",
    "climate_sweden_df = pd.read_csv(climate_sweden_csv)"
   ]
  },
  {
   "cell_type": "code",
   "execution_count": 5,
   "metadata": {},
   "outputs": [],
   "source": [
    "#Fazendo cópias do Dataframe para trabalhar com as cópias.\n",
    "suicide = suicide_df.copy()\n",
    "hdi = hdi_df.copy()\n",
    "country_continent = country_continent_df.copy()\n",
    "total_population = total_population_df.copy()\n",
    "total_populationF = total_populationF_df.copy()\n",
    "total_populationM = total_populationM_df.copy()\n",
    "users_internet = users_internet_df.copy()\n",
    "gender_inequality = gender_inequality_df.copy()\n",
    "employmentto_population = employmentto_population_df.copy()\n",
    "positive_negative = positive_negative_df.copy()\n",
    "climate_russia = climate_russia_df.copy()\n",
    "climate_sweden = climate_sweden_df.copy()"
   ]
  },
  {
   "cell_type": "code",
   "execution_count": 6,
   "metadata": {},
   "outputs": [],
   "source": [
    "#Fazendo drop em colunas que não serão ultilizadas.\n",
    "country_continent.drop(\"code_2\", axis=1, inplace=True)\n",
    "country_continent.drop(\"code_3\", axis=1, inplace=True)\n",
    "country_continent.drop(\"country_code\", axis=1, inplace=True)\n",
    "country_continent.drop(\"iso_3166_2\", axis=1, inplace=True)\n",
    "country_continent.drop(\"region_code\", axis=1, inplace=True)\n",
    "country_continent.drop(\"sub_region_code\", axis=1, inplace=True)\n",
    "positive_negative.drop(\"Life Ladder\", axis=1, inplace=True)\n",
    "positive_negative.drop(\"Log GDP per capita\", axis=1, inplace=True)\n",
    "positive_negative.drop(\"Social support\", axis=1, inplace=True)\n",
    "positive_negative.drop(\"Healthy life expectancy at birth\", axis=1, inplace=True)\n",
    "positive_negative.drop(\"Freedom to make life choices\", axis=1, inplace=True)\n",
    "positive_negative.drop(\"Generosity\", axis=1, inplace=True)\n",
    "positive_negative.drop(\"Perceptions of corruption\", axis=1, inplace=True)\n",
    "positive_negative.drop(\"Confidence in national government\", axis=1, inplace=True)\n",
    "positive_negative.drop(\"Democratic Quality\", axis=1, inplace=True)\n",
    "positive_negative.drop(\"Delivery Quality\", axis=1, inplace=True)\n",
    "positive_negative.drop(\"Standard deviation of ladder by country-year\", axis=1, inplace=True)\n",
    "positive_negative.drop(\"Standard deviation/Mean of ladder by country-year\", axis=1, inplace=True)\n",
    "positive_negative.drop(\"GINI index (World Bank estimate)\", axis=1, inplace=True)\n",
    "positive_negative.drop(\"GINI index (World Bank estimate), average 2000-16\", axis=1, inplace=True)\n",
    "positive_negative.drop(\"gini of household income reported in Gallup, by wp5-year\", axis=1, inplace=True)\n",
    "positive_negative.drop(\"Most people can be trusted, Gallup\", axis=1, inplace=True)\n",
    "positive_negative.drop(\"Most people can be trusted, WVS round 1981-1984\", axis=1, inplace=True)\n",
    "positive_negative.drop(\"Most people can be trusted, WVS round 1989-1993\", axis=1, inplace=True)\n",
    "positive_negative.drop(\"Most people can be trusted, WVS round 1994-1998\", axis=1, inplace=True)\n",
    "positive_negative.drop(\"Most people can be trusted, WVS round 1999-2004\", axis=1, inplace=True)\n",
    "positive_negative.drop(\"Most people can be trusted, WVS round 2005-2009\", axis=1, inplace=True)\n",
    "positive_negative.drop(\"Most people can be trusted, WVS round 2010-2014\", axis=1, inplace=True)\n",
    "climate_russia.drop(\"ISO3\", axis=1, inplace=True)\n",
    "climate_sweden.drop(\"ISO3\", axis=1, inplace=True)"
   ]
  },
  {
   "cell_type": "code",
   "execution_count": 7,
   "metadata": {},
   "outputs": [],
   "source": [
    "#Junatando suicidio com continentes, para obter os nomes dos continentes e sub-regiões.\n",
    "add_continent = pd.merge(suicide,country_continent,on=[\"country\"], how=\"inner\")\n",
    "\n",
    "#Juntando continentes(gerado no merge anterior) com o idh, para obter a coluna de idh.\n",
    "add_hdi = pd.merge(add_continent,hdi, on=[\"country\",\"year\"], how=\"inner\")\n",
    "\n",
    "#Adicionando a coluna de população total.\n",
    "add_total_population = pd.merge(add_hdi,total_population, on=[\"country\",\"year\"], how=\"inner\")\n",
    "\n",
    "#Adicionando a coluna de população total Feminina.\n",
    "add_total_populationF = pd.merge(add_total_population, total_populationF,on=[\"country\",\"year\"], how=\"inner\")\n",
    "\n",
    "#Adicionando a coluna de população total Masculina.\n",
    "add_total_populationM = pd.merge(add_total_populationF, total_populationM,on=[\"country\",\"year\"], how=\"inner\")\n",
    "\n",
    "#Adicionando a coluna de total de usuários de internet.\n",
    "add_users_internet = pd.merge(add_total_populationM, users_internet,on=[\"country\",\"year\"], how=\"inner\")\n",
    "\n",
    "#Adicionando a coluna de desigualdade de gênero.\n",
    "add_gender_inequality = pd.merge(add_users_internet, gender_inequality,on=[\"country\",\"year\"], how=\"inner\")\n",
    "\n",
    "#Adicionando a coluna de taxa de empregados a partir de 15 anos.\n",
    "add_employmentto_population = pd.merge(add_gender_inequality,employmentto_population,on=[\"country\",\"year\"], how=\"inner\")\n",
    "\n",
    "#Adicionando a coluna de afeto positivo e afeto negativo.\n",
    "result = pd.merge(add_employmentto_population, positive_negative,on=[\"country\",\"year\"], how=\"inner\")"
   ]
  },
  {
   "cell_type": "code",
   "execution_count": 8,
   "metadata": {},
   "outputs": [],
   "source": [
    "russia_df= result[(result[\"country\"] == \"Russian Federation\")]\n",
    "sweden_df= result[(result[\"country\"] == \"Sweden\") & (result[\"year\"] > 2005)]"
   ]
  },
  {
   "cell_type": "code",
   "execution_count": 9,
   "metadata": {},
   "outputs": [],
   "source": [
    "cr = climate_russia.groupby([\"year\",\"country\"], as_index=False).median()\n",
    "cs = climate_sweden.groupby([\"year\",\"country\"], as_index=False).median()"
   ]
  },
  {
   "cell_type": "code",
   "execution_count": 49,
   "metadata": {},
   "outputs": [
    {
     "data": {
      "text/html": [
       "<div>\n",
       "<style scoped>\n",
       "    .dataframe tbody tr th:only-of-type {\n",
       "        vertical-align: middle;\n",
       "    }\n",
       "\n",
       "    .dataframe tbody tr th {\n",
       "        vertical-align: top;\n",
       "    }\n",
       "\n",
       "    .dataframe thead th {\n",
       "        text-align: right;\n",
       "    }\n",
       "</style>\n",
       "<table border=\"1\" class=\"dataframe\">\n",
       "  <thead>\n",
       "    <tr style=\"text-align: right;\">\n",
       "      <th></th>\n",
       "      <th>country</th>\n",
       "      <th>year</th>\n",
       "      <th>sex</th>\n",
       "      <th>age</th>\n",
       "      <th>suicides_no</th>\n",
       "      <th>population</th>\n",
       "      <th>suicides/100kpop</th>\n",
       "      <th>gdp-year</th>\n",
       "      <th>gdp-per-capita</th>\n",
       "      <th>continent</th>\n",
       "      <th>...</th>\n",
       "      <th>hdi</th>\n",
       "      <th>totalPopulation</th>\n",
       "      <th>totalPopulationFemale</th>\n",
       "      <th>totalPopulationMale</th>\n",
       "      <th>totalUsersInternet</th>\n",
       "      <th>genderInequality</th>\n",
       "      <th>rateEmployment15andOlder</th>\n",
       "      <th>positiveAffect</th>\n",
       "      <th>negativeAffect</th>\n",
       "      <th>temperature-(celsius)</th>\n",
       "    </tr>\n",
       "  </thead>\n",
       "  <tbody>\n",
       "    <tr>\n",
       "      <th>0</th>\n",
       "      <td>Russian Federation</td>\n",
       "      <td>2010</td>\n",
       "      <td>male</td>\n",
       "      <td>75+ years</td>\n",
       "      <td>1506</td>\n",
       "      <td>2023458</td>\n",
       "      <td>74.43</td>\n",
       "      <td>1524916112079</td>\n",
       "      <td>11307</td>\n",
       "      <td>Europe</td>\n",
       "      <td>...</td>\n",
       "      <td>0.78</td>\n",
       "      <td>142849449.0</td>\n",
       "      <td>76601805.0</td>\n",
       "      <td>66247644.0</td>\n",
       "      <td>43.0</td>\n",
       "      <td>311.0</td>\n",
       "      <td>58.4</td>\n",
       "      <td>0.588975</td>\n",
       "      <td>0.171421</td>\n",
       "      <td>-4.6272</td>\n",
       "    </tr>\n",
       "    <tr>\n",
       "      <th>1</th>\n",
       "      <td>Russian Federation</td>\n",
       "      <td>2010</td>\n",
       "      <td>male</td>\n",
       "      <td>25-34 years</td>\n",
       "      <td>6508</td>\n",
       "      <td>11398127</td>\n",
       "      <td>57.10</td>\n",
       "      <td>1524916112079</td>\n",
       "      <td>11307</td>\n",
       "      <td>Europe</td>\n",
       "      <td>...</td>\n",
       "      <td>0.78</td>\n",
       "      <td>142849449.0</td>\n",
       "      <td>76601805.0</td>\n",
       "      <td>66247644.0</td>\n",
       "      <td>43.0</td>\n",
       "      <td>311.0</td>\n",
       "      <td>58.4</td>\n",
       "      <td>0.588975</td>\n",
       "      <td>0.171421</td>\n",
       "      <td>-4.6272</td>\n",
       "    </tr>\n",
       "    <tr>\n",
       "      <th>2</th>\n",
       "      <td>Russian Federation</td>\n",
       "      <td>2010</td>\n",
       "      <td>male</td>\n",
       "      <td>35-54 years</td>\n",
       "      <td>10304</td>\n",
       "      <td>19786280</td>\n",
       "      <td>52.08</td>\n",
       "      <td>1524916112079</td>\n",
       "      <td>11307</td>\n",
       "      <td>Europe</td>\n",
       "      <td>...</td>\n",
       "      <td>0.78</td>\n",
       "      <td>142849449.0</td>\n",
       "      <td>76601805.0</td>\n",
       "      <td>66247644.0</td>\n",
       "      <td>43.0</td>\n",
       "      <td>311.0</td>\n",
       "      <td>58.4</td>\n",
       "      <td>0.588975</td>\n",
       "      <td>0.171421</td>\n",
       "      <td>-4.6272</td>\n",
       "    </tr>\n",
       "    <tr>\n",
       "      <th>3</th>\n",
       "      <td>Russian Federation</td>\n",
       "      <td>2010</td>\n",
       "      <td>male</td>\n",
       "      <td>55-74 years</td>\n",
       "      <td>5178</td>\n",
       "      <td>11174530</td>\n",
       "      <td>46.34</td>\n",
       "      <td>1524916112079</td>\n",
       "      <td>11307</td>\n",
       "      <td>Europe</td>\n",
       "      <td>...</td>\n",
       "      <td>0.78</td>\n",
       "      <td>142849449.0</td>\n",
       "      <td>76601805.0</td>\n",
       "      <td>66247644.0</td>\n",
       "      <td>43.0</td>\n",
       "      <td>311.0</td>\n",
       "      <td>58.4</td>\n",
       "      <td>0.588975</td>\n",
       "      <td>0.171421</td>\n",
       "      <td>-4.6272</td>\n",
       "    </tr>\n",
       "    <tr>\n",
       "      <th>4</th>\n",
       "      <td>Russian Federation</td>\n",
       "      <td>2010</td>\n",
       "      <td>male</td>\n",
       "      <td>15-24 years</td>\n",
       "      <td>3934</td>\n",
       "      <td>10546669</td>\n",
       "      <td>37.30</td>\n",
       "      <td>1524916112079</td>\n",
       "      <td>11307</td>\n",
       "      <td>Europe</td>\n",
       "      <td>...</td>\n",
       "      <td>0.78</td>\n",
       "      <td>142849449.0</td>\n",
       "      <td>76601805.0</td>\n",
       "      <td>66247644.0</td>\n",
       "      <td>43.0</td>\n",
       "      <td>311.0</td>\n",
       "      <td>58.4</td>\n",
       "      <td>0.588975</td>\n",
       "      <td>0.171421</td>\n",
       "      <td>-4.6272</td>\n",
       "    </tr>\n",
       "  </tbody>\n",
       "</table>\n",
       "<p>5 rows × 21 columns</p>\n",
       "</div>"
      ],
      "text/plain": [
       "              country  year   sex          age  suicides_no  population  \\\n",
       "0  Russian Federation  2010  male    75+ years         1506     2023458   \n",
       "1  Russian Federation  2010  male  25-34 years         6508    11398127   \n",
       "2  Russian Federation  2010  male  35-54 years        10304    19786280   \n",
       "3  Russian Federation  2010  male  55-74 years         5178    11174530   \n",
       "4  Russian Federation  2010  male  15-24 years         3934    10546669   \n",
       "\n",
       "   suicides/100kpop       gdp-year  gdp-per-capita continent  \\\n",
       "0             74.43  1524916112079           11307    Europe   \n",
       "1             57.10  1524916112079           11307    Europe   \n",
       "2             52.08  1524916112079           11307    Europe   \n",
       "3             46.34  1524916112079           11307    Europe   \n",
       "4             37.30  1524916112079           11307    Europe   \n",
       "\n",
       "           ...             hdi  totalPopulation  totalPopulationFemale  \\\n",
       "0          ...            0.78      142849449.0             76601805.0   \n",
       "1          ...            0.78      142849449.0             76601805.0   \n",
       "2          ...            0.78      142849449.0             76601805.0   \n",
       "3          ...            0.78      142849449.0             76601805.0   \n",
       "4          ...            0.78      142849449.0             76601805.0   \n",
       "\n",
       "   totalPopulationMale  totalUsersInternet  genderInequality  \\\n",
       "0           66247644.0                43.0             311.0   \n",
       "1           66247644.0                43.0             311.0   \n",
       "2           66247644.0                43.0             311.0   \n",
       "3           66247644.0                43.0             311.0   \n",
       "4           66247644.0                43.0             311.0   \n",
       "\n",
       "   rateEmployment15andOlder  positiveAffect  negativeAffect  \\\n",
       "0                      58.4        0.588975        0.171421   \n",
       "1                      58.4        0.588975        0.171421   \n",
       "2                      58.4        0.588975        0.171421   \n",
       "3                      58.4        0.588975        0.171421   \n",
       "4                      58.4        0.588975        0.171421   \n",
       "\n",
       "   temperature-(celsius)  \n",
       "0                -4.6272  \n",
       "1                -4.6272  \n",
       "2                -4.6272  \n",
       "3                -4.6272  \n",
       "4                -4.6272  \n",
       "\n",
       "[5 rows x 21 columns]"
      ]
     },
     "execution_count": 49,
     "metadata": {},
     "output_type": "execute_result"
    }
   ],
   "source": [
    "russia = pd.merge(russia_df,cr,on=[\"country\",\"year\"], how=\"inner\")\n",
    "sweden = pd.merge(sweden_df,cs,on=[\"country\",\"year\"], how=\"inner\")\n",
    "russia.head()"
   ]
  },
  {
   "cell_type": "code",
   "execution_count": 11,
   "metadata": {},
   "outputs": [
    {
     "data": {
      "text/html": [
       "<div>\n",
       "<style scoped>\n",
       "    .dataframe tbody tr th:only-of-type {\n",
       "        vertical-align: middle;\n",
       "    }\n",
       "\n",
       "    .dataframe tbody tr th {\n",
       "        vertical-align: top;\n",
       "    }\n",
       "\n",
       "    .dataframe thead th {\n",
       "        text-align: right;\n",
       "    }\n",
       "</style>\n",
       "<table border=\"1\" class=\"dataframe\">\n",
       "  <thead>\n",
       "    <tr style=\"text-align: right;\">\n",
       "      <th></th>\n",
       "      <th>country</th>\n",
       "      <th>year</th>\n",
       "      <th>sex</th>\n",
       "      <th>age</th>\n",
       "      <th>suicides_no</th>\n",
       "      <th>population</th>\n",
       "      <th>suicides/100kpop</th>\n",
       "      <th>gdp-year</th>\n",
       "      <th>gdp-per-capita</th>\n",
       "      <th>continent</th>\n",
       "      <th>...</th>\n",
       "      <th>hdi</th>\n",
       "      <th>totalPopulation</th>\n",
       "      <th>totalPopulationFemale</th>\n",
       "      <th>totalPopulationMale</th>\n",
       "      <th>totalUsersInternet</th>\n",
       "      <th>genderInequality</th>\n",
       "      <th>rateEmployment15andOlder</th>\n",
       "      <th>positiveAffect</th>\n",
       "      <th>negativeAffect</th>\n",
       "      <th>temperature-(celsius)</th>\n",
       "    </tr>\n",
       "  </thead>\n",
       "  <tbody>\n",
       "    <tr>\n",
       "      <th>0</th>\n",
       "      <td>Russian Federation</td>\n",
       "      <td>2010</td>\n",
       "      <td>male</td>\n",
       "      <td>75+ years</td>\n",
       "      <td>1506</td>\n",
       "      <td>2023458</td>\n",
       "      <td>74.43</td>\n",
       "      <td>1524916112079</td>\n",
       "      <td>11307</td>\n",
       "      <td>Europe</td>\n",
       "      <td>...</td>\n",
       "      <td>0.780</td>\n",
       "      <td>142849449.0</td>\n",
       "      <td>76601805.0</td>\n",
       "      <td>66247644.0</td>\n",
       "      <td>43.0</td>\n",
       "      <td>311.0</td>\n",
       "      <td>58.4</td>\n",
       "      <td>0.588975</td>\n",
       "      <td>0.171421</td>\n",
       "      <td>-4.6272</td>\n",
       "    </tr>\n",
       "    <tr>\n",
       "      <th>1</th>\n",
       "      <td>Russian Federation</td>\n",
       "      <td>2010</td>\n",
       "      <td>male</td>\n",
       "      <td>25-34 years</td>\n",
       "      <td>6508</td>\n",
       "      <td>11398127</td>\n",
       "      <td>57.10</td>\n",
       "      <td>1524916112079</td>\n",
       "      <td>11307</td>\n",
       "      <td>Europe</td>\n",
       "      <td>...</td>\n",
       "      <td>0.780</td>\n",
       "      <td>142849449.0</td>\n",
       "      <td>76601805.0</td>\n",
       "      <td>66247644.0</td>\n",
       "      <td>43.0</td>\n",
       "      <td>311.0</td>\n",
       "      <td>58.4</td>\n",
       "      <td>0.588975</td>\n",
       "      <td>0.171421</td>\n",
       "      <td>-4.6272</td>\n",
       "    </tr>\n",
       "    <tr>\n",
       "      <th>2</th>\n",
       "      <td>Russian Federation</td>\n",
       "      <td>2010</td>\n",
       "      <td>male</td>\n",
       "      <td>35-54 years</td>\n",
       "      <td>10304</td>\n",
       "      <td>19786280</td>\n",
       "      <td>52.08</td>\n",
       "      <td>1524916112079</td>\n",
       "      <td>11307</td>\n",
       "      <td>Europe</td>\n",
       "      <td>...</td>\n",
       "      <td>0.780</td>\n",
       "      <td>142849449.0</td>\n",
       "      <td>76601805.0</td>\n",
       "      <td>66247644.0</td>\n",
       "      <td>43.0</td>\n",
       "      <td>311.0</td>\n",
       "      <td>58.4</td>\n",
       "      <td>0.588975</td>\n",
       "      <td>0.171421</td>\n",
       "      <td>-4.6272</td>\n",
       "    </tr>\n",
       "    <tr>\n",
       "      <th>3</th>\n",
       "      <td>Russian Federation</td>\n",
       "      <td>2010</td>\n",
       "      <td>male</td>\n",
       "      <td>55-74 years</td>\n",
       "      <td>5178</td>\n",
       "      <td>11174530</td>\n",
       "      <td>46.34</td>\n",
       "      <td>1524916112079</td>\n",
       "      <td>11307</td>\n",
       "      <td>Europe</td>\n",
       "      <td>...</td>\n",
       "      <td>0.780</td>\n",
       "      <td>142849449.0</td>\n",
       "      <td>76601805.0</td>\n",
       "      <td>66247644.0</td>\n",
       "      <td>43.0</td>\n",
       "      <td>311.0</td>\n",
       "      <td>58.4</td>\n",
       "      <td>0.588975</td>\n",
       "      <td>0.171421</td>\n",
       "      <td>-4.6272</td>\n",
       "    </tr>\n",
       "    <tr>\n",
       "      <th>4</th>\n",
       "      <td>Russian Federation</td>\n",
       "      <td>2010</td>\n",
       "      <td>male</td>\n",
       "      <td>15-24 years</td>\n",
       "      <td>3934</td>\n",
       "      <td>10546669</td>\n",
       "      <td>37.30</td>\n",
       "      <td>1524916112079</td>\n",
       "      <td>11307</td>\n",
       "      <td>Europe</td>\n",
       "      <td>...</td>\n",
       "      <td>0.780</td>\n",
       "      <td>142849449.0</td>\n",
       "      <td>76601805.0</td>\n",
       "      <td>66247644.0</td>\n",
       "      <td>43.0</td>\n",
       "      <td>311.0</td>\n",
       "      <td>58.4</td>\n",
       "      <td>0.588975</td>\n",
       "      <td>0.171421</td>\n",
       "      <td>-4.6272</td>\n",
       "    </tr>\n",
       "    <tr>\n",
       "      <th>10</th>\n",
       "      <td>Russian Federation</td>\n",
       "      <td>2010</td>\n",
       "      <td>male</td>\n",
       "      <td>5-14 years</td>\n",
       "      <td>131</td>\n",
       "      <td>7012170</td>\n",
       "      <td>1.87</td>\n",
       "      <td>1524916112079</td>\n",
       "      <td>11307</td>\n",
       "      <td>Europe</td>\n",
       "      <td>...</td>\n",
       "      <td>0.780</td>\n",
       "      <td>142849449.0</td>\n",
       "      <td>76601805.0</td>\n",
       "      <td>66247644.0</td>\n",
       "      <td>43.0</td>\n",
       "      <td>311.0</td>\n",
       "      <td>58.4</td>\n",
       "      <td>0.588975</td>\n",
       "      <td>0.171421</td>\n",
       "      <td>-4.6272</td>\n",
       "    </tr>\n",
       "    <tr>\n",
       "      <th>12</th>\n",
       "      <td>Russian Federation</td>\n",
       "      <td>2011</td>\n",
       "      <td>male</td>\n",
       "      <td>75+ years</td>\n",
       "      <td>1485</td>\n",
       "      <td>2093449</td>\n",
       "      <td>70.94</td>\n",
       "      <td>2051661732060</td>\n",
       "      <td>15226</td>\n",
       "      <td>Europe</td>\n",
       "      <td>...</td>\n",
       "      <td>0.789</td>\n",
       "      <td>142960868.0</td>\n",
       "      <td>76657531.0</td>\n",
       "      <td>66303337.0</td>\n",
       "      <td>49.0</td>\n",
       "      <td>305.0</td>\n",
       "      <td>59.3</td>\n",
       "      <td>0.601348</td>\n",
       "      <td>0.165235</td>\n",
       "      <td>-2.4782</td>\n",
       "    </tr>\n",
       "    <tr>\n",
       "      <th>13</th>\n",
       "      <td>Russian Federation</td>\n",
       "      <td>2011</td>\n",
       "      <td>male</td>\n",
       "      <td>25-34 years</td>\n",
       "      <td>6011</td>\n",
       "      <td>11598196</td>\n",
       "      <td>51.83</td>\n",
       "      <td>2051661732060</td>\n",
       "      <td>15226</td>\n",
       "      <td>Europe</td>\n",
       "      <td>...</td>\n",
       "      <td>0.789</td>\n",
       "      <td>142960868.0</td>\n",
       "      <td>76657531.0</td>\n",
       "      <td>66303337.0</td>\n",
       "      <td>49.0</td>\n",
       "      <td>305.0</td>\n",
       "      <td>59.3</td>\n",
       "      <td>0.601348</td>\n",
       "      <td>0.165235</td>\n",
       "      <td>-2.4782</td>\n",
       "    </tr>\n",
       "    <tr>\n",
       "      <th>14</th>\n",
       "      <td>Russian Federation</td>\n",
       "      <td>2011</td>\n",
       "      <td>male</td>\n",
       "      <td>35-54 years</td>\n",
       "      <td>9411</td>\n",
       "      <td>19684905</td>\n",
       "      <td>47.81</td>\n",
       "      <td>2051661732060</td>\n",
       "      <td>15226</td>\n",
       "      <td>Europe</td>\n",
       "      <td>...</td>\n",
       "      <td>0.789</td>\n",
       "      <td>142960868.0</td>\n",
       "      <td>76657531.0</td>\n",
       "      <td>66303337.0</td>\n",
       "      <td>49.0</td>\n",
       "      <td>305.0</td>\n",
       "      <td>59.3</td>\n",
       "      <td>0.601348</td>\n",
       "      <td>0.165235</td>\n",
       "      <td>-2.4782</td>\n",
       "    </tr>\n",
       "    <tr>\n",
       "      <th>15</th>\n",
       "      <td>Russian Federation</td>\n",
       "      <td>2011</td>\n",
       "      <td>male</td>\n",
       "      <td>55-74 years</td>\n",
       "      <td>4892</td>\n",
       "      <td>11401026</td>\n",
       "      <td>42.91</td>\n",
       "      <td>2051661732060</td>\n",
       "      <td>15226</td>\n",
       "      <td>Europe</td>\n",
       "      <td>...</td>\n",
       "      <td>0.789</td>\n",
       "      <td>142960868.0</td>\n",
       "      <td>76657531.0</td>\n",
       "      <td>66303337.0</td>\n",
       "      <td>49.0</td>\n",
       "      <td>305.0</td>\n",
       "      <td>59.3</td>\n",
       "      <td>0.601348</td>\n",
       "      <td>0.165235</td>\n",
       "      <td>-2.4782</td>\n",
       "    </tr>\n",
       "  </tbody>\n",
       "</table>\n",
       "<p>10 rows × 21 columns</p>\n",
       "</div>"
      ],
      "text/plain": [
       "               country  year   sex          age  suicides_no  population  \\\n",
       "0   Russian Federation  2010  male    75+ years         1506     2023458   \n",
       "1   Russian Federation  2010  male  25-34 years         6508    11398127   \n",
       "2   Russian Federation  2010  male  35-54 years        10304    19786280   \n",
       "3   Russian Federation  2010  male  55-74 years         5178    11174530   \n",
       "4   Russian Federation  2010  male  15-24 years         3934    10546669   \n",
       "10  Russian Federation  2010  male   5-14 years          131     7012170   \n",
       "12  Russian Federation  2011  male    75+ years         1485     2093449   \n",
       "13  Russian Federation  2011  male  25-34 years         6011    11598196   \n",
       "14  Russian Federation  2011  male  35-54 years         9411    19684905   \n",
       "15  Russian Federation  2011  male  55-74 years         4892    11401026   \n",
       "\n",
       "    suicides/100kpop       gdp-year  gdp-per-capita continent  \\\n",
       "0              74.43  1524916112079           11307    Europe   \n",
       "1              57.10  1524916112079           11307    Europe   \n",
       "2              52.08  1524916112079           11307    Europe   \n",
       "3              46.34  1524916112079           11307    Europe   \n",
       "4              37.30  1524916112079           11307    Europe   \n",
       "10              1.87  1524916112079           11307    Europe   \n",
       "12             70.94  2051661732060           15226    Europe   \n",
       "13             51.83  2051661732060           15226    Europe   \n",
       "14             47.81  2051661732060           15226    Europe   \n",
       "15             42.91  2051661732060           15226    Europe   \n",
       "\n",
       "            ...              hdi  totalPopulation  totalPopulationFemale  \\\n",
       "0           ...            0.780      142849449.0             76601805.0   \n",
       "1           ...            0.780      142849449.0             76601805.0   \n",
       "2           ...            0.780      142849449.0             76601805.0   \n",
       "3           ...            0.780      142849449.0             76601805.0   \n",
       "4           ...            0.780      142849449.0             76601805.0   \n",
       "10          ...            0.780      142849449.0             76601805.0   \n",
       "12          ...            0.789      142960868.0             76657531.0   \n",
       "13          ...            0.789      142960868.0             76657531.0   \n",
       "14          ...            0.789      142960868.0             76657531.0   \n",
       "15          ...            0.789      142960868.0             76657531.0   \n",
       "\n",
       "    totalPopulationMale  totalUsersInternet  genderInequality  \\\n",
       "0            66247644.0                43.0             311.0   \n",
       "1            66247644.0                43.0             311.0   \n",
       "2            66247644.0                43.0             311.0   \n",
       "3            66247644.0                43.0             311.0   \n",
       "4            66247644.0                43.0             311.0   \n",
       "10           66247644.0                43.0             311.0   \n",
       "12           66303337.0                49.0             305.0   \n",
       "13           66303337.0                49.0             305.0   \n",
       "14           66303337.0                49.0             305.0   \n",
       "15           66303337.0                49.0             305.0   \n",
       "\n",
       "    rateEmployment15andOlder  positiveAffect  negativeAffect  \\\n",
       "0                       58.4        0.588975        0.171421   \n",
       "1                       58.4        0.588975        0.171421   \n",
       "2                       58.4        0.588975        0.171421   \n",
       "3                       58.4        0.588975        0.171421   \n",
       "4                       58.4        0.588975        0.171421   \n",
       "10                      58.4        0.588975        0.171421   \n",
       "12                      59.3        0.601348        0.165235   \n",
       "13                      59.3        0.601348        0.165235   \n",
       "14                      59.3        0.601348        0.165235   \n",
       "15                      59.3        0.601348        0.165235   \n",
       "\n",
       "    temperature-(celsius)  \n",
       "0                 -4.6272  \n",
       "1                 -4.6272  \n",
       "2                 -4.6272  \n",
       "3                 -4.6272  \n",
       "4                 -4.6272  \n",
       "10                -4.6272  \n",
       "12                -2.4782  \n",
       "13                -2.4782  \n",
       "14                -2.4782  \n",
       "15                -2.4782  \n",
       "\n",
       "[10 rows x 21 columns]"
      ]
     },
     "execution_count": 11,
     "metadata": {},
     "output_type": "execute_result"
    }
   ],
   "source": [
    "russia_male = russia[(russia[\"sex\"] == \"male\")]\n",
    "russia_female = russia[(russia[\"sex\"] == \"female\")]\n",
    "sweden_male = sweden[(sweden[\"sex\"] == \"male\")]\n",
    "sweden_female = sweden[(sweden[\"sex\"] == \"female\")]\n",
    "russia_male. head(10)"
   ]
  },
  {
   "cell_type": "code",
   "execution_count": 12,
   "metadata": {},
   "outputs": [],
   "source": [
    "gr = russia.groupby([\"year\",\"country\",\"sex\",\"totalPopulationFemale\",\"totalPopulationMale\"], as_index=False).sum()\n",
    "gs = sweden.groupby([\"year\",\"country\",\"sex\",\"totalPopulationFemale\",\"totalPopulationMale\"], as_index=False).sum()"
   ]
  },
  {
   "cell_type": "code",
   "execution_count": 13,
   "metadata": {},
   "outputs": [
    {
     "data": {
      "text/html": [
       "<div>\n",
       "<style scoped>\n",
       "    .dataframe tbody tr th:only-of-type {\n",
       "        vertical-align: middle;\n",
       "    }\n",
       "\n",
       "    .dataframe tbody tr th {\n",
       "        vertical-align: top;\n",
       "    }\n",
       "\n",
       "    .dataframe thead th {\n",
       "        text-align: right;\n",
       "    }\n",
       "</style>\n",
       "<table border=\"1\" class=\"dataframe\">\n",
       "  <thead>\n",
       "    <tr style=\"text-align: right;\">\n",
       "      <th></th>\n",
       "      <th>year</th>\n",
       "      <th>country</th>\n",
       "      <th>sex</th>\n",
       "      <th>totalPopulationFemale</th>\n",
       "      <th>totalPopulationMale</th>\n",
       "      <th>suicides_no</th>\n",
       "      <th>population</th>\n",
       "      <th>suicides/100kpop</th>\n",
       "      <th>gdp-year</th>\n",
       "      <th>gdp-per-capita</th>\n",
       "      <th>hdi</th>\n",
       "      <th>totalPopulation</th>\n",
       "      <th>totalUsersInternet</th>\n",
       "      <th>genderInequality</th>\n",
       "      <th>rateEmployment15andOlder</th>\n",
       "      <th>positiveAffect</th>\n",
       "      <th>negativeAffect</th>\n",
       "      <th>temperature-(celsius)</th>\n",
       "    </tr>\n",
       "  </thead>\n",
       "  <tbody>\n",
       "    <tr>\n",
       "      <th>0</th>\n",
       "      <td>2010</td>\n",
       "      <td>Russian Federation</td>\n",
       "      <td>female</td>\n",
       "      <td>76601805.0</td>\n",
       "      <td>66247644.0</td>\n",
       "      <td>5795</td>\n",
       "      <td>72924753</td>\n",
       "      <td>50.09</td>\n",
       "      <td>9149496672474</td>\n",
       "      <td>67842</td>\n",
       "      <td>4.680</td>\n",
       "      <td>857096694.0</td>\n",
       "      <td>258.0</td>\n",
       "      <td>1866.0</td>\n",
       "      <td>350.4</td>\n",
       "      <td>3.533852</td>\n",
       "      <td>1.028526</td>\n",
       "      <td>-27.7632</td>\n",
       "    </tr>\n",
       "    <tr>\n",
       "      <th>1</th>\n",
       "      <td>2010</td>\n",
       "      <td>Russian Federation</td>\n",
       "      <td>male</td>\n",
       "      <td>76601805.0</td>\n",
       "      <td>66247644.0</td>\n",
       "      <td>27561</td>\n",
       "      <td>61941234</td>\n",
       "      <td>269.12</td>\n",
       "      <td>9149496672474</td>\n",
       "      <td>67842</td>\n",
       "      <td>4.680</td>\n",
       "      <td>857096694.0</td>\n",
       "      <td>258.0</td>\n",
       "      <td>1866.0</td>\n",
       "      <td>350.4</td>\n",
       "      <td>3.533852</td>\n",
       "      <td>1.028526</td>\n",
       "      <td>-27.7632</td>\n",
       "    </tr>\n",
       "    <tr>\n",
       "      <th>2</th>\n",
       "      <td>2011</td>\n",
       "      <td>Russian Federation</td>\n",
       "      <td>female</td>\n",
       "      <td>76657531.0</td>\n",
       "      <td>66303337.0</td>\n",
       "      <td>5568</td>\n",
       "      <td>72844705</td>\n",
       "      <td>49.30</td>\n",
       "      <td>12309970392360</td>\n",
       "      <td>91356</td>\n",
       "      <td>4.734</td>\n",
       "      <td>857765208.0</td>\n",
       "      <td>294.0</td>\n",
       "      <td>1830.0</td>\n",
       "      <td>355.8</td>\n",
       "      <td>3.608086</td>\n",
       "      <td>0.991410</td>\n",
       "      <td>-14.8692</td>\n",
       "    </tr>\n",
       "    <tr>\n",
       "      <th>3</th>\n",
       "      <td>2011</td>\n",
       "      <td>Russian Federation</td>\n",
       "      <td>male</td>\n",
       "      <td>76657531.0</td>\n",
       "      <td>66303337.0</td>\n",
       "      <td>25470</td>\n",
       "      <td>61901169</td>\n",
       "      <td>250.38</td>\n",
       "      <td>12309970392360</td>\n",
       "      <td>91356</td>\n",
       "      <td>4.734</td>\n",
       "      <td>857765208.0</td>\n",
       "      <td>294.0</td>\n",
       "      <td>1830.0</td>\n",
       "      <td>355.8</td>\n",
       "      <td>3.608086</td>\n",
       "      <td>0.991410</td>\n",
       "      <td>-14.8692</td>\n",
       "    </tr>\n",
       "    <tr>\n",
       "      <th>4</th>\n",
       "      <td>2012</td>\n",
       "      <td>Russian Federation</td>\n",
       "      <td>female</td>\n",
       "      <td>76764455.0</td>\n",
       "      <td>66437221.0</td>\n",
       "      <td>5454</td>\n",
       "      <td>72781138</td>\n",
       "      <td>47.56</td>\n",
       "      <td>13261541861670</td>\n",
       "      <td>98478</td>\n",
       "      <td>4.788</td>\n",
       "      <td>859210056.0</td>\n",
       "      <td>382.8</td>\n",
       "      <td>1764.0</td>\n",
       "      <td>360.0</td>\n",
       "      <td>3.666985</td>\n",
       "      <td>1.041627</td>\n",
       "      <td>-21.9663</td>\n",
       "    </tr>\n",
       "  </tbody>\n",
       "</table>\n",
       "</div>"
      ],
      "text/plain": [
       "   year             country     sex  totalPopulationFemale  \\\n",
       "0  2010  Russian Federation  female             76601805.0   \n",
       "1  2010  Russian Federation    male             76601805.0   \n",
       "2  2011  Russian Federation  female             76657531.0   \n",
       "3  2011  Russian Federation    male             76657531.0   \n",
       "4  2012  Russian Federation  female             76764455.0   \n",
       "\n",
       "   totalPopulationMale  suicides_no  population  suicides/100kpop  \\\n",
       "0           66247644.0         5795    72924753             50.09   \n",
       "1           66247644.0        27561    61941234            269.12   \n",
       "2           66303337.0         5568    72844705             49.30   \n",
       "3           66303337.0        25470    61901169            250.38   \n",
       "4           66437221.0         5454    72781138             47.56   \n",
       "\n",
       "         gdp-year  gdp-per-capita    hdi  totalPopulation  totalUsersInternet  \\\n",
       "0   9149496672474           67842  4.680      857096694.0               258.0   \n",
       "1   9149496672474           67842  4.680      857096694.0               258.0   \n",
       "2  12309970392360           91356  4.734      857765208.0               294.0   \n",
       "3  12309970392360           91356  4.734      857765208.0               294.0   \n",
       "4  13261541861670           98478  4.788      859210056.0               382.8   \n",
       "\n",
       "   genderInequality  rateEmployment15andOlder  positiveAffect  negativeAffect  \\\n",
       "0            1866.0                     350.4        3.533852        1.028526   \n",
       "1            1866.0                     350.4        3.533852        1.028526   \n",
       "2            1830.0                     355.8        3.608086        0.991410   \n",
       "3            1830.0                     355.8        3.608086        0.991410   \n",
       "4            1764.0                     360.0        3.666985        1.041627   \n",
       "\n",
       "   temperature-(celsius)  \n",
       "0               -27.7632  \n",
       "1               -27.7632  \n",
       "2               -14.8692  \n",
       "3               -14.8692  \n",
       "4               -21.9663  "
      ]
     },
     "execution_count": 13,
     "metadata": {},
     "output_type": "execute_result"
    }
   ],
   "source": [
    "gr.head()"
   ]
  },
  {
   "cell_type": "code",
   "execution_count": 14,
   "metadata": {},
   "outputs": [
    {
     "data": {
      "text/html": [
       "<div>\n",
       "<style scoped>\n",
       "    .dataframe tbody tr th:only-of-type {\n",
       "        vertical-align: middle;\n",
       "    }\n",
       "\n",
       "    .dataframe tbody tr th {\n",
       "        vertical-align: top;\n",
       "    }\n",
       "\n",
       "    .dataframe thead th {\n",
       "        text-align: right;\n",
       "    }\n",
       "</style>\n",
       "<table border=\"1\" class=\"dataframe\">\n",
       "  <thead>\n",
       "    <tr style=\"text-align: right;\">\n",
       "      <th></th>\n",
       "      <th>year</th>\n",
       "      <th>country</th>\n",
       "      <th>totalPopulation</th>\n",
       "      <th>hdi</th>\n",
       "      <th>gdp-year</th>\n",
       "      <th>genderInequality</th>\n",
       "      <th>totalUsersInternet</th>\n",
       "      <th>rateEmployment15andOlder</th>\n",
       "      <th>positiveAffect</th>\n",
       "      <th>negativeAffect</th>\n",
       "      <th>temperature-(celsius)</th>\n",
       "      <th>suicides_no</th>\n",
       "      <th>population</th>\n",
       "      <th>suicides/100kpop</th>\n",
       "      <th>gdp-per-capita</th>\n",
       "      <th>totalPopulationFemale</th>\n",
       "      <th>totalPopulationMale</th>\n",
       "    </tr>\n",
       "  </thead>\n",
       "  <tbody>\n",
       "    <tr>\n",
       "      <th>0</th>\n",
       "      <td>2010</td>\n",
       "      <td>Russian Federation</td>\n",
       "      <td>142849449.0</td>\n",
       "      <td>0.780</td>\n",
       "      <td>1524916112079</td>\n",
       "      <td>311.0</td>\n",
       "      <td>43.0</td>\n",
       "      <td>58.4</td>\n",
       "      <td>0.588975</td>\n",
       "      <td>0.171421</td>\n",
       "      <td>-4.62720</td>\n",
       "      <td>33356</td>\n",
       "      <td>134865987</td>\n",
       "      <td>319.21</td>\n",
       "      <td>135684</td>\n",
       "      <td>919221660.0</td>\n",
       "      <td>794971728.0</td>\n",
       "    </tr>\n",
       "    <tr>\n",
       "      <th>1</th>\n",
       "      <td>2010</td>\n",
       "      <td>Sweden</td>\n",
       "      <td>9378126.0</td>\n",
       "      <td>0.905</td>\n",
       "      <td>488377689565</td>\n",
       "      <td>48.0</td>\n",
       "      <td>90.0</td>\n",
       "      <td>57.7</td>\n",
       "      <td>0.833033</td>\n",
       "      <td>0.200112</td>\n",
       "      <td>2.20141</td>\n",
       "      <td>1141</td>\n",
       "      <td>8823125</td>\n",
       "      <td>146.54</td>\n",
       "      <td>664224</td>\n",
       "      <td>56483388.0</td>\n",
       "      <td>56054124.0</td>\n",
       "    </tr>\n",
       "    <tr>\n",
       "      <th>2</th>\n",
       "      <td>2011</td>\n",
       "      <td>Russian Federation</td>\n",
       "      <td>142960868.0</td>\n",
       "      <td>0.789</td>\n",
       "      <td>2051661732060</td>\n",
       "      <td>305.0</td>\n",
       "      <td>49.0</td>\n",
       "      <td>59.3</td>\n",
       "      <td>0.601348</td>\n",
       "      <td>0.165235</td>\n",
       "      <td>-2.47820</td>\n",
       "      <td>31038</td>\n",
       "      <td>134745874</td>\n",
       "      <td>299.68</td>\n",
       "      <td>182712</td>\n",
       "      <td>919890372.0</td>\n",
       "      <td>795640044.0</td>\n",
       "    </tr>\n",
       "    <tr>\n",
       "      <th>3</th>\n",
       "      <td>2011</td>\n",
       "      <td>Sweden</td>\n",
       "      <td>9449213.0</td>\n",
       "      <td>0.906</td>\n",
       "      <td>563109663291</td>\n",
       "      <td>47.0</td>\n",
       "      <td>92.8</td>\n",
       "      <td>58.4</td>\n",
       "      <td>0.814561</td>\n",
       "      <td>0.179152</td>\n",
       "      <td>4.04162</td>\n",
       "      <td>1112</td>\n",
       "      <td>8884644</td>\n",
       "      <td>141.77</td>\n",
       "      <td>760560</td>\n",
       "      <td>56867088.0</td>\n",
       "      <td>56523468.0</td>\n",
       "    </tr>\n",
       "    <tr>\n",
       "      <th>4</th>\n",
       "      <td>2012</td>\n",
       "      <td>Russian Federation</td>\n",
       "      <td>143201676.0</td>\n",
       "      <td>0.798</td>\n",
       "      <td>2210256976945</td>\n",
       "      <td>294.0</td>\n",
       "      <td>63.8</td>\n",
       "      <td>60.0</td>\n",
       "      <td>0.611164</td>\n",
       "      <td>0.173604</td>\n",
       "      <td>-3.66105</td>\n",
       "      <td>29643</td>\n",
       "      <td>134668522</td>\n",
       "      <td>285.51</td>\n",
       "      <td>196956</td>\n",
       "      <td>921173460.0</td>\n",
       "      <td>797246652.0</td>\n",
       "    </tr>\n",
       "  </tbody>\n",
       "</table>\n",
       "</div>"
      ],
      "text/plain": [
       "   year             country  totalPopulation    hdi       gdp-year  \\\n",
       "0  2010  Russian Federation      142849449.0  0.780  1524916112079   \n",
       "1  2010              Sweden        9378126.0  0.905   488377689565   \n",
       "2  2011  Russian Federation      142960868.0  0.789  2051661732060   \n",
       "3  2011              Sweden        9449213.0  0.906   563109663291   \n",
       "4  2012  Russian Federation      143201676.0  0.798  2210256976945   \n",
       "\n",
       "   genderInequality  totalUsersInternet  rateEmployment15andOlder  \\\n",
       "0             311.0                43.0                      58.4   \n",
       "1              48.0                90.0                      57.7   \n",
       "2             305.0                49.0                      59.3   \n",
       "3              47.0                92.8                      58.4   \n",
       "4             294.0                63.8                      60.0   \n",
       "\n",
       "   positiveAffect  negativeAffect  temperature-(celsius)  suicides_no  \\\n",
       "0        0.588975        0.171421               -4.62720        33356   \n",
       "1        0.833033        0.200112                2.20141         1141   \n",
       "2        0.601348        0.165235               -2.47820        31038   \n",
       "3        0.814561        0.179152                4.04162         1112   \n",
       "4        0.611164        0.173604               -3.66105        29643   \n",
       "\n",
       "   population  suicides/100kpop  gdp-per-capita  totalPopulationFemale  \\\n",
       "0   134865987            319.21          135684            919221660.0   \n",
       "1     8823125            146.54          664224             56483388.0   \n",
       "2   134745874            299.68          182712            919890372.0   \n",
       "3     8884644            141.77          760560             56867088.0   \n",
       "4   134668522            285.51          196956            921173460.0   \n",
       "\n",
       "   totalPopulationMale  \n",
       "0          794971728.0  \n",
       "1           56054124.0  \n",
       "2          795640044.0  \n",
       "3           56523468.0  \n",
       "4          797246652.0  "
      ]
     },
     "execution_count": 14,
     "metadata": {},
     "output_type": "execute_result"
    }
   ],
   "source": [
    "myGroup = pd.merge(russia,sweden, how=\"outer\")\n",
    "myGroup = myGroup.groupby([\"year\",\"country\",\"totalPopulation\", \"hdi\",\"gdp-year\",\"genderInequality\",\"totalUsersInternet\",\"rateEmployment15andOlder\",\"positiveAffect\",\n",
    "                           \"negativeAffect\",\"temperature-(celsius)\"], as_index=False).sum()\n",
    "myGroup.head()"
   ]
  },
  {
   "cell_type": "code",
   "execution_count": 15,
   "metadata": {},
   "outputs": [],
   "source": [
    "#Pegando os países por suas sub-regiões.\n",
    "australia_newzeland = result[(result[\"sub_region\"] == \"Australia and New Zealand\")]\n",
    "caribbean = result[(result[\"sub_region\"] == \"Caribbean\")]\n",
    "central_america = result[(result[\"sub_region\"] == \"Central America\")]\n",
    "central_asia = result[(result[\"sub_region\"] == \"Central Asia\")]\n",
    "eastern_africa = result[(result[\"sub_region\"] == \"Eastern Africa\")]\n",
    "eastern_asia = result[(result[\"sub_region\"] == \"Eastern Asia\")]\n",
    "eastern_europe = result[(result[\"sub_region\"] == \"Eastern Europe\")]\n",
    "melanesia = result[(result[\"sub_region\"] == \"Melanesia\")]\n",
    "micronesia = result[(result[\"sub_region\"] == \"Micronesia\")]\n",
    "northern_america = result[(result[\"sub_region\"] == \"Northern America\")]\n",
    "northern_europe = result[(result[\"sub_region\"] == \"Northern Europe\")]\n",
    "south_america = result[(result[\"sub_region\"] == \"South America\")]\n",
    "south_eastern_asia = result[(result[\"sub_region\"] == \"South-Eastern Asia\")]\n",
    "southern_africa = result[(result[\"sub_region\"] == \"Southern Africa\")]\n",
    "southern_asia = result[(result[\"sub_region\"] == \"Southern Asia\")]\n",
    "southern_europe = result[(result[\"sub_region\"] == \"Southern Europe\")]\n",
    "western_africa = result[(result[\"sub_region\"] == \"Western Africa\")]\n",
    "western_asia = result[(result[\"sub_region\"] == \"Western Asia\")]\n",
    "western_europe = result[(result[\"sub_region\"] == \"Western Europe\")]"
   ]
  },
  {
   "cell_type": "code",
   "execution_count": 16,
   "metadata": {},
   "outputs": [],
   "source": [
    "#Pegando os países por continentes\n",
    "africa = result[(result[\"continent\"] == \"Africa\")]\n",
    "americas = result[(result[\"continent\"] == \"Americas\")]\n",
    "asia = result[(result[\"continent\"] == \"Asia\")]\n",
    "europe = result[(result[\"continent\"] == \"Europe\")]\n",
    "Oceania = result[(result[\"continent\"] == \"Oceania\")]"
   ]
  },
  {
   "cell_type": "code",
   "execution_count": 17,
   "metadata": {},
   "outputs": [],
   "source": [
    "group_sa = south_america.groupby([\"year\",\"country\",\"hdi\"], as_index=False).sum()\n",
    "group_ee = eastern_europe.groupby([\"year\",\"country\",\"hdi\"], as_index=False).sum()"
   ]
  },
  {
   "cell_type": "code",
   "execution_count": 18,
   "metadata": {},
   "outputs": [],
   "source": [
    "#Função para colocar valores nulos.\n",
    "#Substitui valores nulos por 0\n",
    "#Primeira apresentação\n",
    "def insert_zero(df,start = 2000, end = 2016):\n",
    "    country_list = list(df[\"country\"].unique())\n",
    "    for year in range(start,end):\n",
    "        for country in country_list:\n",
    "            if len(df[(df[\"country\"] == country) & (df[\"year\"] == year)]) == 0:\n",
    "                df2 = pd.DataFrame({\"country\": [country], \"year\": [year], \"hdi\" : [0]})\n",
    "                df = df.append(df2, ignore_index=True)\n",
    "    return df\n"
   ]
  },
  {
   "cell_type": "code",
   "execution_count": 19,
   "metadata": {},
   "outputs": [],
   "source": [
    "#Atribuindo os valores nulos ao dataframe.\n",
    "#group_sa = insert_zero(group_sa)\n",
    "#group_ee = insert_zero(group_ee)"
   ]
  },
  {
   "cell_type": "code",
   "execution_count": 20,
   "metadata": {},
   "outputs": [],
   "source": [
    "def axis_x_center(length=1):\n",
    "    start = -(length//2) if length%2 == 0 else -((length//2))\n",
    "    end = (length//2) if length%2 == 0 else ((length//2)+1)\n",
    "    \n",
    "    return [x for x in range(start, end)]"
   ]
  },
  {
   "cell_type": "code",
   "execution_count": 21,
   "metadata": {},
   "outputs": [],
   "source": [
    "#TESTE\n",
    "#country_list = list(group_sa[\"country\"].unique())\n",
    "#country_hdi = list(group_sa[\"hdi\"][group_sa[\"country\"] == \"Argentina\"])\n",
    "#country_year = list(group_sa[\"year\"].unique())"
   ]
  },
  {
   "cell_type": "code",
   "execution_count": 22,
   "metadata": {},
   "outputs": [
    {
     "data": {
      "text/plain": [
       "' def gerar_grafico_idh(df, axis_y, axis_x, title,wd = 0.15, start = 2000, end = 2016):\\n    global list_colors\\n    \\n    plt.ylabel(axis_y)\\n    plt.xlabel(axis_x)\\n    plt.title(title)\\n    ax = plt.subplot()\\n    df = df[(df[\"year\"]>= start) & (df[\"year\"] < end)]\\n    \\n    country_name = list(df[\"country\"].unique())\\n    country_year = np.asarray([x for x in range(start,end)])\\n    \\n    list_num = axis_x_center(len(country_name))\\n    plt.xlim(country_year[0]+(wd*(list_num[0]-11)), country_year[-1]+(wd*(list_num[-1]+2)))\\n    plt.xticks(country_year)\\n    \\n    for index in range(len(country_name)):\\n        country_hdi = list(df[\"hdi\"][df[\"country\"] == country_name[index]])\\n        print(country_hdi)\\n        country_hdi = np.asarray(country_hdi)\\n        ax.bar(country_year+(wd*list_num[index]), country_hdi, width=wd, align=\"center\", label=country_name[index], color=list_colors[index])\\n        ax.legend(loc=\"upper left\")\\n\\n\\n    plt.show() '"
      ]
     },
     "execution_count": 22,
     "metadata": {},
     "output_type": "execute_result"
    }
   ],
   "source": [
    "#Função para gerar gráfico de idh.\n",
    "#Primeira apresentação\n",
    "''' def gerar_grafico_idh(df, axis_y, axis_x, title,wd = 0.15, start = 2000, end = 2016):\n",
    "    global list_colors\n",
    "    \n",
    "    plt.ylabel(axis_y)\n",
    "    plt.xlabel(axis_x)\n",
    "    plt.title(title)\n",
    "    ax = plt.subplot()\n",
    "    df = df[(df[\"year\"]>= start) & (df[\"year\"] < end)]\n",
    "    \n",
    "    country_name = list(df[\"country\"].unique())\n",
    "    country_year = np.asarray([x for x in range(start,end)])\n",
    "    \n",
    "    list_num = axis_x_center(len(country_name))\n",
    "    plt.xlim(country_year[0]+(wd*(list_num[0]-11)), country_year[-1]+(wd*(list_num[-1]+2)))\n",
    "    plt.xticks(country_year)\n",
    "    \n",
    "    for index in range(len(country_name)):\n",
    "        country_hdi = list(df[\"hdi\"][df[\"country\"] == country_name[index]])\n",
    "        print(country_hdi)\n",
    "        country_hdi = np.asarray(country_hdi)\n",
    "        ax.bar(country_year+(wd*list_num[index]), country_hdi, width=wd, align=\"center\", label=country_name[index], color=list_colors[index])\n",
    "        ax.legend(loc=\"upper left\")\n",
    "\n",
    "\n",
    "    plt.show() '''"
   ]
  },
  {
   "cell_type": "code",
   "execution_count": 23,
   "metadata": {},
   "outputs": [
    {
     "data": {
      "text/plain": [
       "'\\ndef gerar_grafico_suicide(df, axis_y, axis_x, title,wd = 0.15, start = 2000, end = 2016):\\n    global list_colors\\n    \\n    plt.ylabel(axis_y)\\n    plt.xlabel(axis_x)\\n    plt.title(title)\\n    ax = plt.subplot()\\n    df = df[(df[\"year\"]>= start) & (df[\"year\"] < end)]\\n    \\n    country_name = list(df[\"country\"].unique())\\n    country_year = np.asarray([x for x in range(start,end)])\\n    \\n    list_num = axis_x_center(len(country_name)) \\n    plt.xlim(country_year[0]+(wd*(list_num[0]-11)), country_year[-1]+(wd*(list_num[-1]+2)))\\n    plt.xticks(country_year)\\n    \\n    for index in range(len(country_name)):\\n        country_list = list((df[\"suicides_no\"][df[\"country\"] == country_name[index]]/ df[\"population\"][df[\"country\"] == country_name[index]])*100000)\\n        country_list = np.asarray(country_list)\\n        ax.bar(country_year+(wd*list_num[index]), country_list, width=wd, align=\"center\", label=country_name[index], color=list_colors[index])\\n        ax.legend(loc=\"upper left\")\\n\\n\\n    plt.show()'"
      ]
     },
     "execution_count": 23,
     "metadata": {},
     "output_type": "execute_result"
    }
   ],
   "source": [
    "#Função para gerar gráfico de taxa de suicídio.\n",
    "#Primeira apresentação\n",
    "'''\n",
    "def gerar_grafico_suicide(df, axis_y, axis_x, title,wd = 0.15, start = 2000, end = 2016):\n",
    "    global list_colors\n",
    "    \n",
    "    plt.ylabel(axis_y)\n",
    "    plt.xlabel(axis_x)\n",
    "    plt.title(title)\n",
    "    ax = plt.subplot()\n",
    "    df = df[(df[\"year\"]>= start) & (df[\"year\"] < end)]\n",
    "    \n",
    "    country_name = list(df[\"country\"].unique())\n",
    "    country_year = np.asarray([x for x in range(start,end)])\n",
    "    \n",
    "    list_num = axis_x_center(len(country_name)) \n",
    "    plt.xlim(country_year[0]+(wd*(list_num[0]-11)), country_year[-1]+(wd*(list_num[-1]+2)))\n",
    "    plt.xticks(country_year)\n",
    "    \n",
    "    for index in range(len(country_name)):\n",
    "        country_list = list((df[\"suicides_no\"][df[\"country\"] == country_name[index]]/ df[\"population\"][df[\"country\"] == country_name[index]])*100000)\n",
    "        country_list = np.asarray(country_list)\n",
    "        ax.bar(country_year+(wd*list_num[index]), country_list, width=wd, align=\"center\", label=country_name[index], color=list_colors[index])\n",
    "        ax.legend(loc=\"upper left\")\n",
    "\n",
    "\n",
    "    plt.show()'''"
   ]
  },
  {
   "cell_type": "code",
   "execution_count": 24,
   "metadata": {},
   "outputs": [],
   "source": [
    "#Função para gerar gráfico de taxa de suicídio por gênero.\n",
    "def generate_chart_suicide_gen(df, axis_y, axis_x, title,wd = 0.15):\n",
    "    list_colors = [\"#d62728\",\"#2ca02c\"]\n",
    "    \n",
    "    plt.ylabel(axis_y)\n",
    "    plt.xlabel(axis_x)\n",
    "    plt.title(title)\n",
    "    ax = plt.subplot()\n",
    "    \n",
    "    country_sex = list(df[\"sex\"].unique())\n",
    "    year_df = list(df[\"year\"].unique())\n",
    "    country_year = np.asarray(year_df)\n",
    "    \n",
    "    list_num = axis_x_center(len(country_sex)) \n",
    "    plt.xlim(country_year[0]+(wd*(list_num[0]-3)), country_year[-1]+(wd*(list_num[-1]+3)))\n",
    "    plt.xticks(country_year)\n",
    "    \n",
    "    for index in range(len(country_sex)):\n",
    "        if country_sex[index] == \"female\":\n",
    "            country_list = list((df[\"suicides_no\"][df[\"sex\"] == country_sex[index]]/df[\"totalPopulationFemale\"][df[\"sex\"] == country_sex[index]])*100000)\n",
    "            country_list = np.asarray(country_list)\n",
    "        elif country_sex[index] == \"male\":\n",
    "            country_list = list((df[\"suicides_no\"][df[\"sex\"] == country_sex[index]]/df[\"totalPopulationMale\"][df[\"sex\"] == country_sex[index]])*100000)\n",
    "            country_list = np.asarray(country_list)\n",
    "        ax.bar(country_year+(wd*list_num[index]), country_list, width=wd, align=\"center\", label=country_sex[index], color=list_colors[index])\n",
    "        ax.legend(loc=\"upper right\")\n",
    "\n",
    "\n",
    "    plt.show()"
   ]
  },
  {
   "cell_type": "code",
   "execution_count": 25,
   "metadata": {},
   "outputs": [],
   "source": [
    "#Função para gerar gráfico de taxa de suicídio por idade.\n",
    "def generate_chart_suicide_age(df, axis_y, axis_x, title,wd = 0.15):\n",
    "    list_colors = [\"#7f7f7f\",\"#9467bd\",\"#8c564b\",\"#e377c2\",\"#bcbd22\",\"#17becf\"]\n",
    "    \n",
    "    plt.ylabel(axis_y)\n",
    "    plt.xlabel(axis_x)\n",
    "    plt.title(title)\n",
    "    ax = plt.subplot()\n",
    "    \n",
    "    country_age = list(df[\"age\"].unique())\n",
    "    year_df = list(df[\"year\"].unique())\n",
    "    country_year = np.asarray(year_df)\n",
    "    \n",
    "    list_num = axis_x_center(len(country_age)) \n",
    "    plt.xlim(country_year[0]+(wd*(list_num[0]-1)), country_year[-1]+(wd*(list_num[-1]+3)))\n",
    "    plt.xticks(country_year)\n",
    "    \n",
    "    for index in range(len(country_age)):\n",
    "        country_list = list(df[\"suicides/100kpop\"][df[\"age\"] == country_age[index]])\n",
    "        country_list = np.asarray(country_list)\n",
    "        ax.bar(country_year+(wd*list_num[index]), country_list, width=wd, align=\"center\", label=country_age[index], color=list_colors[index])\n",
    "        ax.legend(loc=\"upper right\")\n",
    "\n",
    "\n",
    "    plt.show()"
   ]
  },
  {
   "cell_type": "code",
   "execution_count": 26,
   "metadata": {},
   "outputs": [],
   "source": [
    "#Função para gerar gráfico de taxa de suicídio total por país.\n",
    "def generate_chart_suicide_total(df, axis_y, axis_x, title,wd = 0.15):\n",
    "    list_colors = [\"#1f77b4\",\"#ff7f0e\"]\n",
    "    \n",
    "    plt.ylabel(axis_y)\n",
    "    plt.xlabel(axis_x)\n",
    "    plt.title(title)\n",
    "    ax = plt.subplot()\n",
    "    \n",
    "    country_name = list(df[\"country\"].unique())\n",
    "    year_df = list(df[\"year\"].unique())\n",
    "    country_year = np.asarray(year_df)\n",
    "    \n",
    "    list_num = axis_x_center(len(country_name)) \n",
    "    plt.xlim(country_year[0]+(wd*(list_num[0]-3)), country_year[-1]+(wd*(list_num[-1]+3)))\n",
    "    plt.xticks(country_year)\n",
    "    \n",
    "    for index in range(len(country_name)):\n",
    "        country_list = list((df[\"suicides_no\"][df[\"country\"] == country_name[index]]/df[\"totalPopulation\"][df[\"country\"] == country_name[index]])*100000)\n",
    "        country_list = np.asarray(country_list)\n",
    "        ax.bar(country_year+(wd*list_num[index]), country_list, width=wd, align=\"center\", label=country_name[index], color=list_colors[index])\n",
    "        ax.legend(loc=\"upper right\")\n",
    "\n",
    "\n",
    "    plt.show()"
   ]
  },
  {
   "cell_type": "code",
   "execution_count": 27,
   "metadata": {},
   "outputs": [],
   "source": [
    "#Função para gerar gráfico de taxa de idh total por país.\n",
    "def generate_chart_hdi_total(df, axis_y, axis_x, title,wd = 0.15):\n",
    "    list_colors = [\"#1f77b4\",\"#ff7f0e\"]\n",
    "    \n",
    "    plt.ylabel(axis_y)\n",
    "    plt.xlabel(axis_x)\n",
    "    plt.title(title)\n",
    "    ax = plt.subplot()\n",
    "    \n",
    "    country_name = list(df[\"country\"].unique())\n",
    "    year_df = list(df[\"year\"].unique())\n",
    "    country_year = np.asarray(year_df)\n",
    "    \n",
    "    list_num = axis_x_center(len(country_name))\n",
    "    plt.xlim(country_year[0]+(wd*(list_num[0]-3)), country_year[-1]+(wd*(list_num[-1]+2)))\n",
    "    plt.xticks(country_year)\n",
    "    \n",
    "    for index in range(len(country_name)):\n",
    "        country_hdi = list(df[\"hdi\"][df[\"country\"] == country_name[index]])\n",
    "        country_hdi = np.asarray(country_list)\n",
    "        ax.bar(country_year+(wd*list_num[index]), country_hdi, width=wd, align=\"center\", label=country_name[index], color=list_colors[index])\n",
    "        ax.legend(loc=\"upper left\")\n",
    "\n",
    "\n",
    "    plt.show() "
   ]
  },
  {
   "cell_type": "code",
   "execution_count": 28,
   "metadata": {},
   "outputs": [],
   "source": [
    "#Função para gerar gráfico de Desigualdade de Gênero por país.\n",
    "def generate_chart_gender_inequality(df, axis_y, axis_x, title,wd = 0.15):\n",
    "    list_colors = [\"#1f77b4\",\"#ff7f0e\"]\n",
    "    \n",
    "    plt.ylabel(axis_y)\n",
    "    plt.xlabel(axis_x)\n",
    "    plt.title(title)\n",
    "    ax = plt.subplot()\n",
    "    \n",
    "    country_name = list(df[\"country\"].unique())\n",
    "    year_df = list(df[\"year\"].unique())\n",
    "    country_year = np.asarray(year_df)\n",
    "    \n",
    "    list_num = axis_x_center(len(country_name))\n",
    "    plt.xlim(country_year[0]+(wd*(list_num[0]-2)), country_year[-1]+(wd*(list_num[-1]+2)))\n",
    "    plt.xticks(country_year)\n",
    "    \n",
    "    for index in range(len(country_name)):\n",
    "        country_list = list((df[\"genderInequality\"][df[\"country\"] == country_name[index]])/1000)\n",
    "        country_list = np.asarray(country_list)\n",
    "        ax.bar(country_year+(wd*list_num[index]), country_list, width=wd, align=\"center\", label=country_name[index], color=list_colors[index])\n",
    "        ax.legend(loc=\"upper right\")\n",
    "\n",
    "\n",
    "    plt.show()"
   ]
  },
  {
   "cell_type": "code",
   "execution_count": 29,
   "metadata": {},
   "outputs": [],
   "source": [
    "#Função para gerar gráfico de taxa de usuários de internet por país.\n",
    "def generate_chart_users_internet(df, axis_y, axis_x, title,wd = 0.15):\n",
    "    list_colors = [\"#1f77b4\",\"#ff7f0e\"]\n",
    "    \n",
    "    plt.ylabel(axis_y)\n",
    "    plt.xlabel(axis_x)\n",
    "    plt.title(title)\n",
    "    ax = plt.subplot()\n",
    "    \n",
    "    country_name = list(df[\"country\"].unique())\n",
    "    year_df = list(df[\"year\"].unique())\n",
    "    country_year = np.asarray(year_df)\n",
    "    \n",
    "    list_num = axis_x_center(len(country_name))\n",
    "    plt.xlim(country_year[0]+(wd*(list_num[0]-2)), country_year[-1]+(wd*(list_num[-1]+2)))\n",
    "    plt.xticks(country_year)\n",
    "    \n",
    "    for index in range(len(country_name)):\n",
    "        country_list = list(df[\"totalUsersInternet\"][df[\"country\"] == country_name[index]])\n",
    "        country_list = np.asarray(country_list)\n",
    "        ax.bar(country_year+(wd*list_num[index]), country_list, width=wd, align=\"center\", label=country_name[index], color=list_colors[index])\n",
    "        ax.legend(loc=\"upper right\")\n",
    "\n",
    "\n",
    "    plt.show()"
   ]
  },
  {
   "cell_type": "code",
   "execution_count": 30,
   "metadata": {},
   "outputs": [],
   "source": [
    "#Função para gerar gráfico de taxa de Empregados por país.\n",
    "def generate_chart_employment(df, axis_y, axis_x, title,wd = 0.15):\n",
    "    list_colors = [\"#1f77b4\",\"#ff7f0e\"]\n",
    "    \n",
    "    plt.ylabel(axis_y)\n",
    "    plt.xlabel(axis_x)\n",
    "    plt.title(title)\n",
    "    ax = plt.subplot()\n",
    "    \n",
    "    country_name = list(df[\"country\"].unique())\n",
    "    year_df = list(df[\"year\"].unique())\n",
    "    country_year = np.asarray(year_df)\n",
    "    \n",
    "    list_num = axis_x_center(len(country_name))\n",
    "    plt.xlim(country_year[0]+(wd*(list_num[0]-2)), country_year[-1]+(wd*(list_num[-1]+2)))\n",
    "    plt.xticks(country_year)\n",
    "    \n",
    "    for index in range(len(country_name)):\n",
    "        country_list = list(df[\"rateEmployment15andOlder\"][df[\"country\"] == country_name[index]])\n",
    "        country_list = np.asarray(country_list)\n",
    "        ax.bar(country_year+(wd*list_num[index]), country_list, width=wd, align=\"center\", label=country_name[index], color=list_colors[index])\n",
    "        ax.legend(loc=\"upper left\")\n",
    "\n",
    "\n",
    "    plt.show()"
   ]
  },
  {
   "cell_type": "code",
   "execution_count": 31,
   "metadata": {},
   "outputs": [],
   "source": [
    "#Função para gerar gráfico do PIB por país.\n",
    "def generate_chart_gdp_year(df, axis_y, axis_x, title,wd = 0.15):\n",
    "    list_colors = [\"#1f77b4\",\"#ff7f0e\"]\n",
    "    \n",
    "    plt.ylabel(axis_y)\n",
    "    plt.xlabel(axis_x)\n",
    "    plt.title(title)\n",
    "    ax = plt.subplot()\n",
    "    \n",
    "    country_name = list(df[\"country\"].unique())\n",
    "    year_df = list(df[\"year\"].unique())\n",
    "    country_year = np.asarray(year_df)\n",
    "    \n",
    "    list_num = axis_x_center(len(country_name))\n",
    "    plt.xlim(country_year[0]+(wd*(list_num[0]-2)), country_year[-1]+(wd*(list_num[-1]+2)))\n",
    "    plt.xticks(country_year)\n",
    "    \n",
    "    for index in range(len(country_name)):\n",
    "        country_list = list(df[\"gdp-year\"][df[\"country\"] == country_name[index]])\n",
    "        country_list = np.asarray(country_list)\n",
    "        ax.bar(country_year+(wd*list_num[index]), country_list, width=wd, align=\"center\", label=country_name[index], color=list_colors[index])\n",
    "        ax.legend(loc=\"upper left\")\n",
    "\n",
    "\n",
    "    plt.show()"
   ]
  },
  {
   "cell_type": "code",
   "execution_count": 32,
   "metadata": {},
   "outputs": [],
   "source": [
    "#Função para gerar gráfico de população total por país.\n",
    "def generate_chart_total_pop(df, axis_y, axis_x, title,wd = 0.15):\n",
    "    list_colors = [\"#1f77b4\",\"#ff7f0e\"]\n",
    "    \n",
    "    plt.ylabel(axis_y)\n",
    "    plt.xlabel(axis_x)\n",
    "    plt.title(title)\n",
    "    ax = plt.subplot()\n",
    "    \n",
    "    country_name = list(df[\"country\"].unique())\n",
    "    year_df = list(df[\"year\"].unique())\n",
    "    country_year = np.asarray(year_df)\n",
    "    \n",
    "    list_num = axis_x_center(len(country_name))\n",
    "    plt.xlim(country_year[0]+(wd*(list_num[0]-2)), country_year[-1]+(wd*(list_num[-1]+2)))\n",
    "    plt.xticks(country_year)\n",
    "    \n",
    "    for index in range(len(country_name)):\n",
    "        country_list = list(df[\"totalPopulation\"][df[\"country\"] == country_name[index]])\n",
    "        country_list = np.asarray(country_list)\n",
    "        ax.bar(country_year+(wd*list_num[index]), country_list, width=wd, align=\"center\", label=country_name[index], color=list_colors[index])\n",
    "        ax.legend(loc=\"upper left\")\n",
    "\n",
    "\n",
    "    plt.show()"
   ]
  },
  {
   "cell_type": "code",
   "execution_count": 33,
   "metadata": {},
   "outputs": [],
   "source": [
    "#Função para gerar gráfico de taxa de PIB per capita por país.\n",
    "def generate_chart_suicide_gdp_pc(df, axis_y, axis_x, title,wd = 0.15):\n",
    "    list_colors = [\"#1f77b4\",\"#ff7f0e\"]\n",
    "    \n",
    "    plt.ylabel(axis_y)\n",
    "    plt.xlabel(axis_x)\n",
    "    plt.title(title)\n",
    "    ax = plt.subplot()\n",
    "    \n",
    "    country_name = list(df[\"country\"].unique())\n",
    "    year_df = list(df[\"year\"].unique())\n",
    "    country_year = np.asarray(year_df)\n",
    "    \n",
    "    list_num = axis_x_center(len(country_name)) \n",
    "    plt.xlim(country_year[0]+(wd*(list_num[0]-3)), country_year[-1]+(wd*(list_num[-1]+3)))\n",
    "    plt.xticks(country_year)\n",
    "    \n",
    "    for index in range(len(country_name)):\n",
    "        country_list = list((df[\"gdp-year\"][df[\"country\"] == country_name[index]]/df[\"totalPopulation\"][df[\"country\"] == country_name[index]]))\n",
    "        country_list = np.asarray(country_list)\n",
    "        ax.bar(country_year+(wd*list_num[index]), country_list, width=wd, align=\"center\", label=country_name[index], color=list_colors[index])\n",
    "        ax.legend(loc=\"upper left\")\n",
    "\n",
    "\n",
    "    plt.show()"
   ]
  },
  {
   "cell_type": "code",
   "execution_count": 34,
   "metadata": {},
   "outputs": [],
   "source": [
    "#Função para gerar gráfico de media de temperatura por país.\n",
    "def generate_chart_climate(df, axis_y, axis_x, title,wd = 0.15):\n",
    "    list_colors = [\"#1f77b4\",\"#ff7f0e\"]\n",
    "    \n",
    "    plt.ylabel(axis_y)\n",
    "    plt.xlabel(axis_x)\n",
    "    plt.title(title)\n",
    "    ax = plt.subplot()\n",
    "    \n",
    "    country_name = list(df[\"country\"].unique())\n",
    "    year_df = list(df[\"year\"].unique())\n",
    "    country_year = np.asarray(year_df)\n",
    "    \n",
    "    list_num = axis_x_center(len(country_name))\n",
    "    plt.xlim(country_year[0]+(wd*(list_num[0]-2)), country_year[-1]+(wd*(list_num[-1]+2)))\n",
    "    plt.xticks(country_year)\n",
    "    \n",
    "    for index in range(len(country_name)):\n",
    "        country_list = list(df[\"temperature-(celsius)\"][df[\"country\"] == country_name[index]])\n",
    "        country_list = np.asarray(country_list)\n",
    "        ax.bar(country_year+(wd*list_num[index]), country_list, width=wd, align=\"center\", label=country_name[index], color=list_colors[index])\n",
    "        ax.legend(loc=\"upper left\")\n",
    "\n",
    "\n",
    "    plt.show()"
   ]
  },
  {
   "cell_type": "code",
   "execution_count": 51,
   "metadata": {},
   "outputs": [],
   "source": [
    "#Função para gerar gráfico de media de temperatura por país.\n",
    "def generate_chart_ap(df, axis_y, axis_x, title,wd = 0.15):\n",
    "    list_colors = [\"#1f77b4\",\"#ff7f0e\"]\n",
    "    \n",
    "    plt.ylabel(axis_y)\n",
    "    plt.xlabel(axis_x)\n",
    "    plt.title(title)\n",
    "    ax = plt.subplot()\n",
    "    \n",
    "    country_name = list(df[\"country\"].unique())\n",
    "    year_df = list(df[\"year\"].unique())\n",
    "    country_year = np.asarray(year_df)\n",
    "    \n",
    "    list_num = axis_x_center(len(country_name))\n",
    "    plt.xlim(country_year[0]+(wd*(list_num[0]-2)), country_year[-1]+(wd*(list_num[-1]+2)))\n",
    "    plt.xticks(country_year)\n",
    "    \n",
    "    for index in range(len(country_name)):\n",
    "        country_list = list(df[\"positiveAffect\"][df[\"country\"] == country_name[index]])\n",
    "        country_list = np.asarray(country_list)\n",
    "        ax.bar(country_year+(wd*list_num[index]), country_list, width=wd, align=\"center\", label=country_name[index], color=list_colors[index])\n",
    "        ax.legend(loc=\"upper left\")\n",
    "\n",
    "\n",
    "    plt.show()"
   ]
  },
  {
   "cell_type": "code",
   "execution_count": 56,
   "metadata": {},
   "outputs": [],
   "source": [
    "#Função para gerar gráfico de media de temperatura por país.\n",
    "def generate_chart_an(df, axis_y, axis_x, title,wd = 0.15):\n",
    "    list_colors = [\"#1f77b4\",\"#ff7f0e\"]\n",
    "    \n",
    "    plt.ylabel(axis_y)\n",
    "    plt.xlabel(axis_x)\n",
    "    plt.title(title)\n",
    "    ax = plt.subplot()\n",
    "    \n",
    "    country_name = list(df[\"country\"].unique())\n",
    "    year_df = list(df[\"year\"].unique())\n",
    "    country_year = np.asarray(year_df)\n",
    "    \n",
    "    list_num = axis_x_center(len(country_name))\n",
    "    plt.xlim(country_year[0]+(wd*(list_num[0]-2)), country_year[-1]+(wd*(list_num[-1]+2)))\n",
    "    plt.xticks(country_year)\n",
    "    \n",
    "    for index in range(len(country_name)):\n",
    "        country_list = list(df[\"negativeAffect\"][df[\"country\"] == country_name[index]])\n",
    "        country_list = np.asarray(country_list)\n",
    "        ax.bar(country_year+(wd*list_num[index]), country_list, width=wd, align=\"center\", label=country_name[index], color=list_colors[index])\n",
    "        ax.legend(loc=\"upper left\")\n",
    "\n",
    "\n",
    "    plt.show()"
   ]
  },
  {
   "cell_type": "code",
   "execution_count": 57,
   "metadata": {},
   "outputs": [
    {
     "name": "stderr",
     "output_type": "stream",
     "text": [
      "C:\\Users\\Eudes\\Anaconda3\\lib\\site-packages\\matplotlib\\cbook\\deprecation.py:107: MatplotlibDeprecationWarning: Adding an axes using the same arguments as a previous axes currently reuses the earlier instance.  In a future version, a new instance will always be created and returned.  Meanwhile, this warning can be suppressed, and the future behavior ensured, by passing a unique label to each axes instance.\n",
      "  warnings.warn(message, mplDeprecation, stacklevel=1)\n"
     ]
    },
    {
     "data": {
      "image/png": "[encoded data removed]",
      "text/plain": [
       "<Figure size 864x576 with 1 Axes>"
      ]
     },
     "metadata": {},
     "output_type": "display_data"
    }
   ],
   "source": [
    "generate_chart_an(myGroup, \"Afeto Positivo\", \"Anos\", \"Afeto negativo Russia x Suécia\")"
   ]
  },
  {
   "cell_type": "code",
   "execution_count": 52,
   "metadata": {},
   "outputs": [
    {
     "name": "stderr",
     "output_type": "stream",
     "text": [
      "C:\\Users\\Eudes\\Anaconda3\\lib\\site-packages\\matplotlib\\cbook\\deprecation.py:107: MatplotlibDeprecationWarning: Adding an axes using the same arguments as a previous axes currently reuses the earlier instance.  In a future version, a new instance will always be created and returned.  Meanwhile, this warning can be suppressed, and the future behavior ensured, by passing a unique label to each axes instance.\n",
      "  warnings.warn(message, mplDeprecation, stacklevel=1)\n"
     ]
    },
    {
     "data": {
      "image/png": "[encoded data removed]",
      "text/plain": [
       "<Figure size 864x576 with 1 Axes>"
      ]
     },
     "metadata": {},
     "output_type": "display_data"
    }
   ],
   "source": [
    "generate_chart_ap(myGroup, \"Afeto Positivo\", \"Anos\", \"Afeto positivo Russia x Suécia\")"
   ]
  },
  {
   "cell_type": "code",
   "execution_count": 35,
   "metadata": {},
   "outputs": [
    {
     "name": "stderr",
     "output_type": "stream",
     "text": [
      "C:\\Users\\Eudes\\Anaconda3\\lib\\site-packages\\matplotlib\\cbook\\deprecation.py:107: MatplotlibDeprecationWarning: Adding an axes using the same arguments as a previous axes currently reuses the earlier instance.  In a future version, a new instance will always be created and returned.  Meanwhile, this warning can be suppressed, and the future behavior ensured, by passing a unique label to each axes instance.\n",
      "  warnings.warn(message, mplDeprecation, stacklevel=1)\n"
     ]
    },
    {
     "data": {
      "image/png": "[encoded data removed]",
      "text/plain": [
       "<Figure size 864x576 with 1 Axes>"
      ]
     },
     "metadata": {},
     "output_type": "display_data"
    }
   ],
   "source": [
    "generate_chart_climate(myGroup, \"Temperatura °Celcius\", \"Anos\", \"Temperatura °Celsius Russia x Suécia\")"
   ]
  },
  {
   "cell_type": "code",
   "execution_count": 36,
   "metadata": {},
   "outputs": [
    {
     "name": "stderr",
     "output_type": "stream",
     "text": [
      "C:\\Users\\Eudes\\Anaconda3\\lib\\site-packages\\matplotlib\\cbook\\deprecation.py:107: MatplotlibDeprecationWarning: Adding an axes using the same arguments as a previous axes currently reuses the earlier instance.  In a future version, a new instance will always be created and returned.  Meanwhile, this warning can be suppressed, and the future behavior ensured, by passing a unique label to each axes instance.\n",
      "  warnings.warn(message, mplDeprecation, stacklevel=1)\n"
     ]
    },
    {
     "data": {
      "image/png": "[encoded data removed]",
      "text/plain": [
       "<Figure size 864x576 with 1 Axes>"
      ]
     },
     "metadata": {},
     "output_type": "display_data"
    }
   ],
   "source": [
    "generate_chart_employment(myGroup, \"Taxa de emprego\", \"Anos\", \"Taxa de emprego Russia x Suécia\", 0.25)"
   ]
  },
  {
   "cell_type": "code",
   "execution_count": 37,
   "metadata": {},
   "outputs": [
    {
     "name": "stderr",
     "output_type": "stream",
     "text": [
      "C:\\Users\\Eudes\\Anaconda3\\lib\\site-packages\\matplotlib\\cbook\\deprecation.py:107: MatplotlibDeprecationWarning: Adding an axes using the same arguments as a previous axes currently reuses the earlier instance.  In a future version, a new instance will always be created and returned.  Meanwhile, this warning can be suppressed, and the future behavior ensured, by passing a unique label to each axes instance.\n",
      "  warnings.warn(message, mplDeprecation, stacklevel=1)\n"
     ]
    },
    {
     "data": {
      "image/png": "[encoded data removed]",
      "text/plain": [
       "<Figure size 864x576 with 1 Axes>"
      ]
     },
     "metadata": {},
     "output_type": "display_data"
    }
   ],
   "source": [
    "generate_chart_total_pop(myGroup, \"População Total\", \"Anos\", \"População Total Russia x Suécia\", 0.25)"
   ]
  },
  {
   "cell_type": "code",
   "execution_count": 38,
   "metadata": {},
   "outputs": [
    {
     "name": "stderr",
     "output_type": "stream",
     "text": [
      "C:\\Users\\Eudes\\Anaconda3\\lib\\site-packages\\matplotlib\\cbook\\deprecation.py:107: MatplotlibDeprecationWarning: Adding an axes using the same arguments as a previous axes currently reuses the earlier instance.  In a future version, a new instance will always be created and returned.  Meanwhile, this warning can be suppressed, and the future behavior ensured, by passing a unique label to each axes instance.\n",
      "  warnings.warn(message, mplDeprecation, stacklevel=1)\n"
     ]
    },
    {
     "data": {
      "image/png": "[encoded data removed]",
      "text/plain": [
       "<Figure size 864x576 with 1 Axes>"
      ]
     },
     "metadata": {},
     "output_type": "display_data"
    }
   ],
   "source": [
    "generate_chart_gdp_year(myGroup, \"PIB\", \"Anos\", \"PIB Russia x Suécia\", 0.25)"
   ]
  },
  {
   "cell_type": "code",
   "execution_count": 39,
   "metadata": {},
   "outputs": [
    {
     "name": "stderr",
     "output_type": "stream",
     "text": [
      "C:\\Users\\Eudes\\Anaconda3\\lib\\site-packages\\matplotlib\\cbook\\deprecation.py:107: MatplotlibDeprecationWarning: Adding an axes using the same arguments as a previous axes currently reuses the earlier instance.  In a future version, a new instance will always be created and returned.  Meanwhile, this warning can be suppressed, and the future behavior ensured, by passing a unique label to each axes instance.\n",
      "  warnings.warn(message, mplDeprecation, stacklevel=1)\n"
     ]
    },
    {
     "data": {
      "image/png": "[encoded data removed]",
      "text/plain": [
       "<Figure size 864x576 with 1 Axes>"
      ]
     },
     "metadata": {},
     "output_type": "display_data"
    }
   ],
   "source": [
    "generate_chart_users_internet(myGroup, \"Taxa de usuários com internet\", \"Anos\", \"Taxa de usuários com internet Russia x Suécia\")"
   ]
  },
  {
   "cell_type": "code",
   "execution_count": 40,
   "metadata": {},
   "outputs": [
    {
     "name": "stderr",
     "output_type": "stream",
     "text": [
      "C:\\Users\\Eudes\\Anaconda3\\lib\\site-packages\\matplotlib\\cbook\\deprecation.py:107: MatplotlibDeprecationWarning: Adding an axes using the same arguments as a previous axes currently reuses the earlier instance.  In a future version, a new instance will always be created and returned.  Meanwhile, this warning can be suppressed, and the future behavior ensured, by passing a unique label to each axes instance.\n",
      "  warnings.warn(message, mplDeprecation, stacklevel=1)\n"
     ]
    },
    {
     "data": {
      "image/png": "[encoded data removed]",
      "text/plain": [
       "<Figure size 864x576 with 1 Axes>"
      ]
     },
     "metadata": {},
     "output_type": "display_data"
    }
   ],
   "source": [
    "generate_chart_gender_inequality(myGroup, \"Desigualdade de Gênero\", \"Anos\", \"Desigualdade de Gênero por país\",0.35)"
   ]
  },
  {
   "cell_type": "code",
   "execution_count": 41,
   "metadata": {},
   "outputs": [
    {
     "name": "stderr",
     "output_type": "stream",
     "text": [
      "C:\\Users\\Eudes\\Anaconda3\\lib\\site-packages\\matplotlib\\cbook\\deprecation.py:107: MatplotlibDeprecationWarning: Adding an axes using the same arguments as a previous axes currently reuses the earlier instance.  In a future version, a new instance will always be created and returned.  Meanwhile, this warning can be suppressed, and the future behavior ensured, by passing a unique label to each axes instance.\n",
      "  warnings.warn(message, mplDeprecation, stacklevel=1)\n"
     ]
    },
    {
     "data": {
      "image/png": "[encoded data removed]",
      "text/plain": [
       "<Figure size 864x576 with 1 Axes>"
      ]
     },
     "metadata": {},
     "output_type": "display_data"
    }
   ],
   "source": [
    "generate_chart_suicide_gen(gr, \"Taxa de suicídio\", \"Anos\", \"Taxa de suicídio por gênero na Rússia por 100k/hab\", 0.25)"
   ]
  },
  {
   "cell_type": "code",
   "execution_count": 42,
   "metadata": {},
   "outputs": [
    {
     "name": "stderr",
     "output_type": "stream",
     "text": [
      "C:\\Users\\Eudes\\Anaconda3\\lib\\site-packages\\matplotlib\\cbook\\deprecation.py:107: MatplotlibDeprecationWarning: Adding an axes using the same arguments as a previous axes currently reuses the earlier instance.  In a future version, a new instance will always be created and returned.  Meanwhile, this warning can be suppressed, and the future behavior ensured, by passing a unique label to each axes instance.\n",
      "  warnings.warn(message, mplDeprecation, stacklevel=1)\n"
     ]
    },
    {
     "data": {
      "image/png": "[encoded data removed]",
      "text/plain": [
       "<Figure size 864x576 with 1 Axes>"
      ]
     },
     "metadata": {},
     "output_type": "display_data"
    }
   ],
   "source": [
    "generate_chart_suicide_gen(gs, \"Taxa de suicídio\", \"Anos\", \"Taxa de suicídio por gênero na Suécia por 100k/hab\", 0.25)"
   ]
  },
  {
   "cell_type": "code",
   "execution_count": 43,
   "metadata": {},
   "outputs": [
    {
     "name": "stderr",
     "output_type": "stream",
     "text": [
      "C:\\Users\\Eudes\\Anaconda3\\lib\\site-packages\\matplotlib\\cbook\\deprecation.py:107: MatplotlibDeprecationWarning: Adding an axes using the same arguments as a previous axes currently reuses the earlier instance.  In a future version, a new instance will always be created and returned.  Meanwhile, this warning can be suppressed, and the future behavior ensured, by passing a unique label to each axes instance.\n",
      "  warnings.warn(message, mplDeprecation, stacklevel=1)\n"
     ]
    },
    {
     "data": {
      "image/png": "[encoded data removed]",
      "text/plain": [
       "<Figure size 864x576 with 1 Axes>"
      ]
     },
     "metadata": {},
     "output_type": "display_data"
    }
   ],
   "source": [
    "generate_chart_suicide_age(russia_male, \"Taxa de Suicídio 100k/hab\", \"Anos\", \"Taxa de Suicídio de Homens por Idade na Russia\")"
   ]
  },
  {
   "cell_type": "code",
   "execution_count": 44,
   "metadata": {},
   "outputs": [
    {
     "name": "stderr",
     "output_type": "stream",
     "text": [
      "C:\\Users\\Eudes\\Anaconda3\\lib\\site-packages\\matplotlib\\cbook\\deprecation.py:107: MatplotlibDeprecationWarning: Adding an axes using the same arguments as a previous axes currently reuses the earlier instance.  In a future version, a new instance will always be created and returned.  Meanwhile, this warning can be suppressed, and the future behavior ensured, by passing a unique label to each axes instance.\n",
      "  warnings.warn(message, mplDeprecation, stacklevel=1)\n"
     ]
    },
    {
     "data": {
      "image/png": "[encoded data removed]",
      "text/plain": [
       "<Figure size 864x576 with 1 Axes>"
      ]
     },
     "metadata": {},
     "output_type": "display_data"
    }
   ],
   "source": [
    "generate_chart_suicide_age(russia_female, \"Taxa de Suicídio 100k/hab\", \"Anos\", \"Taxa de Suicídio de Mulheres por Idade na Russia\")"
   ]
  },
  {
   "cell_type": "code",
   "execution_count": 45,
   "metadata": {},
   "outputs": [
    {
     "name": "stderr",
     "output_type": "stream",
     "text": [
      "C:\\Users\\Eudes\\Anaconda3\\lib\\site-packages\\matplotlib\\cbook\\deprecation.py:107: MatplotlibDeprecationWarning: Adding an axes using the same arguments as a previous axes currently reuses the earlier instance.  In a future version, a new instance will always be created and returned.  Meanwhile, this warning can be suppressed, and the future behavior ensured, by passing a unique label to each axes instance.\n",
      "  warnings.warn(message, mplDeprecation, stacklevel=1)\n"
     ]
    },
    {
     "data": {
      "image/png": "[encoded data removed]",
      "text/plain": [
       "<Figure size 864x576 with 1 Axes>"
      ]
     },
     "metadata": {},
     "output_type": "display_data"
    }
   ],
   "source": [
    "generate_chart_suicide_age(sweden_male, \"Taxa de Suicídio 100k/hab\", \"Anos\", \"Taxa de Suicídio de Homens por Idade na Suécia\")"
   ]
  },
  {
   "cell_type": "code",
   "execution_count": 46,
   "metadata": {},
   "outputs": [
    {
     "name": "stderr",
     "output_type": "stream",
     "text": [
      "C:\\Users\\Eudes\\Anaconda3\\lib\\site-packages\\matplotlib\\cbook\\deprecation.py:107: MatplotlibDeprecationWarning: Adding an axes using the same arguments as a previous axes currently reuses the earlier instance.  In a future version, a new instance will always be created and returned.  Meanwhile, this warning can be suppressed, and the future behavior ensured, by passing a unique label to each axes instance.\n",
      "  warnings.warn(message, mplDeprecation, stacklevel=1)\n"
     ]
    },
    {
     "data": {
      "image/png": "[encoded data removed]",
      "text/plain": [
       "<Figure size 864x576 with 1 Axes>"
      ]
     },
     "metadata": {},
     "output_type": "display_data"
    }
   ],
   "source": [
    "generate_chart_suicide_age(sweden_female, \"Taxa de Suicídio 100k/hab\", \"Anos\", \"Taxa de Suicídio de Mulheres por Idade na Suécia\")"
   ]
  },
  {
   "cell_type": "code",
   "execution_count": 47,
   "metadata": {},
   "outputs": [
    {
     "name": "stderr",
     "output_type": "stream",
     "text": [
      "C:\\Users\\Eudes\\Anaconda3\\lib\\site-packages\\matplotlib\\cbook\\deprecation.py:107: MatplotlibDeprecationWarning: Adding an axes using the same arguments as a previous axes currently reuses the earlier instance.  In a future version, a new instance will always be created and returned.  Meanwhile, this warning can be suppressed, and the future behavior ensured, by passing a unique label to each axes instance.\n",
      "  warnings.warn(message, mplDeprecation, stacklevel=1)\n"
     ]
    },
    {
     "data": {
      "image/png": "[encoded data removed]",
      "text/plain": [
       "<Figure size 864x576 with 1 Axes>"
      ]
     },
     "metadata": {},
     "output_type": "display_data"
    }
   ],
   "source": [
    "generate_chart_suicide_total(myGroup, 'Taxa de suicídio', 'Anos', 'Taxa de suicídios total Rússia x Suécia por 100k/hab')"
   ]
  },
  {
   "cell_type": "code",
   "execution_count": 48,
   "metadata": {},
   "outputs": [
    {
     "name": "stderr",
     "output_type": "stream",
     "text": [
      "C:\\Users\\Eudes\\Anaconda3\\lib\\site-packages\\matplotlib\\cbook\\deprecation.py:107: MatplotlibDeprecationWarning: Adding an axes using the same arguments as a previous axes currently reuses the earlier instance.  In a future version, a new instance will always be created and returned.  Meanwhile, this warning can be suppressed, and the future behavior ensured, by passing a unique label to each axes instance.\n",
      "  warnings.warn(message, mplDeprecation, stacklevel=1)\n"
     ]
    },
    {
     "ename": "NameError",
     "evalue": "name 'country_list' is not defined",
     "output_type": "error",
     "traceback": [
      "\u001b[1;31m---------------------------------------------------------------------------\u001b[0m",
      "\u001b[1;31mNameError\u001b[0m                                 Traceback (most recent call last)",
      "\u001b[1;32m<ipython-input-48-0b2428c64e7f>\u001b[0m in \u001b[0;36m<module>\u001b[1;34m()\u001b[0m\n\u001b[1;32m----> 1\u001b[1;33m \u001b[0mgenerate_chart_hdi_total\u001b[0m\u001b[1;33m(\u001b[0m\u001b[0mmyGroup\u001b[0m\u001b[1;33m,\u001b[0m \u001b[1;34m\"Índice de IDH\"\u001b[0m\u001b[1;33m,\u001b[0m \u001b[1;34m\"Anos\"\u001b[0m\u001b[1;33m,\u001b[0m \u001b[1;34m\"IDH total Rússia x Suécia\"\u001b[0m\u001b[1;33m,\u001b[0m \u001b[1;36m0.25\u001b[0m\u001b[1;33m)\u001b[0m\u001b[1;33m\u001b[0m\u001b[0m\n\u001b[0m",
      "\u001b[1;32m<ipython-input-27-283afcc050bf>\u001b[0m in \u001b[0;36mgenerate_chart_hdi_total\u001b[1;34m(df, axis_y, axis_x, title, wd)\u001b[0m\n\u001b[0;32m     18\u001b[0m     \u001b[1;32mfor\u001b[0m \u001b[0mindex\u001b[0m \u001b[1;32min\u001b[0m \u001b[0mrange\u001b[0m\u001b[1;33m(\u001b[0m\u001b[0mlen\u001b[0m\u001b[1;33m(\u001b[0m\u001b[0mcountry_name\u001b[0m\u001b[1;33m)\u001b[0m\u001b[1;33m)\u001b[0m\u001b[1;33m:\u001b[0m\u001b[1;33m\u001b[0m\u001b[0m\n\u001b[0;32m     19\u001b[0m         \u001b[0mcountry_hdi\u001b[0m \u001b[1;33m=\u001b[0m \u001b[0mlist\u001b[0m\u001b[1;33m(\u001b[0m\u001b[0mdf\u001b[0m\u001b[1;33m[\u001b[0m\u001b[1;34m\"hdi\"\u001b[0m\u001b[1;33m]\u001b[0m\u001b[1;33m[\u001b[0m\u001b[0mdf\u001b[0m\u001b[1;33m[\u001b[0m\u001b[1;34m\"country\"\u001b[0m\u001b[1;33m]\u001b[0m \u001b[1;33m==\u001b[0m \u001b[0mcountry_name\u001b[0m\u001b[1;33m[\u001b[0m\u001b[0mindex\u001b[0m\u001b[1;33m]\u001b[0m\u001b[1;33m]\u001b[0m\u001b[1;33m)\u001b[0m\u001b[1;33m\u001b[0m\u001b[0m\n\u001b[1;32m---> 20\u001b[1;33m         \u001b[0mcountry_hdi\u001b[0m \u001b[1;33m=\u001b[0m \u001b[0mnp\u001b[0m\u001b[1;33m.\u001b[0m\u001b[0masarray\u001b[0m\u001b[1;33m(\u001b[0m\u001b[0mcountry_list\u001b[0m\u001b[1;33m)\u001b[0m\u001b[1;33m\u001b[0m\u001b[0m\n\u001b[0m\u001b[0;32m     21\u001b[0m         \u001b[0max\u001b[0m\u001b[1;33m.\u001b[0m\u001b[0mbar\u001b[0m\u001b[1;33m(\u001b[0m\u001b[0mcountry_year\u001b[0m\u001b[1;33m+\u001b[0m\u001b[1;33m(\u001b[0m\u001b[0mwd\u001b[0m\u001b[1;33m*\u001b[0m\u001b[0mlist_num\u001b[0m\u001b[1;33m[\u001b[0m\u001b[0mindex\u001b[0m\u001b[1;33m]\u001b[0m\u001b[1;33m)\u001b[0m\u001b[1;33m,\u001b[0m \u001b[0mcountry_hdi\u001b[0m\u001b[1;33m,\u001b[0m \u001b[0mwidth\u001b[0m\u001b[1;33m=\u001b[0m\u001b[0mwd\u001b[0m\u001b[1;33m,\u001b[0m \u001b[0malign\u001b[0m\u001b[1;33m=\u001b[0m\u001b[1;34m\"center\"\u001b[0m\u001b[1;33m,\u001b[0m \u001b[0mlabel\u001b[0m\u001b[1;33m=\u001b[0m\u001b[0mcountry_name\u001b[0m\u001b[1;33m[\u001b[0m\u001b[0mindex\u001b[0m\u001b[1;33m]\u001b[0m\u001b[1;33m,\u001b[0m \u001b[0mcolor\u001b[0m\u001b[1;33m=\u001b[0m\u001b[0mlist_colors\u001b[0m\u001b[1;33m[\u001b[0m\u001b[0mindex\u001b[0m\u001b[1;33m]\u001b[0m\u001b[1;33m)\u001b[0m\u001b[1;33m\u001b[0m\u001b[0m\n\u001b[0;32m     22\u001b[0m         \u001b[0max\u001b[0m\u001b[1;33m.\u001b[0m\u001b[0mlegend\u001b[0m\u001b[1;33m(\u001b[0m\u001b[0mloc\u001b[0m\u001b[1;33m=\u001b[0m\u001b[1;34m\"upper left\"\u001b[0m\u001b[1;33m)\u001b[0m\u001b[1;33m\u001b[0m\u001b[0m\n",
      "\u001b[1;31mNameError\u001b[0m: name 'country_list' is not defined"
     ]
    },
    {
     "data": {
      "image/png": "[encoded data removed]",
      "text/plain": [
       "<Figure size 864x576 with 1 Axes>"
      ]
     },
     "metadata": {},
     "output_type": "display_data"
    }
   ],
   "source": [
    "generate_chart_hdi_total(myGroup, \"Índice de IDH\", \"Anos\", \"IDH total Rússia x Suécia\", 0.25)"
   ]
  },
  {
   "cell_type": "code",
   "execution_count": null,
   "metadata": {},
   "outputs": [],
   "source": [
    "generate_chart_suicide_gdp_pc(myGroup,\"PIB per Capita\",\"Anos\",\"PIB per Capita Rússia x Suécia\", 0.25)"
   ]
  },
  {
   "cell_type": "code",
   "execution_count": null,
   "metadata": {},
   "outputs": [],
   "source": []
  }
 ],
 "metadata": {
  "kernelspec": {
   "display_name": "Python 3",
   "language": "python",
   "name": "python3"
  },
  "language_info": {
   "codemirror_mode": {
    "name": "ipython",
    "version": 3
   },
   "file_extension": ".py",
   "mimetype": "text/x-python",
   "name": "python",
   "nbconvert_exporter": "python",
   "pygments_lexer": "ipython3",
   "version": "3.6.5"
  }
 },
 "nbformat": 4,
 "nbformat_minor": 2
}
