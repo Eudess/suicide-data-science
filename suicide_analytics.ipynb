{
 "cells": [
  {
   "cell_type": "code",
   "execution_count": 1,
   "metadata": {},
   "outputs": [],
   "source": [
    "import os\n",
    "import pandas as pd \n",
    "import matplotlib.pyplot as plt\n",
    "import numpy as np"
   ]
  },
  {
   "cell_type": "code",
   "execution_count": 2,
   "metadata": {},
   "outputs": [],
   "source": [
    "plt.rcParams[\"figure.figsize\"] = (10,10)\n",
    "plt.style.use(\"ggplot\")\n",
    "list_colors = [\"#1f77b4\", \"#ff7f0e\", \"#2ca02c\", \"#d62728\", \"#9467bd\", \"#8c564b\", \"#e377c2\", \"#7f7f7f\", \"#bcbd22\", \"#17becf\"]"
   ]
  },
  {
   "cell_type": "code",
   "execution_count": 3,
   "metadata": {},
   "outputs": [],
   "source": [
    "suicide_csv = \"../csvs/suicide.csv\"\n",
    "hdi_csv = \"../csvs/hdi.csv\"\n",
    "country_continent_csv = \"../csvs/countryContinent.csv\"\n",
    "total_population_csv = \"../csvs/totalPopulationCountries.csv\"\n",
    "users_internet_csv = \"../csvs/totalUsersInternet.csv\"\n",
    "gender_inequality_csv = \"../csvs/genderInequality.csv\"\n",
    "employmentto_population_csv = \"../csvs/employmenttoPopulationRatio(%ages15andOlder).csv\"\n",
    "positive_negative_csv = \"../csvs/positiveNegativeData.csv\"\n",
    "climate_russia_csv = \"../csvs/climateRussia.csv\"\n",
    "climate_sweden_csv = \"../csvs/climateSweden.csv\""
   ]
  },
  {
   "cell_type": "code",
   "execution_count": 4,
   "metadata": {},
   "outputs": [],
   "source": [
    "#Lendo csv.\n",
    "suicide_df = pd.read_csv(suicide_csv)\n",
    "hdi_df = pd.read_csv(hdi_csv, sep=\";\")\n",
    "country_continent_df = pd.read_csv(country_continent_csv)\n",
    "total_population_df = pd.read_csv(total_population_csv)\n",
    "users_internet_df = pd.read_csv(users_internet_csv, sep=\";\")\n",
    "gender_inequality_df = pd.read_csv(gender_inequality_csv)\n",
    "employmentto_population_df = pd.read_csv(employmentto_population_csv)\n",
    "positive_negative_df = pd.read_csv(positive_negative_csv, sep=\";\")\n",
    "climate_russia_df = pd.read_csv(climate_russia_csv)\n",
    "climate_sweden_df = pd.read_csv(climate_sweden_csv)"
   ]
  },
  {
   "cell_type": "code",
   "execution_count": 5,
   "metadata": {},
   "outputs": [],
   "source": [
    "#Fazendo cópias do Dataframe para trabalhar com as cópias.\n",
    "suicide = suicide_df.copy()\n",
    "hdi = hdi_df.copy()\n",
    "country_continent = country_continent_df.copy()\n",
    "total_population = total_population_df.copy()\n",
    "users_internet = users_internet_df.copy()\n",
    "gender_inequality = gender_inequality_df.copy()\n",
    "employmentto_population = employmentto_population_df.copy()\n",
    "positive_negative = positive_negative_df.copy()\n",
    "climate_russia = climate_russia_df.copy()\n",
    "climate_sweden = climate_sweden_df.copy()"
   ]
  },
  {
   "cell_type": "code",
   "execution_count": 6,
   "metadata": {},
   "outputs": [],
   "source": [
    "#Fazendo drop em colunas que não serão ultilizadas.\n",
    "suicide.drop(\"HDI for year\", axis=1, inplace=True)\n",
    "suicide.drop(\"country-year\", axis=1, inplace=True)\n",
    "suicide.drop(\"generation\", axis=1, inplace=True)\n",
    "country_continent.drop(\"code_2\", axis=1, inplace=True)\n",
    "country_continent.drop(\"code_3\", axis=1, inplace=True)\n",
    "country_continent.drop(\"country_code\", axis=1, inplace=True)\n",
    "country_continent.drop(\"iso_3166_2\", axis=1, inplace=True)\n",
    "country_continent.drop(\"region_code\", axis=1, inplace=True)\n",
    "country_continent.drop(\"sub_region_code\", axis=1, inplace=True)\n",
    "positive_negative.drop(\"Life Ladder\", axis=1, inplace=True)\n",
    "positive_negative.drop(\"Log GDP per capita\", axis=1, inplace=True)\n",
    "positive_negative.drop(\"Social support\", axis=1, inplace=True)\n",
    "positive_negative.drop(\"Healthy life expectancy at birth\", axis=1, inplace=True)\n",
    "positive_negative.drop(\"Freedom to make life choices\", axis=1, inplace=True)\n",
    "positive_negative.drop(\"Generosity\", axis=1, inplace=True)\n",
    "positive_negative.drop(\"Perceptions of corruption\", axis=1, inplace=True)\n",
    "positive_negative.drop(\"Confidence in national government\", axis=1, inplace=True)\n",
    "positive_negative.drop(\"Democratic Quality\", axis=1, inplace=True)\n",
    "positive_negative.drop(\"Delivery Quality\", axis=1, inplace=True)\n",
    "positive_negative.drop(\"Standard deviation of ladder by country-year\", axis=1, inplace=True)\n",
    "positive_negative.drop(\"Standard deviation/Mean of ladder by country-year\", axis=1, inplace=True)\n",
    "positive_negative.drop(\"GINI index (World Bank estimate)\", axis=1, inplace=True)\n",
    "positive_negative.drop(\"GINI index (World Bank estimate), average 2000-16\", axis=1, inplace=True)\n",
    "positive_negative.drop(\"gini of household income reported in Gallup, by wp5-year\", axis=1, inplace=True)\n",
    "positive_negative.drop(\"Most people can be trusted, Gallup\", axis=1, inplace=True)\n",
    "positive_negative.drop(\"Most people can be trusted, WVS round 1981-1984\", axis=1, inplace=True)\n",
    "positive_negative.drop(\"Most people can be trusted, WVS round 1989-1993\", axis=1, inplace=True)\n",
    "positive_negative.drop(\"Most people can be trusted, WVS round 1994-1998\", axis=1, inplace=True)\n",
    "positive_negative.drop(\"Most people can be trusted, WVS round 1999-2004\", axis=1, inplace=True)\n",
    "positive_negative.drop(\"Most people can be trusted, WVS round 2005-2009\", axis=1, inplace=True)\n",
    "positive_negative.drop(\"Most people can be trusted, WVS round 2010-2014\", axis=1, inplace=True)\n",
    "climate_russia.drop(\"ISO3\", axis=1, inplace=True)\n",
    "climate_sweden.drop(\"ISO3\", axis=1, inplace=True)"
   ]
  },
  {
   "cell_type": "code",
   "execution_count": 7,
   "metadata": {},
   "outputs": [],
   "source": [
    "#Junatando suicidio com continentes, para obter os nomes dos continentes e sub-regiões.\n",
    "add_continent = pd.merge(suicide,country_continent,on=[\"country\"], how=\"inner\")\n",
    "\n",
    "#Juntando continentes(gerado no merge anterior) com o idh, para obter a coluna de idh.\n",
    "add_hdi = pd.merge(add_continent,hdi, on=[\"country\",\"year\"], how=\"inner\")\n",
    "\n",
    "#Adicionando a coluna de população total.\n",
    "add_total_population = pd.merge(add_hdi,total_population, on=[\"country\",\"year\"], how=\"inner\")\n",
    "\n",
    "#Adicionando a coluna de total de usuários de internet.\n",
    "add_users_internet = pd.merge(add_total_population, users_internet,on=[\"country\",\"year\"], how=\"inner\")\n",
    "\n",
    "#Adicionando a coluna de desigualdade de gênero.\n",
    "add_gender_inequality = pd.merge(add_users_internet, gender_inequality,on=[\"country\",\"year\"], how=\"inner\")\n",
    "\n",
    "#Adicionando a coluna de taxa de empregados a partir de 15 anos.\n",
    "add_employmentto_population = pd.merge(add_gender_inequality,employmentto_population,on=[\"country\",\"year\"], how=\"inner\")\n",
    "\n",
    "#Adicionando a coluna de afeto positivo e afeto negativo.\n",
    "result = pd.merge(add_employmentto_population, positive_negative,on=[\"country\",\"year\"], how=\"inner\")"
   ]
  },
  {
   "cell_type": "code",
   "execution_count": 8,
   "metadata": {},
   "outputs": [],
   "source": [
    "russia_df= result[(result[\"country\"] == \"Russian Federation\")]\n",
    "sweden_df= result[(result[\"country\"] == \"Sweden\") & (result[\"year\"] > 2005)]"
   ]
  },
  {
   "cell_type": "code",
   "execution_count": 9,
   "metadata": {},
   "outputs": [],
   "source": [
    "cr = climate_russia.groupby([\"year\",\"country\"], as_index=False).median()\n",
    "cs = climate_sweden.groupby([\"year\",\"country\"], as_index=False).median()"
   ]
  },
  {
   "cell_type": "code",
   "execution_count": 10,
   "metadata": {},
   "outputs": [],
   "source": [
    "russia = pd.merge(russia_df,cr,on=[\"country\",\"year\"], how=\"inner\")\n",
    "sweden = pd.merge(sweden_df,cs,on=[\"country\",\"year\"], how=\"inner\")"
   ]
  },
  {
   "cell_type": "code",
   "execution_count": 11,
   "metadata": {},
   "outputs": [],
   "source": [
    "gr = russia.groupby([\"year\",\"country\",\"sex\"], as_index=False).sum()\n",
    "gs = sweden.groupby([\"year\",\"country\",\"sex\"], as_index=False).sum()"
   ]
  },
  {
   "cell_type": "code",
   "execution_count": 68,
   "metadata": {},
   "outputs": [
    {
     "data": {
      "text/html": [
       "<div>\n",
       "<style scoped>\n",
       "    .dataframe tbody tr th:only-of-type {\n",
       "        vertical-align: middle;\n",
       "    }\n",
       "\n",
       "    .dataframe tbody tr th {\n",
       "        vertical-align: top;\n",
       "    }\n",
       "\n",
       "    .dataframe thead th {\n",
       "        text-align: right;\n",
       "    }\n",
       "</style>\n",
       "<table border=\"1\" class=\"dataframe\">\n",
       "  <thead>\n",
       "    <tr style=\"text-align: right;\">\n",
       "      <th></th>\n",
       "      <th>country</th>\n",
       "      <th>year</th>\n",
       "      <th>sex</th>\n",
       "      <th>age</th>\n",
       "      <th>suicides_no</th>\n",
       "      <th>population</th>\n",
       "      <th>suicides/100kpop</th>\n",
       "      <th>gdp-year</th>\n",
       "      <th>gdp-per-capita</th>\n",
       "      <th>continent</th>\n",
       "      <th>sub_region</th>\n",
       "      <th>hdi</th>\n",
       "      <th>totalPopulation</th>\n",
       "      <th>totalUsersInternet</th>\n",
       "      <th>genderInequality</th>\n",
       "      <th>rateEmployment15andOlder</th>\n",
       "      <th>positiveAffect</th>\n",
       "      <th>negativeAffect</th>\n",
       "      <th>temperature-(celsius)</th>\n",
       "    </tr>\n",
       "  </thead>\n",
       "  <tbody>\n",
       "    <tr>\n",
       "      <th>0</th>\n",
       "      <td>Russian Federation</td>\n",
       "      <td>2010</td>\n",
       "      <td>male</td>\n",
       "      <td>75+ years</td>\n",
       "      <td>1506</td>\n",
       "      <td>2023458</td>\n",
       "      <td>74.43</td>\n",
       "      <td>1,524,916,112,079</td>\n",
       "      <td>11307</td>\n",
       "      <td>Europe</td>\n",
       "      <td>Eastern Europe</td>\n",
       "      <td>0.78</td>\n",
       "      <td>142849449.0</td>\n",
       "      <td>43.0</td>\n",
       "      <td>311.0</td>\n",
       "      <td>58.4</td>\n",
       "      <td>0.588975</td>\n",
       "      <td>0.171421</td>\n",
       "      <td>-4.6272</td>\n",
       "    </tr>\n",
       "    <tr>\n",
       "      <th>1</th>\n",
       "      <td>Russian Federation</td>\n",
       "      <td>2010</td>\n",
       "      <td>male</td>\n",
       "      <td>25-34 years</td>\n",
       "      <td>6508</td>\n",
       "      <td>11398127</td>\n",
       "      <td>57.10</td>\n",
       "      <td>1,524,916,112,079</td>\n",
       "      <td>11307</td>\n",
       "      <td>Europe</td>\n",
       "      <td>Eastern Europe</td>\n",
       "      <td>0.78</td>\n",
       "      <td>142849449.0</td>\n",
       "      <td>43.0</td>\n",
       "      <td>311.0</td>\n",
       "      <td>58.4</td>\n",
       "      <td>0.588975</td>\n",
       "      <td>0.171421</td>\n",
       "      <td>-4.6272</td>\n",
       "    </tr>\n",
       "    <tr>\n",
       "      <th>2</th>\n",
       "      <td>Russian Federation</td>\n",
       "      <td>2010</td>\n",
       "      <td>male</td>\n",
       "      <td>35-54 years</td>\n",
       "      <td>10304</td>\n",
       "      <td>19786280</td>\n",
       "      <td>52.08</td>\n",
       "      <td>1,524,916,112,079</td>\n",
       "      <td>11307</td>\n",
       "      <td>Europe</td>\n",
       "      <td>Eastern Europe</td>\n",
       "      <td>0.78</td>\n",
       "      <td>142849449.0</td>\n",
       "      <td>43.0</td>\n",
       "      <td>311.0</td>\n",
       "      <td>58.4</td>\n",
       "      <td>0.588975</td>\n",
       "      <td>0.171421</td>\n",
       "      <td>-4.6272</td>\n",
       "    </tr>\n",
       "    <tr>\n",
       "      <th>3</th>\n",
       "      <td>Russian Federation</td>\n",
       "      <td>2010</td>\n",
       "      <td>male</td>\n",
       "      <td>55-74 years</td>\n",
       "      <td>5178</td>\n",
       "      <td>11174530</td>\n",
       "      <td>46.34</td>\n",
       "      <td>1,524,916,112,079</td>\n",
       "      <td>11307</td>\n",
       "      <td>Europe</td>\n",
       "      <td>Eastern Europe</td>\n",
       "      <td>0.78</td>\n",
       "      <td>142849449.0</td>\n",
       "      <td>43.0</td>\n",
       "      <td>311.0</td>\n",
       "      <td>58.4</td>\n",
       "      <td>0.588975</td>\n",
       "      <td>0.171421</td>\n",
       "      <td>-4.6272</td>\n",
       "    </tr>\n",
       "    <tr>\n",
       "      <th>4</th>\n",
       "      <td>Russian Federation</td>\n",
       "      <td>2010</td>\n",
       "      <td>male</td>\n",
       "      <td>15-24 years</td>\n",
       "      <td>3934</td>\n",
       "      <td>10546669</td>\n",
       "      <td>37.30</td>\n",
       "      <td>1,524,916,112,079</td>\n",
       "      <td>11307</td>\n",
       "      <td>Europe</td>\n",
       "      <td>Eastern Europe</td>\n",
       "      <td>0.78</td>\n",
       "      <td>142849449.0</td>\n",
       "      <td>43.0</td>\n",
       "      <td>311.0</td>\n",
       "      <td>58.4</td>\n",
       "      <td>0.588975</td>\n",
       "      <td>0.171421</td>\n",
       "      <td>-4.6272</td>\n",
       "    </tr>\n",
       "  </tbody>\n",
       "</table>\n",
       "</div>"
      ],
      "text/plain": [
       "              country  year   sex          age  suicides_no  population  \\\n",
       "0  Russian Federation  2010  male    75+ years         1506     2023458   \n",
       "1  Russian Federation  2010  male  25-34 years         6508    11398127   \n",
       "2  Russian Federation  2010  male  35-54 years        10304    19786280   \n",
       "3  Russian Federation  2010  male  55-74 years         5178    11174530   \n",
       "4  Russian Federation  2010  male  15-24 years         3934    10546669   \n",
       "\n",
       "   suicides/100kpop           gdp-year  gdp-per-capita continent  \\\n",
       "0             74.43  1,524,916,112,079           11307    Europe   \n",
       "1             57.10  1,524,916,112,079           11307    Europe   \n",
       "2             52.08  1,524,916,112,079           11307    Europe   \n",
       "3             46.34  1,524,916,112,079           11307    Europe   \n",
       "4             37.30  1,524,916,112,079           11307    Europe   \n",
       "\n",
       "       sub_region   hdi  totalPopulation  totalUsersInternet  \\\n",
       "0  Eastern Europe  0.78      142849449.0                43.0   \n",
       "1  Eastern Europe  0.78      142849449.0                43.0   \n",
       "2  Eastern Europe  0.78      142849449.0                43.0   \n",
       "3  Eastern Europe  0.78      142849449.0                43.0   \n",
       "4  Eastern Europe  0.78      142849449.0                43.0   \n",
       "\n",
       "   genderInequality  rateEmployment15andOlder  positiveAffect  negativeAffect  \\\n",
       "0             311.0                      58.4        0.588975        0.171421   \n",
       "1             311.0                      58.4        0.588975        0.171421   \n",
       "2             311.0                      58.4        0.588975        0.171421   \n",
       "3             311.0                      58.4        0.588975        0.171421   \n",
       "4             311.0                      58.4        0.588975        0.171421   \n",
       "\n",
       "   temperature-(celsius)  \n",
       "0                -4.6272  \n",
       "1                -4.6272  \n",
       "2                -4.6272  \n",
       "3                -4.6272  \n",
       "4                -4.6272  "
      ]
     },
     "execution_count": 68,
     "metadata": {},
     "output_type": "execute_result"
    }
   ],
   "source": [
    "myGroup = pd.merge(russia,sweden, how=\"outer\")\n",
    "myGroup_sum = myGroup.groupby([\"year\",\"country\",\"totalPopulation\", \"hdi\"], as_index=False).sum()\n",
    "myGroup.head()"
   ]
  },
  {
   "cell_type": "code",
   "execution_count": 13,
   "metadata": {},
   "outputs": [],
   "source": [
    "#Pegando os países por suas sub-regiões.\n",
    "australia_newzeland = result[(result[\"sub_region\"] == \"Australia and New Zealand\")]\n",
    "caribbean = result[(result[\"sub_region\"] == \"Caribbean\")]\n",
    "central_america = result[(result[\"sub_region\"] == \"Central America\")]\n",
    "central_asia = result[(result[\"sub_region\"] == \"Central Asia\")]\n",
    "eastern_africa = result[(result[\"sub_region\"] == \"Eastern Africa\")]\n",
    "eastern_asia = result[(result[\"sub_region\"] == \"Eastern Asia\")]\n",
    "eastern_europe = result[(result[\"sub_region\"] == \"Eastern Europe\")]\n",
    "melanesia = result[(result[\"sub_region\"] == \"Melanesia\")]\n",
    "micronesia = result[(result[\"sub_region\"] == \"Micronesia\")]\n",
    "northern_america = result[(result[\"sub_region\"] == \"Northern America\")]\n",
    "northern_europe = result[(result[\"sub_region\"] == \"Northern Europe\")]\n",
    "south_america = result[(result[\"sub_region\"] == \"South America\")]\n",
    "south_eastern_asia = result[(result[\"sub_region\"] == \"South-Eastern Asia\")]\n",
    "southern_africa = result[(result[\"sub_region\"] == \"Southern Africa\")]\n",
    "southern_asia = result[(result[\"sub_region\"] == \"Southern Asia\")]\n",
    "southern_europe = result[(result[\"sub_region\"] == \"Southern Europe\")]\n",
    "western_africa = result[(result[\"sub_region\"] == \"Western Africa\")]\n",
    "western_asia = result[(result[\"sub_region\"] == \"Western Asia\")]\n",
    "western_europe = result[(result[\"sub_region\"] == \"Western Europe\")]"
   ]
  },
  {
   "cell_type": "code",
   "execution_count": 14,
   "metadata": {},
   "outputs": [],
   "source": [
    "#Pegando os países por continentes\n",
    "africa = result[(result[\"continent\"] == \"Africa\")]\n",
    "americas = result[(result[\"continent\"] == \"Americas\")]\n",
    "asia = result[(result[\"continent\"] == \"Asia\")]\n",
    "europe = result[(result[\"continent\"] == \"Europe\")]\n",
    "Oceania = result[(result[\"continent\"] == \"Oceania\")]"
   ]
  },
  {
   "cell_type": "code",
   "execution_count": 15,
   "metadata": {},
   "outputs": [],
   "source": [
    "group_sa = south_america.groupby([\"year\",\"country\",\"hdi\"], as_index=False).sum()\n",
    "group_ee = eastern_europe.groupby([\"year\",\"country\",\"hdi\"], as_index=False).sum()"
   ]
  },
  {
   "cell_type": "code",
   "execution_count": 16,
   "metadata": {},
   "outputs": [],
   "source": [
    "#Função para colocar valores nulos.\n",
    "#Substitui valores nulos por 0\n",
    "#Primeira apresentação\n",
    "def insert_zero(df,start = 2000, end = 2016):\n",
    "    country_list = list(df[\"country\"].unique())\n",
    "    for year in range(start,end):\n",
    "        for country in country_list:\n",
    "            if len(df[(df[\"country\"] == country) & (df[\"year\"] == year)]) == 0:\n",
    "                df2 = pd.DataFrame({\"country\": [country], \"year\": [year], \"hdi\" : [0]})\n",
    "                df = df.append(df2, ignore_index=True)\n",
    "    return df\n"
   ]
  },
  {
   "cell_type": "code",
   "execution_count": 17,
   "metadata": {},
   "outputs": [],
   "source": [
    "#Atribuindo os valores nulos ao dataframe.\n",
    "#group_sa = insert_zero(group_sa)\n",
    "#group_ee = insert_zero(group_ee)"
   ]
  },
  {
   "cell_type": "code",
   "execution_count": 18,
   "metadata": {},
   "outputs": [],
   "source": [
    "def axis_x_center(length=1):\n",
    "    start = -(length//2) if length%2 == 0 else -((length//2))\n",
    "    end = (length//2) if length%2 == 0 else ((length//2)+1)\n",
    "    \n",
    "    return [x for x in range(start, end)]"
   ]
  },
  {
   "cell_type": "code",
   "execution_count": 19,
   "metadata": {},
   "outputs": [],
   "source": [
    "#TESTE\n",
    "#country_list = list(group_sa[\"country\"].unique())\n",
    "#country_hdi = list(group_sa[\"hdi\"][group_sa[\"country\"] == \"Argentina\"])\n",
    "#country_year = list(group_sa[\"year\"].unique())"
   ]
  },
  {
   "cell_type": "code",
   "execution_count": 20,
   "metadata": {},
   "outputs": [
    {
     "data": {
      "text/plain": [
       "' def gerar_grafico_idh(df, axis_y, axis_x, title,wd = 0.15, start = 2000, end = 2016):\\n    global list_colors\\n    \\n    plt.ylabel(axis_y)\\n    plt.xlabel(axis_x)\\n    plt.title(title)\\n    ax = plt.subplot()\\n    df = df[(df[\"year\"]>= start) & (df[\"year\"] < end)]\\n    \\n    country_name = list(df[\"country\"].unique())\\n    country_year = np.asarray([x for x in range(start,end)])\\n    \\n    list_num = axis_x_center(len(country_name))\\n    plt.xlim(country_year[0]+(wd*(list_num[0]-11)), country_year[-1]+(wd*(list_num[-1]+2)))\\n    plt.xticks(country_year)\\n    \\n    for index in range(len(country_name)):\\n        country_hdi = list(df[\"hdi\"][df[\"country\"] == country_name[index]])\\n        print(country_hdi)\\n        country_hdi = np.asarray(country_hdi)\\n        ax.bar(country_year+(wd*list_num[index]), country_hdi, width=wd, align=\"center\", label=country_name[index], color=list_colors[index])\\n        ax.legend(loc=\"upper left\")\\n\\n\\n    plt.show() '"
      ]
     },
     "execution_count": 20,
     "metadata": {},
     "output_type": "execute_result"
    }
   ],
   "source": [
    "#Função para gerar gráfico de idh.\n",
    "#Primeira apresentação\n",
    "''' def gerar_grafico_idh(df, axis_y, axis_x, title,wd = 0.15, start = 2000, end = 2016):\n",
    "    global list_colors\n",
    "    \n",
    "    plt.ylabel(axis_y)\n",
    "    plt.xlabel(axis_x)\n",
    "    plt.title(title)\n",
    "    ax = plt.subplot()\n",
    "    df = df[(df[\"year\"]>= start) & (df[\"year\"] < end)]\n",
    "    \n",
    "    country_name = list(df[\"country\"].unique())\n",
    "    country_year = np.asarray([x for x in range(start,end)])\n",
    "    \n",
    "    list_num = axis_x_center(len(country_name))\n",
    "    plt.xlim(country_year[0]+(wd*(list_num[0]-11)), country_year[-1]+(wd*(list_num[-1]+2)))\n",
    "    plt.xticks(country_year)\n",
    "    \n",
    "    for index in range(len(country_name)):\n",
    "        country_hdi = list(df[\"hdi\"][df[\"country\"] == country_name[index]])\n",
    "        print(country_hdi)\n",
    "        country_hdi = np.asarray(country_hdi)\n",
    "        ax.bar(country_year+(wd*list_num[index]), country_hdi, width=wd, align=\"center\", label=country_name[index], color=list_colors[index])\n",
    "        ax.legend(loc=\"upper left\")\n",
    "\n",
    "\n",
    "    plt.show() '''"
   ]
  },
  {
   "cell_type": "code",
   "execution_count": 21,
   "metadata": {},
   "outputs": [
    {
     "data": {
      "text/plain": [
       "'\\ndef gerar_grafico_suicide(df, axis_y, axis_x, title,wd = 0.15, start = 2000, end = 2016):\\n    global list_colors\\n    \\n    plt.ylabel(axis_y)\\n    plt.xlabel(axis_x)\\n    plt.title(title)\\n    ax = plt.subplot()\\n    df = df[(df[\"year\"]>= start) & (df[\"year\"] < end)]\\n    \\n    country_name = list(df[\"country\"].unique())\\n    country_year = np.asarray([x for x in range(start,end)])\\n    \\n    list_num = axis_x_center(len(country_name)) \\n    plt.xlim(country_year[0]+(wd*(list_num[0]-11)), country_year[-1]+(wd*(list_num[-1]+2)))\\n    plt.xticks(country_year)\\n    \\n    for index in range(len(country_name)):\\n        country_list = list((df[\"suicides_no\"][df[\"country\"] == country_name[index]]/ df[\"population\"][df[\"country\"] == country_name[index]])*100000)\\n        country_list = np.asarray(country_list)\\n        ax.bar(country_year+(wd*list_num[index]), country_list, width=wd, align=\"center\", label=country_name[index], color=list_colors[index])\\n        ax.legend(loc=\"upper left\")\\n\\n\\n    plt.show()'"
      ]
     },
     "execution_count": 21,
     "metadata": {},
     "output_type": "execute_result"
    }
   ],
   "source": [
    "#Função para gerar gráfico de taxa de suicídio.\n",
    "#Primeira apresentação\n",
    "'''\n",
    "def gerar_grafico_suicide(df, axis_y, axis_x, title,wd = 0.15, start = 2000, end = 2016):\n",
    "    global list_colors\n",
    "    \n",
    "    plt.ylabel(axis_y)\n",
    "    plt.xlabel(axis_x)\n",
    "    plt.title(title)\n",
    "    ax = plt.subplot()\n",
    "    df = df[(df[\"year\"]>= start) & (df[\"year\"] < end)]\n",
    "    \n",
    "    country_name = list(df[\"country\"].unique())\n",
    "    country_year = np.asarray([x for x in range(start,end)])\n",
    "    \n",
    "    list_num = axis_x_center(len(country_name)) \n",
    "    plt.xlim(country_year[0]+(wd*(list_num[0]-11)), country_year[-1]+(wd*(list_num[-1]+2)))\n",
    "    plt.xticks(country_year)\n",
    "    \n",
    "    for index in range(len(country_name)):\n",
    "        country_list = list((df[\"suicides_no\"][df[\"country\"] == country_name[index]]/ df[\"population\"][df[\"country\"] == country_name[index]])*100000)\n",
    "        country_list = np.asarray(country_list)\n",
    "        ax.bar(country_year+(wd*list_num[index]), country_list, width=wd, align=\"center\", label=country_name[index], color=list_colors[index])\n",
    "        ax.legend(loc=\"upper left\")\n",
    "\n",
    "\n",
    "    plt.show()'''"
   ]
  },
  {
   "cell_type": "code",
   "execution_count": 22,
   "metadata": {},
   "outputs": [],
   "source": [
    "def gerar_grafico_suicide_gen(df, axis_y, axis_x, title,wd = 0.15):\n",
    "    global list_colors\n",
    "    \n",
    "    plt.ylabel(axis_y)\n",
    "    plt.xlabel(axis_x)\n",
    "    plt.title(title)\n",
    "    ax = plt.subplot()\n",
    "    \n",
    "    country_sex = list(df[\"sex\"].unique())\n",
    "    year_df = list(df[\"year\"].unique())\n",
    "    country_year = np.asarray(year_df)\n",
    "    \n",
    "    list_num = axis_x_center(len(country_sex)) \n",
    "    plt.xlim(country_year[0]+(wd*(list_num[0]-3)), country_year[-1]+(wd*(list_num[-1]+3)))\n",
    "    plt.xticks(country_year)\n",
    "    \n",
    "    for index in range(len(country_sex)):\n",
    "        country_list = list((df[\"suicides_no\"][df[\"sex\"] == country_sex[index]]/df[\"population\"][df[\"sex\"] == country_sex[index]])*100000)\n",
    "        country_list = np.asarray(country_list)\n",
    "        ax.bar(country_year+(wd*list_num[index]), country_list, width=wd, align=\"center\", label=country_sex[index], color=list_colors[index])\n",
    "        ax.legend(loc=\"upper left\")\n",
    "\n",
    "\n",
    "    plt.show()\n",
    "    "
   ]
  },
  {
   "cell_type": "code",
   "execution_count": 23,
   "metadata": {
    "scrolled": true
   },
   "outputs": [
    {
     "name": "stderr",
     "output_type": "stream",
     "text": [
      "C:\\Users\\evele\\Anaconda3\\lib\\site-packages\\matplotlib\\figure.py:98: MatplotlibDeprecationWarning: \n",
      "Adding an axes using the same arguments as a previous axes currently reuses the earlier instance.  In a future version, a new instance will always be created and returned.  Meanwhile, this warning can be suppressed, and the future behavior ensured, by passing a unique label to each axes instance.\n",
      "  \"Adding an axes using the same arguments as a previous axes \"\n"
     ]
    },
    {
     "data": {
      "image/png": "[encoded data removed]",
      "text/plain": [
       "<Figure size 720x720 with 1 Axes>"
      ]
     },
     "metadata": {},
     "output_type": "display_data"
    }
   ],
   "source": [
    "gerar_grafico_suicide_gen(gr, \"Taxa de suicídio\", \"Anos\", \"Taxa de suicídio por gênero na Rússia por 100k/hab\", 0.25)"
   ]
  },
  {
   "cell_type": "code",
   "execution_count": 39,
   "metadata": {},
   "outputs": [],
   "source": [
    "def gerar_grafico_suicide_total(df, axis_y, axis_x, title,wd = 0.15):\n",
    "    global list_colors\n",
    "    \n",
    "    plt.ylabel(axis_y)\n",
    "    plt.xlabel(axis_x)\n",
    "    plt.title(title)\n",
    "    ax = plt.subplot()\n",
    "    \n",
    "    country_name = list(df[\"country\"].unique())\n",
    "    year_df = list(df[\"year\"].unique())\n",
    "    country_year = np.asarray(year_df)\n",
    "    \n",
    "    list_num = axis_x_center(len(country_name)) \n",
    "    plt.xlim(country_year[0]+(wd*(list_num[0]-3)), country_year[-1]+(wd*(list_num[-1]+3)))\n",
    "    plt.xticks(country_year)\n",
    "    \n",
    "    for index in range(len(country_name)):\n",
    "        country_list = list((df[\"suicides_no\"][df[\"country\"] == country_name[index]]/df[\"totalPopulation\"][df[\"country\"] == country_name[index]])*100000)\n",
    "        country_list = np.asarray(country_list)\n",
    "        ax.bar(country_year+(wd*list_num[index]), country_list, width=wd, align=\"center\", label=country_name[index], color=list_colors[index])\n",
    "        ax.legend(loc=\"upper right\")\n",
    "\n",
    "\n",
    "    plt.show()"
   ]
  },
  {
   "cell_type": "code",
   "execution_count": 52,
   "metadata": {},
   "outputs": [],
   "source": [
    "def gerar_grafico_idh_total(df, axis_y, axis_x, title,wd = 0.15):\n",
    "    global list_colors\n",
    "    \n",
    "    plt.ylabel(axis_y)\n",
    "    plt.xlabel(axis_x)\n",
    "    plt.title(title)\n",
    "    ax = plt.subplot()\n",
    "    \n",
    "    country_name = list(df[\"country\"].unique())\n",
    "    year_df = list(df[\"year\"].unique())\n",
    "    country_year = np.asarray(year_df)\n",
    "    \n",
    "    list_num = axis_x_center(len(country_name))\n",
    "    plt.xlim(country_year[0]+(wd*(list_num[0]-11)), country_year[-1]+(wd*(list_num[-1]+2)))\n",
    "    plt.xticks(country_year)\n",
    "    \n",
    "    for index in range(len(country_name)):\n",
    "        country_hdi = list(df[\"hdi\"][df[\"country\"] == country_name[index]])\n",
    "        country_hdi = np.asarray(country_hdi)\n",
    "        ax.bar(country_year+(wd*list_num[index]), country_hdi, width=wd, align=\"center\", label=country_name[index], color=list_colors[index])\n",
    "        ax.legend(loc=\"upper left\")\n",
    "\n",
    "\n",
    "    plt.show() "
   ]
  },
  {
   "cell_type": "code",
   "execution_count": 76,
   "metadata": {},
   "outputs": [],
   "source": [
    "def gerar_grafico_suicide_gdp_pc(df, axis_y, axis_x, title,wd = 0.15):\n",
    "    global list_colors\n",
    "    \n",
    "    plt.ylabel(axis_y)\n",
    "    plt.xlabel(axis_x)\n",
    "    plt.title(title)\n",
    "    ax = plt.subplot()\n",
    "    \n",
    "    country_name = list(df[\"country\"].unique())\n",
    "    year_df = list(df[\"year\"].unique())\n",
    "    country_year = np.asarray(year_df)\n",
    "    \n",
    "    list_num = axis_x_center(len(country_name)) \n",
    "    plt.xlim(country_year[0]+(wd*(list_num[0]-3)), country_year[-1]+(wd*(list_num[-1]+3)))\n",
    "    plt.xticks(country_year)\n",
    "    \n",
    "    for index in range(len(country_name)):\n",
    "        country_list = list((df[\" gdp-year\"][df[\"country\"] == country_name[index]]/df[\"totalPopulation\"][df[\"country\"] == country_name[index]]))\n",
    "        country_list = np.asarray(country_list)\n",
    "        ax.bar(country_year+(wd*list_num[index]), country_list, width=wd, align=\"center\", label=country_name[index], color=list_colors[index])\n",
    "        ax.legend(loc=\"upper right\")\n",
    "\n",
    "\n",
    "    plt.show()"
   ]
  },
  {
   "cell_type": "code",
   "execution_count": 26,
   "metadata": {},
   "outputs": [
    {
     "data": {
      "image/png": "[encoded data removed]",
      "text/plain": [
       "<Figure size 720x720 with 1 Axes>"
      ]
     },
     "metadata": {},
     "output_type": "display_data"
    }
   ],
   "source": [
    "gerar_grafico_suicide_total(myGroup_sum, 'Taxa de suicídio', 'Anos', 'Taxa de suicídios total Rússia x Suécia por 100k/hab')"
   ]
  },
  {
   "cell_type": "code",
   "execution_count": 54,
   "metadata": {},
   "outputs": [
    {
     "data": {
      "image/png": "[encoded data removed]",
      "text/plain": [
       "<Figure size 720x720 with 1 Axes>"
      ]
     },
     "metadata": {},
     "output_type": "display_data"
    }
   ],
   "source": [
    "gerar_grafico_idh_total(myGroup_sum, \"Índice de IDH\", \"Anos\", \"IDH total Rússia x Suécia\")"
   ]
  },
  {
   "cell_type": "code",
   "execution_count": 77,
   "metadata": {},
   "outputs": [
    {
     "ename": "TypeError",
     "evalue": "unsupported operand type(s) for /: 'str' and 'float'",
     "output_type": "error",
     "traceback": [
      "\u001b[1;31m---------------------------------------------------------------------------\u001b[0m",
      "\u001b[1;31mTypeError\u001b[0m                                 Traceback (most recent call last)",
      "\u001b[1;32m~\\Anaconda3\\lib\\site-packages\\pandas\\core\\ops.py\u001b[0m in \u001b[0;36mna_op\u001b[1;34m(x, y)\u001b[0m\n\u001b[0;32m   1504\u001b[0m         \u001b[1;32mtry\u001b[0m\u001b[1;33m:\u001b[0m\u001b[1;33m\u001b[0m\u001b[1;33m\u001b[0m\u001b[0m\n\u001b[1;32m-> 1505\u001b[1;33m             \u001b[0mresult\u001b[0m \u001b[1;33m=\u001b[0m \u001b[0mexpressions\u001b[0m\u001b[1;33m.\u001b[0m\u001b[0mevaluate\u001b[0m\u001b[1;33m(\u001b[0m\u001b[0mop\u001b[0m\u001b[1;33m,\u001b[0m \u001b[0mstr_rep\u001b[0m\u001b[1;33m,\u001b[0m \u001b[0mx\u001b[0m\u001b[1;33m,\u001b[0m \u001b[0my\u001b[0m\u001b[1;33m,\u001b[0m \u001b[1;33m**\u001b[0m\u001b[0meval_kwargs\u001b[0m\u001b[1;33m)\u001b[0m\u001b[1;33m\u001b[0m\u001b[1;33m\u001b[0m\u001b[0m\n\u001b[0m\u001b[0;32m   1506\u001b[0m         \u001b[1;32mexcept\u001b[0m \u001b[0mTypeError\u001b[0m\u001b[1;33m:\u001b[0m\u001b[1;33m\u001b[0m\u001b[1;33m\u001b[0m\u001b[0m\n",
      "\u001b[1;32m~\\Anaconda3\\lib\\site-packages\\pandas\\core\\computation\\expressions.py\u001b[0m in \u001b[0;36mevaluate\u001b[1;34m(op, op_str, a, b, use_numexpr, **eval_kwargs)\u001b[0m\n\u001b[0;32m    207\u001b[0m     \u001b[1;32mif\u001b[0m \u001b[0muse_numexpr\u001b[0m\u001b[1;33m:\u001b[0m\u001b[1;33m\u001b[0m\u001b[1;33m\u001b[0m\u001b[0m\n\u001b[1;32m--> 208\u001b[1;33m         \u001b[1;32mreturn\u001b[0m \u001b[0m_evaluate\u001b[0m\u001b[1;33m(\u001b[0m\u001b[0mop\u001b[0m\u001b[1;33m,\u001b[0m \u001b[0mop_str\u001b[0m\u001b[1;33m,\u001b[0m \u001b[0ma\u001b[0m\u001b[1;33m,\u001b[0m \u001b[0mb\u001b[0m\u001b[1;33m,\u001b[0m \u001b[1;33m**\u001b[0m\u001b[0meval_kwargs\u001b[0m\u001b[1;33m)\u001b[0m\u001b[1;33m\u001b[0m\u001b[1;33m\u001b[0m\u001b[0m\n\u001b[0m\u001b[0;32m    209\u001b[0m     \u001b[1;32mreturn\u001b[0m \u001b[0m_evaluate_standard\u001b[0m\u001b[1;33m(\u001b[0m\u001b[0mop\u001b[0m\u001b[1;33m,\u001b[0m \u001b[0mop_str\u001b[0m\u001b[1;33m,\u001b[0m \u001b[0ma\u001b[0m\u001b[1;33m,\u001b[0m \u001b[0mb\u001b[0m\u001b[1;33m)\u001b[0m\u001b[1;33m\u001b[0m\u001b[1;33m\u001b[0m\u001b[0m\n",
      "\u001b[1;32m~\\Anaconda3\\lib\\site-packages\\pandas\\core\\computation\\expressions.py\u001b[0m in \u001b[0;36m_evaluate_numexpr\u001b[1;34m(op, op_str, a, b, truediv, reversed, **eval_kwargs)\u001b[0m\n\u001b[0;32m    122\u001b[0m     \u001b[1;32mif\u001b[0m \u001b[0mresult\u001b[0m \u001b[1;32mis\u001b[0m \u001b[1;32mNone\u001b[0m\u001b[1;33m:\u001b[0m\u001b[1;33m\u001b[0m\u001b[1;33m\u001b[0m\u001b[0m\n\u001b[1;32m--> 123\u001b[1;33m         \u001b[0mresult\u001b[0m \u001b[1;33m=\u001b[0m \u001b[0m_evaluate_standard\u001b[0m\u001b[1;33m(\u001b[0m\u001b[0mop\u001b[0m\u001b[1;33m,\u001b[0m \u001b[0mop_str\u001b[0m\u001b[1;33m,\u001b[0m \u001b[0ma\u001b[0m\u001b[1;33m,\u001b[0m \u001b[0mb\u001b[0m\u001b[1;33m)\u001b[0m\u001b[1;33m\u001b[0m\u001b[1;33m\u001b[0m\u001b[0m\n\u001b[0m\u001b[0;32m    124\u001b[0m \u001b[1;33m\u001b[0m\u001b[0m\n",
      "\u001b[1;32m~\\Anaconda3\\lib\\site-packages\\pandas\\core\\computation\\expressions.py\u001b[0m in \u001b[0;36m_evaluate_standard\u001b[1;34m(op, op_str, a, b, **eval_kwargs)\u001b[0m\n\u001b[0;32m     67\u001b[0m     \u001b[1;32mwith\u001b[0m \u001b[0mnp\u001b[0m\u001b[1;33m.\u001b[0m\u001b[0merrstate\u001b[0m\u001b[1;33m(\u001b[0m\u001b[0mall\u001b[0m\u001b[1;33m=\u001b[0m\u001b[1;34m'ignore'\u001b[0m\u001b[1;33m)\u001b[0m\u001b[1;33m:\u001b[0m\u001b[1;33m\u001b[0m\u001b[1;33m\u001b[0m\u001b[0m\n\u001b[1;32m---> 68\u001b[1;33m         \u001b[1;32mreturn\u001b[0m \u001b[0mop\u001b[0m\u001b[1;33m(\u001b[0m\u001b[0ma\u001b[0m\u001b[1;33m,\u001b[0m \u001b[0mb\u001b[0m\u001b[1;33m)\u001b[0m\u001b[1;33m\u001b[0m\u001b[1;33m\u001b[0m\u001b[0m\n\u001b[0m\u001b[0;32m     69\u001b[0m \u001b[1;33m\u001b[0m\u001b[0m\n",
      "\u001b[1;31mTypeError\u001b[0m: unsupported operand type(s) for /: 'str' and 'float'",
      "\nDuring handling of the above exception, another exception occurred:\n",
      "\u001b[1;31mTypeError\u001b[0m                                 Traceback (most recent call last)",
      "\u001b[1;32m~\\Anaconda3\\lib\\site-packages\\pandas\\core\\ops.py\u001b[0m in \u001b[0;36msafe_na_op\u001b[1;34m(lvalues, rvalues)\u001b[0m\n\u001b[0;32m   1528\u001b[0m             \u001b[1;32mwith\u001b[0m \u001b[0mnp\u001b[0m\u001b[1;33m.\u001b[0m\u001b[0merrstate\u001b[0m\u001b[1;33m(\u001b[0m\u001b[0mall\u001b[0m\u001b[1;33m=\u001b[0m\u001b[1;34m'ignore'\u001b[0m\u001b[1;33m)\u001b[0m\u001b[1;33m:\u001b[0m\u001b[1;33m\u001b[0m\u001b[1;33m\u001b[0m\u001b[0m\n\u001b[1;32m-> 1529\u001b[1;33m                 \u001b[1;32mreturn\u001b[0m \u001b[0mna_op\u001b[0m\u001b[1;33m(\u001b[0m\u001b[0mlvalues\u001b[0m\u001b[1;33m,\u001b[0m \u001b[0mrvalues\u001b[0m\u001b[1;33m)\u001b[0m\u001b[1;33m\u001b[0m\u001b[1;33m\u001b[0m\u001b[0m\n\u001b[0m\u001b[0;32m   1530\u001b[0m         \u001b[1;32mexcept\u001b[0m \u001b[0mException\u001b[0m\u001b[1;33m:\u001b[0m\u001b[1;33m\u001b[0m\u001b[1;33m\u001b[0m\u001b[0m\n",
      "\u001b[1;32m~\\Anaconda3\\lib\\site-packages\\pandas\\core\\ops.py\u001b[0m in \u001b[0;36mna_op\u001b[1;34m(x, y)\u001b[0m\n\u001b[0;32m   1506\u001b[0m         \u001b[1;32mexcept\u001b[0m \u001b[0mTypeError\u001b[0m\u001b[1;33m:\u001b[0m\u001b[1;33m\u001b[0m\u001b[1;33m\u001b[0m\u001b[0m\n\u001b[1;32m-> 1507\u001b[1;33m             \u001b[0mresult\u001b[0m \u001b[1;33m=\u001b[0m \u001b[0mmasked_arith_op\u001b[0m\u001b[1;33m(\u001b[0m\u001b[0mx\u001b[0m\u001b[1;33m,\u001b[0m \u001b[0my\u001b[0m\u001b[1;33m,\u001b[0m \u001b[0mop\u001b[0m\u001b[1;33m)\u001b[0m\u001b[1;33m\u001b[0m\u001b[1;33m\u001b[0m\u001b[0m\n\u001b[0m\u001b[0;32m   1508\u001b[0m \u001b[1;33m\u001b[0m\u001b[0m\n",
      "\u001b[1;32m~\\Anaconda3\\lib\\site-packages\\pandas\\core\\ops.py\u001b[0m in \u001b[0;36mmasked_arith_op\u001b[1;34m(x, y, op)\u001b[0m\n\u001b[0;32m   1025\u001b[0m             \u001b[1;32mwith\u001b[0m \u001b[0mnp\u001b[0m\u001b[1;33m.\u001b[0m\u001b[0merrstate\u001b[0m\u001b[1;33m(\u001b[0m\u001b[0mall\u001b[0m\u001b[1;33m=\u001b[0m\u001b[1;34m'ignore'\u001b[0m\u001b[1;33m)\u001b[0m\u001b[1;33m:\u001b[0m\u001b[1;33m\u001b[0m\u001b[1;33m\u001b[0m\u001b[0m\n\u001b[1;32m-> 1026\u001b[1;33m                 \u001b[0mresult\u001b[0m\u001b[1;33m[\u001b[0m\u001b[0mmask\u001b[0m\u001b[1;33m]\u001b[0m \u001b[1;33m=\u001b[0m \u001b[0mop\u001b[0m\u001b[1;33m(\u001b[0m\u001b[0mxrav\u001b[0m\u001b[1;33m[\u001b[0m\u001b[0mmask\u001b[0m\u001b[1;33m]\u001b[0m\u001b[1;33m,\u001b[0m \u001b[0my\u001b[0m\u001b[1;33m)\u001b[0m\u001b[1;33m\u001b[0m\u001b[1;33m\u001b[0m\u001b[0m\n\u001b[0m\u001b[0;32m   1027\u001b[0m \u001b[1;33m\u001b[0m\u001b[0m\n",
      "\u001b[1;31mTypeError\u001b[0m: unsupported operand type(s) for /: 'str' and 'float'",
      "\nDuring handling of the above exception, another exception occurred:\n",
      "\u001b[1;31mTypeError\u001b[0m                                 Traceback (most recent call last)",
      "\u001b[1;32m<ipython-input-77-8c59771af16d>\u001b[0m in \u001b[0;36m<module>\u001b[1;34m\u001b[0m\n\u001b[1;32m----> 1\u001b[1;33m \u001b[0mgerar_grafico_suicide_gdp_pc\u001b[0m\u001b[1;33m(\u001b[0m\u001b[0mmyGroup\u001b[0m\u001b[1;33m,\u001b[0m\u001b[1;34m\"a\"\u001b[0m\u001b[1;33m,\u001b[0m\u001b[1;34m\"b\"\u001b[0m\u001b[1;33m,\u001b[0m\u001b[1;34m\"c\"\u001b[0m\u001b[1;33m)\u001b[0m\u001b[1;33m\u001b[0m\u001b[1;33m\u001b[0m\u001b[0m\n\u001b[0m",
      "\u001b[1;32m<ipython-input-76-1e613d5f1464>\u001b[0m in \u001b[0;36mgerar_grafico_suicide_gdp_pc\u001b[1;34m(df, axis_y, axis_x, title, wd)\u001b[0m\n\u001b[0;32m     16\u001b[0m \u001b[1;33m\u001b[0m\u001b[0m\n\u001b[0;32m     17\u001b[0m     \u001b[1;32mfor\u001b[0m \u001b[0mindex\u001b[0m \u001b[1;32min\u001b[0m \u001b[0mrange\u001b[0m\u001b[1;33m(\u001b[0m\u001b[0mlen\u001b[0m\u001b[1;33m(\u001b[0m\u001b[0mcountry_name\u001b[0m\u001b[1;33m)\u001b[0m\u001b[1;33m)\u001b[0m\u001b[1;33m:\u001b[0m\u001b[1;33m\u001b[0m\u001b[1;33m\u001b[0m\u001b[0m\n\u001b[1;32m---> 18\u001b[1;33m         \u001b[0mcountry_list\u001b[0m \u001b[1;33m=\u001b[0m \u001b[0mlist\u001b[0m\u001b[1;33m(\u001b[0m\u001b[1;33m(\u001b[0m\u001b[0mdf\u001b[0m\u001b[1;33m[\u001b[0m\u001b[1;34m\" gdp-year\"\u001b[0m\u001b[1;33m]\u001b[0m\u001b[1;33m[\u001b[0m\u001b[0mdf\u001b[0m\u001b[1;33m[\u001b[0m\u001b[1;34m\"country\"\u001b[0m\u001b[1;33m]\u001b[0m \u001b[1;33m==\u001b[0m \u001b[0mcountry_name\u001b[0m\u001b[1;33m[\u001b[0m\u001b[0mindex\u001b[0m\u001b[1;33m]\u001b[0m\u001b[1;33m]\u001b[0m\u001b[1;33m/\u001b[0m\u001b[1;36m321321.312312\u001b[0m\u001b[1;33m)\u001b[0m\u001b[1;33m)\u001b[0m\u001b[1;33m\u001b[0m\u001b[1;33m\u001b[0m\u001b[0m\n\u001b[0m\u001b[0;32m     19\u001b[0m         \u001b[0mcountry_list\u001b[0m \u001b[1;33m=\u001b[0m \u001b[0mnp\u001b[0m\u001b[1;33m.\u001b[0m\u001b[0masarray\u001b[0m\u001b[1;33m(\u001b[0m\u001b[0mcountry_list\u001b[0m\u001b[1;33m)\u001b[0m\u001b[1;33m\u001b[0m\u001b[1;33m\u001b[0m\u001b[0m\n\u001b[0;32m     20\u001b[0m         \u001b[0max\u001b[0m\u001b[1;33m.\u001b[0m\u001b[0mbar\u001b[0m\u001b[1;33m(\u001b[0m\u001b[0mcountry_year\u001b[0m\u001b[1;33m+\u001b[0m\u001b[1;33m(\u001b[0m\u001b[0mwd\u001b[0m\u001b[1;33m*\u001b[0m\u001b[0mlist_num\u001b[0m\u001b[1;33m[\u001b[0m\u001b[0mindex\u001b[0m\u001b[1;33m]\u001b[0m\u001b[1;33m)\u001b[0m\u001b[1;33m,\u001b[0m \u001b[0mcountry_list\u001b[0m\u001b[1;33m,\u001b[0m \u001b[0mwidth\u001b[0m\u001b[1;33m=\u001b[0m\u001b[0mwd\u001b[0m\u001b[1;33m,\u001b[0m \u001b[0malign\u001b[0m\u001b[1;33m=\u001b[0m\u001b[1;34m\"center\"\u001b[0m\u001b[1;33m,\u001b[0m \u001b[0mlabel\u001b[0m\u001b[1;33m=\u001b[0m\u001b[0mcountry_name\u001b[0m\u001b[1;33m[\u001b[0m\u001b[0mindex\u001b[0m\u001b[1;33m]\u001b[0m\u001b[1;33m,\u001b[0m \u001b[0mcolor\u001b[0m\u001b[1;33m=\u001b[0m\u001b[0mlist_colors\u001b[0m\u001b[1;33m[\u001b[0m\u001b[0mindex\u001b[0m\u001b[1;33m]\u001b[0m\u001b[1;33m)\u001b[0m\u001b[1;33m\u001b[0m\u001b[1;33m\u001b[0m\u001b[0m\n",
      "\u001b[1;32m~\\Anaconda3\\lib\\site-packages\\pandas\\core\\ops.py\u001b[0m in \u001b[0;36mwrapper\u001b[1;34m(left, right)\u001b[0m\n\u001b[0;32m   1581\u001b[0m             \u001b[0mrvalues\u001b[0m \u001b[1;33m=\u001b[0m \u001b[0mrvalues\u001b[0m\u001b[1;33m.\u001b[0m\u001b[0mvalues\u001b[0m\u001b[1;33m\u001b[0m\u001b[1;33m\u001b[0m\u001b[0m\n\u001b[0;32m   1582\u001b[0m \u001b[1;33m\u001b[0m\u001b[0m\n\u001b[1;32m-> 1583\u001b[1;33m         \u001b[0mresult\u001b[0m \u001b[1;33m=\u001b[0m \u001b[0msafe_na_op\u001b[0m\u001b[1;33m(\u001b[0m\u001b[0mlvalues\u001b[0m\u001b[1;33m,\u001b[0m \u001b[0mrvalues\u001b[0m\u001b[1;33m)\u001b[0m\u001b[1;33m\u001b[0m\u001b[1;33m\u001b[0m\u001b[0m\n\u001b[0m\u001b[0;32m   1584\u001b[0m         return construct_result(left, result,\n\u001b[0;32m   1585\u001b[0m                                 index=left.index, name=res_name, dtype=None)\n",
      "\u001b[1;32m~\\Anaconda3\\lib\\site-packages\\pandas\\core\\ops.py\u001b[0m in \u001b[0;36msafe_na_op\u001b[1;34m(lvalues, rvalues)\u001b[0m\n\u001b[0;32m   1531\u001b[0m             \u001b[1;32mif\u001b[0m \u001b[0mis_object_dtype\u001b[0m\u001b[1;33m(\u001b[0m\u001b[0mlvalues\u001b[0m\u001b[1;33m)\u001b[0m\u001b[1;33m:\u001b[0m\u001b[1;33m\u001b[0m\u001b[1;33m\u001b[0m\u001b[0m\n\u001b[0;32m   1532\u001b[0m                 return libalgos.arrmap_object(lvalues,\n\u001b[1;32m-> 1533\u001b[1;33m                                               lambda x: op(x, rvalues))\n\u001b[0m\u001b[0;32m   1534\u001b[0m             \u001b[1;32mraise\u001b[0m\u001b[1;33m\u001b[0m\u001b[1;33m\u001b[0m\u001b[0m\n\u001b[0;32m   1535\u001b[0m \u001b[1;33m\u001b[0m\u001b[0m\n",
      "\u001b[1;32mpandas/_libs/algos.pyx\u001b[0m in \u001b[0;36mpandas._libs.algos.arrmap\u001b[1;34m()\u001b[0m\n",
      "\u001b[1;32m~\\Anaconda3\\lib\\site-packages\\pandas\\core\\ops.py\u001b[0m in \u001b[0;36m<lambda>\u001b[1;34m(x)\u001b[0m\n\u001b[0;32m   1531\u001b[0m             \u001b[1;32mif\u001b[0m \u001b[0mis_object_dtype\u001b[0m\u001b[1;33m(\u001b[0m\u001b[0mlvalues\u001b[0m\u001b[1;33m)\u001b[0m\u001b[1;33m:\u001b[0m\u001b[1;33m\u001b[0m\u001b[1;33m\u001b[0m\u001b[0m\n\u001b[0;32m   1532\u001b[0m                 return libalgos.arrmap_object(lvalues,\n\u001b[1;32m-> 1533\u001b[1;33m                                               lambda x: op(x, rvalues))\n\u001b[0m\u001b[0;32m   1534\u001b[0m             \u001b[1;32mraise\u001b[0m\u001b[1;33m\u001b[0m\u001b[1;33m\u001b[0m\u001b[0m\n\u001b[0;32m   1535\u001b[0m \u001b[1;33m\u001b[0m\u001b[0m\n",
      "\u001b[1;31mTypeError\u001b[0m: unsupported operand type(s) for /: 'str' and 'float'"
     ]
    },
    {
     "data": {
      "image/png": "[encoded data removed]",
      "text/plain": [
       "<Figure size 720x720 with 1 Axes>"
      ]
     },
     "metadata": {},
     "output_type": "display_data"
    }
   ],
   "source": [
    "gerar_grafico_suicide_gdp_pc(myGroup,\"a\",\"b\",\"c\")"
   ]
  },
  {
   "cell_type": "code",
   "execution_count": null,
   "metadata": {},
   "outputs": [],
   "source": []
  }
 ],
 "metadata": {
  "kernelspec": {
   "display_name": "Python 3",
   "language": "python",
   "name": "python3"
  },
  "language_info": {
   "codemirror_mode": {
    "name": "ipython",
    "version": 3
   },
   "file_extension": ".py",
   "mimetype": "text/x-python",
   "name": "python",
   "nbconvert_exporter": "python",
   "pygments_lexer": "ipython3",
   "version": "3.7.3"
  }
 },
 "nbformat": 4,
 "nbformat_minor": 2
}
